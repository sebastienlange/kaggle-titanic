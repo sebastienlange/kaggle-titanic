{
 "cells": [
  {
   "cell_type": "markdown",
   "metadata": {
    "toc": true
   },
   "source": [
    "<h1>Table of Contents<span class=\"tocSkip\"></span></h1>\n",
    "<div class=\"toc\"><ul class=\"toc-item\"></ul></div>"
   ]
  },
  {
   "cell_type": "code",
   "execution_count": 85,
   "metadata": {},
   "outputs": [],
   "source": [
    "import pandas as pd\n",
    "import numpy as np\n",
    "import random as random"
   ]
  },
  {
   "cell_type": "code",
   "execution_count": 7,
   "metadata": {},
   "outputs": [],
   "source": [
    "models = [{'model_class': 'SVM', \n",
    "           'param_grid': {\n",
    "               'n_estimators': [10, 50, 100]\n",
    "           },\n",
    "           'trials': {\n",
    "               1: {\n",
    "                   'accuracy': 80,\n",
    "                   'best_params': {\n",
    "                       'n_estimators': [50]\n",
    "                   }\n",
    "               }\n",
    "           }\n",
    "          }]"
   ]
  },
  {
   "cell_type": "code",
   "execution_count": 9,
   "metadata": {},
   "outputs": [],
   "source": [
    "models = {'SVM': { 'param_grid': {\n",
    "               'n_estimators': [10, 50, 100]\n",
    "           },\n",
    "           'trials': {\n",
    "               1: {\n",
    "                   'accuracy': 80,\n",
    "                   'best_params': {\n",
    "                       'n_estimators': [50]\n",
    "                   }\n",
    "               }\n",
    "           }\n",
    "        }\n",
    "        }\n",
    "        "
   ]
  },
  {
   "cell_type": "code",
   "execution_count": 14,
   "metadata": {},
   "outputs": [],
   "source": [
    "trials = models['SVM']['trials']"
   ]
  },
  {
   "cell_type": "code",
   "execution_count": 32,
   "metadata": {},
   "outputs": [],
   "source": [
    "my_range = [10, 50, 100]"
   ]
  },
  {
   "cell_type": "code",
   "execution_count": 10,
   "metadata": {},
   "outputs": [],
   "source": [
    "best_item = 50"
   ]
  },
  {
   "cell_type": "code",
   "execution_count": 13,
   "metadata": {},
   "outputs": [],
   "source": [
    "idx = my_range.index(best_item)\n",
    "\n",
    "new_range = [np.mean([best_item, my_range[idx-1]]), best_item, np.mean([best_item, my_range[idx+1]])]"
   ]
  },
  {
   "cell_type": "code",
   "execution_count": 14,
   "metadata": {},
   "outputs": [
    {
     "data": {
      "text/plain": [
       "[30.0, 50, 75.0]"
      ]
     },
     "execution_count": 14,
     "metadata": {},
     "output_type": "execute_result"
    }
   ],
   "source": [
    "new_range"
   ]
  },
  {
   "cell_type": "code",
   "execution_count": 92,
   "metadata": {},
   "outputs": [],
   "source": [
    "def tune_range(initial_range, best_value, reduce_range=1.0):\n",
    "    \n",
    "    if len(initial_range) == 1:\n",
    "        return initial_range\n",
    "    \n",
    "    idx = initial_range.index(best_value)\n",
    "    \n",
    "    if idx == 0:\n",
    "        start = max(best_value/2, best_value - np.mean([best_value, initial_range[idx+1]])/2)\n",
    "    else:\n",
    "        start = np.mean([initial_range[idx-1], best_value])\n",
    "        \n",
    "    if idx == len(initial_range)-1:\n",
    "        stop = best_value + np.mean([initial_range[idx-1], best_value])\n",
    "    else:\n",
    "        stop = np.mean([initial_range[idx+1], best_value])\n",
    "        \n",
    "    return list(np.linspace(start, stop, round(len(initial_range)*reduce_range)))"
   ]
  },
  {
   "cell_type": "code",
   "execution_count": 40,
   "metadata": {},
   "outputs": [
    {
     "data": {
      "text/plain": [
       "[30.0, 30.3515625, 30.703125]"
      ]
     },
     "execution_count": 40,
     "metadata": {},
     "output_type": "execute_result"
    }
   ],
   "source": [
    "my_range=tune_range(my_range, 30)\n",
    "my_range"
   ]
  },
  {
   "cell_type": "code",
   "execution_count": 93,
   "metadata": {},
   "outputs": [
    {
     "data": {
      "text/plain": [
       "[0.005, 0.01, 0.015, 0.02]"
      ]
     },
     "execution_count": 93,
     "metadata": {},
     "output_type": "execute_result"
    }
   ],
   "source": [
    "learning_rate = [0.01, 0.03, 0.1, 0.3, 1]\n",
    "learning_rate=tune_range(learning_rate, 0.01, 0.75)\n",
    "learning_rate"
   ]
  },
  {
   "cell_type": "code",
   "execution_count": 91,
   "metadata": {},
   "outputs": [
    {
     "name": "stdout",
     "output_type": "stream",
     "text": [
      "[0.2, 0.35, 0.5, 0.65]\n",
      "[0.425, 0.5, 0.575]\n",
      "[0.2125, 0.4625]\n"
     ]
    }
   ],
   "source": [
    "for i in range(3):\n",
    "    learning_rate=tune_range(learning_rate, random.choice(learning_rate), 0.75)\n",
    "    print(learning_rate)"
   ]
  },
  {
   "cell_type": "code",
   "execution_count": 79,
   "metadata": {},
   "outputs": [
    {
     "data": {
      "text/plain": [
       "[0.004375]"
      ]
     },
     "execution_count": 79,
     "metadata": {},
     "output_type": "execute_result"
    }
   ],
   "source": [
    "learning_rate"
   ]
  },
  {
   "cell_type": "code",
   "execution_count": 52,
   "metadata": {},
   "outputs": [
    {
     "data": {
      "text/plain": [
       "-0.19"
      ]
     },
     "execution_count": 52,
     "metadata": {},
     "output_type": "execute_result"
    }
   ],
   "source": [
    "0.01 - np.mean([0.1, 0.3])"
   ]
  },
  {
   "cell_type": "code",
   "execution_count": null,
   "metadata": {},
   "outputs": [],
   "source": []
  }
 ],
 "metadata": {
  "kernelspec": {
   "display_name": "Python 3",
   "language": "python",
   "name": "python3"
  },
  "toc": {
   "base_numbering": 1,
   "nav_menu": {},
   "number_sections": true,
   "sideBar": true,
   "skip_h1_title": false,
   "title_cell": "Table of Contents",
   "title_sidebar": "Contents",
   "toc_cell": true,
   "toc_position": {},
   "toc_section_display": true,
   "toc_window_display": false
  }
 },
 "nbformat": 4,
 "nbformat_minor": 2
}
