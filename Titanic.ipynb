{
 "cells": [
  {
   "cell_type": "markdown",
   "metadata": {
    "toc": true
   },
   "source": [
    "<h1>Table of Contents<span class=\"tocSkip\"></span></h1>\n",
    "<div class=\"toc\"><ul class=\"toc-item\"><li><span><a href=\"#Gathering-data\" data-toc-modified-id=\"Gathering-data-1\"><span class=\"toc-item-num\">1&nbsp;&nbsp;</span>Gathering data</a></span></li><li><span><a href=\"#Preparing-the-data---cleaning-and-exploration\" data-toc-modified-id=\"Preparing-the-data---cleaning-and-exploration-2\"><span class=\"toc-item-num\">2&nbsp;&nbsp;</span>Preparing the data - cleaning and exploration</a></span><ul class=\"toc-item\"><li><span><a href=\"#Title-column\" data-toc-modified-id=\"Title-column-2.1\"><span class=\"toc-item-num\">2.1&nbsp;&nbsp;</span>Title column</a></span></li><li><span><a href=\"#Age-column\" data-toc-modified-id=\"Age-column-2.2\"><span class=\"toc-item-num\">2.2&nbsp;&nbsp;</span>Age column</a></span></li><li><span><a href=\"#Fare-column\" data-toc-modified-id=\"Fare-column-2.3\"><span class=\"toc-item-num\">2.3&nbsp;&nbsp;</span>Fare column</a></span></li><li><span><a href=\"#Sex-column\" data-toc-modified-id=\"Sex-column-2.4\"><span class=\"toc-item-num\">2.4&nbsp;&nbsp;</span>Sex column</a></span></li><li><span><a href=\"#Embarked-column\" data-toc-modified-id=\"Embarked-column-2.5\"><span class=\"toc-item-num\">2.5&nbsp;&nbsp;</span>Embarked column</a></span></li><li><span><a href=\"#FamilySize-and-IsAlone-columns\" data-toc-modified-id=\"FamilySize-and-IsAlone-columns-2.6\"><span class=\"toc-item-num\">2.6&nbsp;&nbsp;</span>FamilySize and IsAlone columns</a></span></li><li><span><a href=\"#Cabin-column\" data-toc-modified-id=\"Cabin-column-2.7\"><span class=\"toc-item-num\">2.7&nbsp;&nbsp;</span>Cabin column</a></span></li><li><span><a href=\"#Select-features\" data-toc-modified-id=\"Select-features-2.8\"><span class=\"toc-item-num\">2.8&nbsp;&nbsp;</span>Select features</a></span></li></ul></li><li><span><a href=\"#Choosing-a-model\" data-toc-modified-id=\"Choosing-a-model-3\"><span class=\"toc-item-num\">3&nbsp;&nbsp;</span>Choosing a model</a></span></li><li><span><a href=\"#Training-models\" data-toc-modified-id=\"Training-models-4\"><span class=\"toc-item-num\">4&nbsp;&nbsp;</span>Training models</a></span></li><li><span><a href=\"#Evaluating-models\" data-toc-modified-id=\"Evaluating-models-5\"><span class=\"toc-item-num\">5&nbsp;&nbsp;</span>Evaluating models</a></span></li><li><span><a href=\"#Hyperparameter-Tuning\" data-toc-modified-id=\"Hyperparameter-Tuning-6\"><span class=\"toc-item-num\">6&nbsp;&nbsp;</span>Hyperparameter Tuning</a></span><ul class=\"toc-item\"><li><span><a href=\"#Tuning-with-RandomizedSearchCV\" data-toc-modified-id=\"Tuning-with-RandomizedSearchCV-6.1\"><span class=\"toc-item-num\">6.1&nbsp;&nbsp;</span>Tuning with RandomizedSearchCV</a></span></li><li><span><a href=\"#Tuning-with-GridSearchCV\" data-toc-modified-id=\"Tuning-with-GridSearchCV-6.2\"><span class=\"toc-item-num\">6.2&nbsp;&nbsp;</span>Tuning with GridSearchCV</a></span><ul class=\"toc-item\"><li><span><a href=\"#GradientBoostingClassifier\" data-toc-modified-id=\"GradientBoostingClassifier-6.2.1\"><span class=\"toc-item-num\">6.2.1&nbsp;&nbsp;</span>GradientBoostingClassifier</a></span></li><li><span><a href=\"#XGBClassifier\" data-toc-modified-id=\"XGBClassifier-6.2.2\"><span class=\"toc-item-num\">6.2.2&nbsp;&nbsp;</span>XGBClassifier</a></span></li><li><span><a href=\"#RandomForestClassifier\" data-toc-modified-id=\"RandomForestClassifier-6.2.3\"><span class=\"toc-item-num\">6.2.3&nbsp;&nbsp;</span>RandomForestClassifier</a></span></li></ul></li></ul></li><li><span><a href=\"#Making-Predictions\" data-toc-modified-id=\"Making-Predictions-7\"><span class=\"toc-item-num\">7&nbsp;&nbsp;</span>Making Predictions</a></span></li></ul></div>"
   ]
  },
  {
   "cell_type": "markdown",
   "metadata": {},
   "source": [
    "# Gathering data"
   ]
  },
  {
   "cell_type": "code",
   "execution_count": 122,
   "metadata": {
    "ExecuteTime": {
     "end_time": "2019-01-22T10:39:46.836839Z",
     "start_time": "2019-01-22T10:39:46.828861Z"
    }
   },
   "outputs": [],
   "source": [
    "import pandas as pd\n",
    "import numpy as np\n",
    "\n",
    "import seaborn as sns\n",
    "from matplotlib.pyplot import plot as plt\n",
    "%matplotlib inline"
   ]
  },
  {
   "cell_type": "code",
   "execution_count": 2,
   "metadata": {
    "ExecuteTime": {
     "end_time": "2019-01-21T14:07:39.734432Z",
     "start_time": "2019-01-21T14:07:39.527768Z"
    }
   },
   "outputs": [],
   "source": [
    "train_df = pd.read_csv('train.csv')\n",
    "test_df = pd.read_csv('test.csv')\n",
    "combined = [train_df,test_df]\n",
    "combined_df = pd.concat(combined, sort=False)"
   ]
  },
  {
   "cell_type": "markdown",
   "metadata": {},
   "source": [
    "# Preparing the data - cleaning and exploration"
   ]
  },
  {
   "cell_type": "code",
   "execution_count": 3,
   "metadata": {
    "ExecuteTime": {
     "end_time": "2019-01-21T14:07:39.760427Z",
     "start_time": "2019-01-21T14:07:39.735429Z"
    }
   },
   "outputs": [
    {
     "data": {
      "text/html": [
       "<div>\n",
       "<style scoped>\n",
       "    .dataframe tbody tr th:only-of-type {\n",
       "        vertical-align: middle;\n",
       "    }\n",
       "\n",
       "    .dataframe tbody tr th {\n",
       "        vertical-align: top;\n",
       "    }\n",
       "\n",
       "    .dataframe thead th {\n",
       "        text-align: right;\n",
       "    }\n",
       "</style>\n",
       "<table border=\"1\" class=\"dataframe\">\n",
       "  <thead>\n",
       "    <tr style=\"text-align: right;\">\n",
       "      <th></th>\n",
       "      <th>PassengerId</th>\n",
       "      <th>Survived</th>\n",
       "      <th>Pclass</th>\n",
       "      <th>Name</th>\n",
       "      <th>Sex</th>\n",
       "      <th>Age</th>\n",
       "      <th>SibSp</th>\n",
       "      <th>Parch</th>\n",
       "      <th>Ticket</th>\n",
       "      <th>Fare</th>\n",
       "      <th>Cabin</th>\n",
       "      <th>Embarked</th>\n",
       "    </tr>\n",
       "  </thead>\n",
       "  <tbody>\n",
       "    <tr>\n",
       "      <th>0</th>\n",
       "      <td>1</td>\n",
       "      <td>0</td>\n",
       "      <td>3</td>\n",
       "      <td>Braund, Mr. Owen Harris</td>\n",
       "      <td>male</td>\n",
       "      <td>22.0</td>\n",
       "      <td>1</td>\n",
       "      <td>0</td>\n",
       "      <td>A/5 21171</td>\n",
       "      <td>7.2500</td>\n",
       "      <td>NaN</td>\n",
       "      <td>S</td>\n",
       "    </tr>\n",
       "    <tr>\n",
       "      <th>1</th>\n",
       "      <td>2</td>\n",
       "      <td>1</td>\n",
       "      <td>1</td>\n",
       "      <td>Cumings, Mrs. John Bradley (Florence Briggs Th...</td>\n",
       "      <td>female</td>\n",
       "      <td>38.0</td>\n",
       "      <td>1</td>\n",
       "      <td>0</td>\n",
       "      <td>PC 17599</td>\n",
       "      <td>71.2833</td>\n",
       "      <td>C85</td>\n",
       "      <td>C</td>\n",
       "    </tr>\n",
       "    <tr>\n",
       "      <th>2</th>\n",
       "      <td>3</td>\n",
       "      <td>1</td>\n",
       "      <td>3</td>\n",
       "      <td>Heikkinen, Miss. Laina</td>\n",
       "      <td>female</td>\n",
       "      <td>26.0</td>\n",
       "      <td>0</td>\n",
       "      <td>0</td>\n",
       "      <td>STON/O2. 3101282</td>\n",
       "      <td>7.9250</td>\n",
       "      <td>NaN</td>\n",
       "      <td>S</td>\n",
       "    </tr>\n",
       "    <tr>\n",
       "      <th>3</th>\n",
       "      <td>4</td>\n",
       "      <td>1</td>\n",
       "      <td>1</td>\n",
       "      <td>Futrelle, Mrs. Jacques Heath (Lily May Peel)</td>\n",
       "      <td>female</td>\n",
       "      <td>35.0</td>\n",
       "      <td>1</td>\n",
       "      <td>0</td>\n",
       "      <td>113803</td>\n",
       "      <td>53.1000</td>\n",
       "      <td>C123</td>\n",
       "      <td>S</td>\n",
       "    </tr>\n",
       "    <tr>\n",
       "      <th>4</th>\n",
       "      <td>5</td>\n",
       "      <td>0</td>\n",
       "      <td>3</td>\n",
       "      <td>Allen, Mr. William Henry</td>\n",
       "      <td>male</td>\n",
       "      <td>35.0</td>\n",
       "      <td>0</td>\n",
       "      <td>0</td>\n",
       "      <td>373450</td>\n",
       "      <td>8.0500</td>\n",
       "      <td>NaN</td>\n",
       "      <td>S</td>\n",
       "    </tr>\n",
       "  </tbody>\n",
       "</table>\n",
       "</div>"
      ],
      "text/plain": [
       "   PassengerId  Survived  Pclass  \\\n",
       "0            1         0       3   \n",
       "1            2         1       1   \n",
       "2            3         1       3   \n",
       "3            4         1       1   \n",
       "4            5         0       3   \n",
       "\n",
       "                                                Name     Sex   Age  SibSp  \\\n",
       "0                            Braund, Mr. Owen Harris    male  22.0      1   \n",
       "1  Cumings, Mrs. John Bradley (Florence Briggs Th...  female  38.0      1   \n",
       "2                             Heikkinen, Miss. Laina  female  26.0      0   \n",
       "3       Futrelle, Mrs. Jacques Heath (Lily May Peel)  female  35.0      1   \n",
       "4                           Allen, Mr. William Henry    male  35.0      0   \n",
       "\n",
       "   Parch            Ticket     Fare Cabin Embarked  \n",
       "0      0         A/5 21171   7.2500   NaN        S  \n",
       "1      0          PC 17599  71.2833   C85        C  \n",
       "2      0  STON/O2. 3101282   7.9250   NaN        S  \n",
       "3      0            113803  53.1000  C123        S  \n",
       "4      0            373450   8.0500   NaN        S  "
      ]
     },
     "execution_count": 3,
     "metadata": {},
     "output_type": "execute_result"
    }
   ],
   "source": [
    "train_df.head(5)"
   ]
  },
  {
   "cell_type": "code",
   "execution_count": 4,
   "metadata": {
    "ExecuteTime": {
     "end_time": "2019-01-21T14:07:39.796374Z",
     "start_time": "2019-01-21T14:07:39.765398Z"
    }
   },
   "outputs": [
    {
     "data": {
      "text/html": [
       "<div>\n",
       "<style scoped>\n",
       "    .dataframe tbody tr th:only-of-type {\n",
       "        vertical-align: middle;\n",
       "    }\n",
       "\n",
       "    .dataframe tbody tr th {\n",
       "        vertical-align: top;\n",
       "    }\n",
       "\n",
       "    .dataframe thead th {\n",
       "        text-align: right;\n",
       "    }\n",
       "</style>\n",
       "<table border=\"1\" class=\"dataframe\">\n",
       "  <thead>\n",
       "    <tr style=\"text-align: right;\">\n",
       "      <th></th>\n",
       "      <th>PassengerId</th>\n",
       "      <th>Survived</th>\n",
       "      <th>Pclass</th>\n",
       "      <th>Age</th>\n",
       "      <th>SibSp</th>\n",
       "      <th>Parch</th>\n",
       "      <th>Fare</th>\n",
       "    </tr>\n",
       "  </thead>\n",
       "  <tbody>\n",
       "    <tr>\n",
       "      <th>count</th>\n",
       "      <td>891.000000</td>\n",
       "      <td>891.000000</td>\n",
       "      <td>891.000000</td>\n",
       "      <td>714.000000</td>\n",
       "      <td>891.000000</td>\n",
       "      <td>891.000000</td>\n",
       "      <td>891.000000</td>\n",
       "    </tr>\n",
       "    <tr>\n",
       "      <th>mean</th>\n",
       "      <td>446.000000</td>\n",
       "      <td>0.383838</td>\n",
       "      <td>2.308642</td>\n",
       "      <td>29.699118</td>\n",
       "      <td>0.523008</td>\n",
       "      <td>0.381594</td>\n",
       "      <td>32.204208</td>\n",
       "    </tr>\n",
       "    <tr>\n",
       "      <th>std</th>\n",
       "      <td>257.353842</td>\n",
       "      <td>0.486592</td>\n",
       "      <td>0.836071</td>\n",
       "      <td>14.526497</td>\n",
       "      <td>1.102743</td>\n",
       "      <td>0.806057</td>\n",
       "      <td>49.693429</td>\n",
       "    </tr>\n",
       "    <tr>\n",
       "      <th>min</th>\n",
       "      <td>1.000000</td>\n",
       "      <td>0.000000</td>\n",
       "      <td>1.000000</td>\n",
       "      <td>0.420000</td>\n",
       "      <td>0.000000</td>\n",
       "      <td>0.000000</td>\n",
       "      <td>0.000000</td>\n",
       "    </tr>\n",
       "    <tr>\n",
       "      <th>25%</th>\n",
       "      <td>223.500000</td>\n",
       "      <td>0.000000</td>\n",
       "      <td>2.000000</td>\n",
       "      <td>20.125000</td>\n",
       "      <td>0.000000</td>\n",
       "      <td>0.000000</td>\n",
       "      <td>7.910400</td>\n",
       "    </tr>\n",
       "    <tr>\n",
       "      <th>50%</th>\n",
       "      <td>446.000000</td>\n",
       "      <td>0.000000</td>\n",
       "      <td>3.000000</td>\n",
       "      <td>28.000000</td>\n",
       "      <td>0.000000</td>\n",
       "      <td>0.000000</td>\n",
       "      <td>14.454200</td>\n",
       "    </tr>\n",
       "    <tr>\n",
       "      <th>75%</th>\n",
       "      <td>668.500000</td>\n",
       "      <td>1.000000</td>\n",
       "      <td>3.000000</td>\n",
       "      <td>38.000000</td>\n",
       "      <td>1.000000</td>\n",
       "      <td>0.000000</td>\n",
       "      <td>31.000000</td>\n",
       "    </tr>\n",
       "    <tr>\n",
       "      <th>max</th>\n",
       "      <td>891.000000</td>\n",
       "      <td>1.000000</td>\n",
       "      <td>3.000000</td>\n",
       "      <td>80.000000</td>\n",
       "      <td>8.000000</td>\n",
       "      <td>6.000000</td>\n",
       "      <td>512.329200</td>\n",
       "    </tr>\n",
       "  </tbody>\n",
       "</table>\n",
       "</div>"
      ],
      "text/plain": [
       "       PassengerId    Survived      Pclass         Age       SibSp  \\\n",
       "count   891.000000  891.000000  891.000000  714.000000  891.000000   \n",
       "mean    446.000000    0.383838    2.308642   29.699118    0.523008   \n",
       "std     257.353842    0.486592    0.836071   14.526497    1.102743   \n",
       "min       1.000000    0.000000    1.000000    0.420000    0.000000   \n",
       "25%     223.500000    0.000000    2.000000   20.125000    0.000000   \n",
       "50%     446.000000    0.000000    3.000000   28.000000    0.000000   \n",
       "75%     668.500000    1.000000    3.000000   38.000000    1.000000   \n",
       "max     891.000000    1.000000    3.000000   80.000000    8.000000   \n",
       "\n",
       "            Parch        Fare  \n",
       "count  891.000000  891.000000  \n",
       "mean     0.381594   32.204208  \n",
       "std      0.806057   49.693429  \n",
       "min      0.000000    0.000000  \n",
       "25%      0.000000    7.910400  \n",
       "50%      0.000000   14.454200  \n",
       "75%      0.000000   31.000000  \n",
       "max      6.000000  512.329200  "
      ]
     },
     "execution_count": 4,
     "metadata": {},
     "output_type": "execute_result"
    }
   ],
   "source": [
    "train_df.describe()"
   ]
  },
  {
   "cell_type": "code",
   "execution_count": 5,
   "metadata": {
    "ExecuteTime": {
     "end_time": "2019-01-21T14:07:39.806287Z",
     "start_time": "2019-01-21T14:07:39.799348Z"
    }
   },
   "outputs": [
    {
     "data": {
      "text/plain": [
       "PassengerId       0\n",
       "Survived        418\n",
       "Pclass            0\n",
       "Name              0\n",
       "Sex               0\n",
       "Age             263\n",
       "SibSp             0\n",
       "Parch             0\n",
       "Ticket            0\n",
       "Fare              1\n",
       "Cabin          1014\n",
       "Embarked          2\n",
       "dtype: int64"
      ]
     },
     "execution_count": 5,
     "metadata": {},
     "output_type": "execute_result"
    }
   ],
   "source": [
    "combined_df.isnull().sum()"
   ]
  },
  {
   "cell_type": "markdown",
   "metadata": {},
   "source": [
    "Age is partially missing so we will fill it with some values.  \n",
    "Cabin is mainly missing so we won't use it as a feature."
   ]
  },
  {
   "cell_type": "markdown",
   "metadata": {},
   "source": [
    "## Title column"
   ]
  },
  {
   "cell_type": "code",
   "execution_count": 6,
   "metadata": {
    "ExecuteTime": {
     "end_time": "2019-01-21T14:07:39.813307Z",
     "start_time": "2019-01-21T14:07:39.807286Z"
    }
   },
   "outputs": [],
   "source": [
    "def create_title_column(dataframe):\n",
    "    dataframe['Title'] = dataframe['Name'].str.split(\", \", expand=True)[1].str.split(\".\", expand=True)[0]\n",
    "    dataframe['Title'] = dataframe['Title'].replace('Mlle', 'Miss')\n",
    "    dataframe['Title'] = dataframe['Title'].replace('Ms', 'Miss')\n",
    "    dataframe['Title'] = dataframe['Title'].replace('Mme', 'Mrs')\n",
    "    \n",
    "    stat_min = 10 #while small is arbitrary, we'll use the common minimum in statistics: http://nicholasjjackson.com/2012/03/08/sample-size-is-10-a-magic-number/\n",
    "    title_names = (dataframe['Title'].value_counts() < stat_min) #this will create a true false series with title name as index\n",
    "    #apply and lambda functions are quick and dirty code to find and replace with fewer lines of code: https://community.modeanalytics.com/python/tutorial/pandas-groupby-and-python-lambda-functions/\n",
    "    dataframe['Title'] = dataframe['Title'].apply(lambda x: 'Misc' if title_names.loc[x] == True else x)\n",
    "    print(dataframe['Title'].value_counts())\n",
    "    return pd.Categorical(dataframe['Title']).codes"
   ]
  },
  {
   "cell_type": "code",
   "execution_count": 7,
   "metadata": {
    "ExecuteTime": {
     "end_time": "2019-01-21T14:07:39.882084Z",
     "start_time": "2019-01-21T14:07:39.814267Z"
    }
   },
   "outputs": [
    {
     "name": "stdout",
     "output_type": "stream",
     "text": [
      "Mr        517\n",
      "Miss      185\n",
      "Mrs       126\n",
      "Master     40\n",
      "Misc       23\n",
      "Name: Title, dtype: int64\n",
      "Mr        240\n",
      "Miss       79\n",
      "Mrs        72\n",
      "Master     21\n",
      "Misc        6\n",
      "Name: Title, dtype: int64\n"
     ]
    }
   ],
   "source": [
    "for df in combined:\n",
    "    df['Title'] = create_title_column(df)"
   ]
  },
  {
   "cell_type": "markdown",
   "metadata": {},
   "source": [
    "## Age column"
   ]
  },
  {
   "cell_type": "code",
   "execution_count": 8,
   "metadata": {
    "ExecuteTime": {
     "end_time": "2019-01-21T14:07:39.892111Z",
     "start_time": "2019-01-21T14:07:39.883083Z"
    }
   },
   "outputs": [
    {
     "data": {
      "text/plain": [
       "Pclass\n",
       "1    39.159930\n",
       "2    29.506705\n",
       "3    24.816367\n",
       "Name: Age, dtype: float64"
      ]
     },
     "execution_count": 8,
     "metadata": {},
     "output_type": "execute_result"
    }
   ],
   "source": [
    "mean_age_by_pclass = combined_df.groupby('Pclass').mean()['Age']\n",
    "mean_age_by_pclass"
   ]
  },
  {
   "cell_type": "code",
   "execution_count": 9,
   "metadata": {
    "ExecuteTime": {
     "end_time": "2019-01-21T14:07:39.897045Z",
     "start_time": "2019-01-21T14:07:39.893055Z"
    }
   },
   "outputs": [],
   "source": [
    "def compute_age(row):\n",
    "    if pd.isnull(row['Age']):\n",
    "        return mean_age_by_pclass[row['Pclass']]\n",
    "    return row['Age']"
   ]
  },
  {
   "cell_type": "code",
   "execution_count": null,
   "metadata": {},
   "outputs": [],
   "source": []
  },
  {
   "cell_type": "code",
   "execution_count": 10,
   "metadata": {
    "ExecuteTime": {
     "end_time": "2019-01-21T14:07:39.929958Z",
     "start_time": "2019-01-21T14:07:39.899040Z"
    }
   },
   "outputs": [],
   "source": [
    "for df in combined:\n",
    "    df[\"Age\"] = df.apply(compute_age, axis=1)"
   ]
  },
  {
   "cell_type": "code",
   "execution_count": null,
   "metadata": {},
   "outputs": [],
   "source": []
  },
  {
   "cell_type": "code",
   "execution_count": 11,
   "metadata": {
    "ExecuteTime": {
     "end_time": "2019-01-21T14:07:39.936938Z",
     "start_time": "2019-01-21T14:07:39.931988Z"
    }
   },
   "outputs": [],
   "source": [
    "def get_quantile_based_boundaries(feature_values, num_buckets):\n",
    "  boundaries = np.arange(1.0, num_buckets) / num_buckets\n",
    "  quantiles = feature_values.quantile(boundaries)\n",
    "  return [quantiles[q] for q in quantiles.keys()]"
   ]
  },
  {
   "cell_type": "code",
   "execution_count": 12,
   "metadata": {
    "ExecuteTime": {
     "end_time": "2019-01-21T14:07:39.944929Z",
     "start_time": "2019-01-21T14:07:39.937935Z"
    }
   },
   "outputs": [],
   "source": [
    "for df in combined:\n",
    "    df['IsChild'] = df['Age']<15"
   ]
  },
  {
   "cell_type": "code",
   "execution_count": 13,
   "metadata": {
    "ExecuteTime": {
     "end_time": "2019-01-21T14:07:39.954943Z",
     "start_time": "2019-01-21T14:07:39.945916Z"
    }
   },
   "outputs": [],
   "source": [
    "def compute_band(row, column_name, boundaries):\n",
    "    i=0\n",
    "    for boundary in boundaries:\n",
    "        if row[column_name] < boundary:\n",
    "            return i\n",
    "        i=i+1\n",
    "    return len(boundaries)"
   ]
  },
  {
   "cell_type": "code",
   "execution_count": 14,
   "metadata": {
    "ExecuteTime": {
     "end_time": "2019-01-21T14:07:40.048002Z",
     "start_time": "2019-01-21T14:07:39.955887Z"
    }
   },
   "outputs": [],
   "source": [
    "for i in np.arange(3, 6):\n",
    "    age_boundaries = get_quantile_based_boundaries(combined_df.Age, i)\n",
    "    for df in combined:\n",
    "        df[\"Age_band_\" + str(i)] = df.apply(lambda row : compute_band(row, 'Age', age_boundaries), axis=1)"
   ]
  },
  {
   "cell_type": "code",
   "execution_count": 15,
   "metadata": {
    "ExecuteTime": {
     "end_time": "2019-01-21T14:07:40.265600Z",
     "start_time": "2019-01-21T14:07:40.049681Z"
    }
   },
   "outputs": [
    {
     "name": "stderr",
     "output_type": "stream",
     "text": [
      "C:\\Users\\lange\\Anaconda3\\lib\\site-packages\\scipy\\stats\\stats.py:1713: FutureWarning: Using a non-tuple sequence for multidimensional indexing is deprecated; use `arr[tuple(seq)]` instead of `arr[seq]`. In the future this will be interpreted as an array index, `arr[np.array(seq)]`, which will result either in an error or a different result.\n",
      "  return np.add.reduce(sorted[indexer] * weights, axis=axis) / sumval\n"
     ]
    },
    {
     "data": {
      "text/plain": [
       "<matplotlib.axes._subplots.AxesSubplot at 0x2d17f9c8f98>"
      ]
     },
     "execution_count": 15,
     "metadata": {},
     "output_type": "execute_result"
    },
    {
     "data": {
      "image/png": "[encoded data removed]",
      "text/plain": [
       "<Figure size 432x288 with 1 Axes>"
      ]
     },
     "metadata": {
      "needs_background": "light"
     },
     "output_type": "display_data"
    }
   ],
   "source": [
    "sns.distplot(train_df.Age_band_5)"
   ]
  },
  {
   "cell_type": "markdown",
   "metadata": {},
   "source": [
    "## Fare column"
   ]
  },
  {
   "cell_type": "code",
   "execution_count": 16,
   "metadata": {
    "ExecuteTime": {
     "end_time": "2019-01-21T14:07:40.459076Z",
     "start_time": "2019-01-21T14:07:40.266561Z"
    }
   },
   "outputs": [
    {
     "data": {
      "text/plain": [
       "<matplotlib.axes._subplots.AxesSubplot at 0x2d17fd3c438>"
      ]
     },
     "execution_count": 16,
     "metadata": {},
     "output_type": "execute_result"
    },
    {
     "data": {
      "image/png": "[encoded data removed]",
      "text/plain": [
       "<Figure size 432x288 with 1 Axes>"
      ]
     },
     "metadata": {
      "needs_background": "light"
     },
     "output_type": "display_data"
    }
   ],
   "source": [
    "sns.distplot(train_df.Fare)"
   ]
  },
  {
   "cell_type": "markdown",
   "metadata": {},
   "source": [
    "There's one missing fare, so we'll fill it with the mean fare given Pclass. "
   ]
  },
  {
   "cell_type": "code",
   "execution_count": 17,
   "metadata": {
    "ExecuteTime": {
     "end_time": "2019-01-21T14:07:40.472997Z",
     "start_time": "2019-01-21T14:07:40.460031Z"
    }
   },
   "outputs": [
    {
     "data": {
      "text/html": [
       "<div>\n",
       "<style scoped>\n",
       "    .dataframe tbody tr th:only-of-type {\n",
       "        vertical-align: middle;\n",
       "    }\n",
       "\n",
       "    .dataframe tbody tr th {\n",
       "        vertical-align: top;\n",
       "    }\n",
       "\n",
       "    .dataframe thead th {\n",
       "        text-align: right;\n",
       "    }\n",
       "</style>\n",
       "<table border=\"1\" class=\"dataframe\">\n",
       "  <thead>\n",
       "    <tr style=\"text-align: right;\">\n",
       "      <th></th>\n",
       "      <th>PassengerId</th>\n",
       "      <th>Pclass</th>\n",
       "      <th>Name</th>\n",
       "      <th>Sex</th>\n",
       "      <th>Age</th>\n",
       "      <th>SibSp</th>\n",
       "      <th>Parch</th>\n",
       "      <th>Ticket</th>\n",
       "      <th>Fare</th>\n",
       "      <th>Cabin</th>\n",
       "      <th>Embarked</th>\n",
       "      <th>Title</th>\n",
       "      <th>IsChild</th>\n",
       "      <th>Age_band_3</th>\n",
       "      <th>Age_band_4</th>\n",
       "      <th>Age_band_5</th>\n",
       "    </tr>\n",
       "  </thead>\n",
       "  <tbody>\n",
       "    <tr>\n",
       "      <th>152</th>\n",
       "      <td>1044</td>\n",
       "      <td>3</td>\n",
       "      <td>Storey, Mr. Thomas</td>\n",
       "      <td>male</td>\n",
       "      <td>60.5</td>\n",
       "      <td>0</td>\n",
       "      <td>0</td>\n",
       "      <td>3701</td>\n",
       "      <td>NaN</td>\n",
       "      <td>NaN</td>\n",
       "      <td>S</td>\n",
       "      <td>3</td>\n",
       "      <td>False</td>\n",
       "      <td>2</td>\n",
       "      <td>3</td>\n",
       "      <td>4</td>\n",
       "    </tr>\n",
       "  </tbody>\n",
       "</table>\n",
       "</div>"
      ],
      "text/plain": [
       "     PassengerId  Pclass                Name   Sex   Age  SibSp  Parch Ticket  \\\n",
       "152         1044       3  Storey, Mr. Thomas  male  60.5      0      0   3701   \n",
       "\n",
       "     Fare Cabin Embarked  Title  IsChild  Age_band_3  Age_band_4  Age_band_5  \n",
       "152   NaN   NaN        S      3    False           2           3           4  "
      ]
     },
     "execution_count": 17,
     "metadata": {},
     "output_type": "execute_result"
    }
   ],
   "source": [
    "missing_fare = test_df[test_df['Fare'].isna()]\n",
    "missing_fare"
   ]
  },
  {
   "cell_type": "code",
   "execution_count": 18,
   "metadata": {
    "ExecuteTime": {
     "end_time": "2019-01-21T14:07:40.485962Z",
     "start_time": "2019-01-21T14:07:40.476987Z"
    }
   },
   "outputs": [
    {
     "data": {
      "text/plain": [
       "Pclass\n",
       "1    87.508992\n",
       "2    21.179196\n",
       "3    13.302889\n",
       "Name: Fare, dtype: float64"
      ]
     },
     "execution_count": 18,
     "metadata": {},
     "output_type": "execute_result"
    }
   ],
   "source": [
    "fare_groupby_pclass = combined_df.groupby('Pclass').mean()['Fare']\n",
    "fare_groupby_pclass"
   ]
  },
  {
   "cell_type": "code",
   "execution_count": 19,
   "metadata": {
    "ExecuteTime": {
     "end_time": "2019-01-21T14:07:40.494945Z",
     "start_time": "2019-01-21T14:07:40.488959Z"
    }
   },
   "outputs": [],
   "source": [
    "mean_fare_for_Pclass3 = fare_groupby_pclass.loc[missing_fare.iloc[0].Pclass]\n",
    "test_df['Fare'].fillna(mean_fare_for_Pclass3, inplace=True)"
   ]
  },
  {
   "cell_type": "markdown",
   "metadata": {},
   "source": [
    "We will create 5 bands of Fare"
   ]
  },
  {
   "cell_type": "code",
   "execution_count": 20,
   "metadata": {
    "ExecuteTime": {
     "end_time": "2019-01-21T14:07:40.582733Z",
     "start_time": "2019-01-21T14:07:40.495935Z"
    }
   },
   "outputs": [],
   "source": [
    "for i in np.arange(3, 6):\n",
    "    fare_boundaries = get_quantile_based_boundaries(combined_df.Fare, i)\n",
    "    for df in combined:\n",
    "        df[\"Fare_band_\" + str(i)] = df.apply(lambda row : compute_band(row, 'Fare', fare_boundaries), axis=1)"
   ]
  },
  {
   "cell_type": "code",
   "execution_count": 21,
   "metadata": {
    "ExecuteTime": {
     "end_time": "2019-01-21T14:07:40.734298Z",
     "start_time": "2019-01-21T14:07:40.583701Z"
    }
   },
   "outputs": [
    {
     "data": {
      "text/plain": [
       "<matplotlib.axes._subplots.AxesSubplot at 0x2d17f9c8d68>"
      ]
     },
     "execution_count": 21,
     "metadata": {},
     "output_type": "execute_result"
    },
    {
     "data": {
      "image/png": "[encoded data removed]",
      "text/plain": [
       "<Figure size 432x288 with 1 Axes>"
      ]
     },
     "metadata": {
      "needs_background": "light"
     },
     "output_type": "display_data"
    }
   ],
   "source": [
    "sns.distplot(train_df.Fare_band_5)"
   ]
  },
  {
   "cell_type": "markdown",
   "metadata": {},
   "source": [
    "## Sex column"
   ]
  },
  {
   "cell_type": "markdown",
   "metadata": {},
   "source": [
    "Convert sex column to be numerical"
   ]
  },
  {
   "cell_type": "code",
   "execution_count": 22,
   "metadata": {
    "ExecuteTime": {
     "end_time": "2019-01-21T14:07:40.742276Z",
     "start_time": "2019-01-21T14:07:40.735296Z"
    }
   },
   "outputs": [],
   "source": [
    "for df in combined:\n",
    "    df.Sex = pd.get_dummies(df.Sex, drop_first=True)"
   ]
  },
  {
   "cell_type": "code",
   "execution_count": 23,
   "metadata": {
    "ExecuteTime": {
     "end_time": "2019-01-21T14:07:40.751254Z",
     "start_time": "2019-01-21T14:07:40.744271Z"
    }
   },
   "outputs": [
    {
     "data": {
      "text/plain": [
       "1    577\n",
       "0    314\n",
       "Name: Sex, dtype: int64"
      ]
     },
     "execution_count": 23,
     "metadata": {},
     "output_type": "execute_result"
    }
   ],
   "source": [
    "train_df.Sex.value_counts()"
   ]
  },
  {
   "cell_type": "markdown",
   "metadata": {},
   "source": [
    "## Embarked column"
   ]
  },
  {
   "cell_type": "markdown",
   "metadata": {},
   "source": [
    "First fill empty values with the most frequent embarked.\n",
    "Then convert the column to be numerical"
   ]
  },
  {
   "cell_type": "code",
   "execution_count": 24,
   "metadata": {
    "ExecuteTime": {
     "end_time": "2019-01-21T14:07:40.765216Z",
     "start_time": "2019-01-21T14:07:40.752249Z"
    }
   },
   "outputs": [],
   "source": [
    "freq_port = df.Embarked.dropna().mode()[0]\n",
    "\n",
    "for df in combined:\n",
    "    df.Embarked.fillna(freq_port, inplace=True)\n",
    "    df.Embarked = pd.Categorical(df.Embarked).codes"
   ]
  },
  {
   "cell_type": "code",
   "execution_count": 25,
   "metadata": {
    "ExecuteTime": {
     "end_time": "2019-01-21T14:07:40.773241Z",
     "start_time": "2019-01-21T14:07:40.766214Z"
    }
   },
   "outputs": [
    {
     "data": {
      "text/plain": [
       "2    646\n",
       "0    168\n",
       "1     77\n",
       "Name: Embarked, dtype: int64"
      ]
     },
     "execution_count": 25,
     "metadata": {},
     "output_type": "execute_result"
    }
   ],
   "source": [
    "train_df.Embarked.value_counts()"
   ]
  },
  {
   "cell_type": "markdown",
   "metadata": {},
   "source": [
    "## FamilySize and IsAlone columns"
   ]
  },
  {
   "cell_type": "code",
   "execution_count": 26,
   "metadata": {
    "ExecuteTime": {
     "end_time": "2019-01-21T14:07:40.817137Z",
     "start_time": "2019-01-21T14:07:40.774191Z"
    }
   },
   "outputs": [],
   "source": [
    "for df in combined:\n",
    "    df['FamilySize'] = df.SibSp + df.Parch + 1\n",
    "    df['IsAlone'] = ((df.SibSp + df.Parch)==0)*1"
   ]
  },
  {
   "cell_type": "markdown",
   "metadata": {},
   "source": [
    "## Cabin column"
   ]
  },
  {
   "cell_type": "code",
   "execution_count": 27,
   "metadata": {
    "ExecuteTime": {
     "end_time": "2019-01-21T14:07:40.823061Z",
     "start_time": "2019-01-21T14:07:40.818073Z"
    }
   },
   "outputs": [],
   "source": [
    "import re\n",
    "def extract_cabin_nr(cabin):\n",
    "    \"\"\" Extracts the cabin number.  If there no number found, return NaN \"\"\"\n",
    "    if not pd.isnull(cabin):\n",
    "        cabin = cabin.split(' ')[-1]    # if several cabins on ticket, take last one\n",
    "        re_numb = r'[A-Z]([0-9]+)'\n",
    "        try:\n",
    "            number = int(re.findall(re_numb, cabin)[0])\n",
    "            return number\n",
    "        except:\n",
    "            return np.nan\n",
    "    else:\n",
    "        return np.nan"
   ]
  },
  {
   "cell_type": "code",
   "execution_count": 28,
   "metadata": {
    "ExecuteTime": {
     "end_time": "2019-01-21T14:07:40.831040Z",
     "start_time": "2019-01-21T14:07:40.824059Z"
    }
   },
   "outputs": [],
   "source": [
    "def extract_cabin_letter(cabin):\n",
    "    \"\"\" Extracts the cabin letter.  If there no letter found, return NaN \"\"\"\n",
    "    if not pd.isnull(cabin):\n",
    "        cabin = cabin.split(' ')[-1]    # if several cabins on ticket, take last one\n",
    "        re_char = r'([A-Z])[0-9]+'\n",
    "        try:\n",
    "            character = re.findall(re_char, cabin)[0]\n",
    "            return character\n",
    "        except:\n",
    "            return np.nan\n",
    "    else:\n",
    "        return np.nan"
   ]
  },
  {
   "cell_type": "code",
   "execution_count": 29,
   "metadata": {
    "ExecuteTime": {
     "end_time": "2019-01-21T14:07:40.845999Z",
     "start_time": "2019-01-21T14:07:40.833036Z"
    }
   },
   "outputs": [],
   "source": [
    "for df in combined:\n",
    "    df['Cabin_char'] = list(map(extract_cabin_letter, df['Cabin']))\n",
    "    df['Cabin_nr'] = list(map(extract_cabin_nr, df['Cabin']))\n",
    "    df['Cabin_nr_odd'] = df.Cabin_nr.apply(lambda x: np.nan if x == np.nan else x%2)\n",
    "    \n",
    "    # deal with the NaN's in some of our newly created columns\n",
    "    df['Cabin_char'].fillna(value=-9999, inplace=True)\n",
    "    df['Cabin_nr'].fillna(value=-9999, inplace=True)\n",
    "    df['Cabin_nr_odd'].fillna(value=-9999, inplace=True)"
   ]
  },
  {
   "cell_type": "code",
   "execution_count": 30,
   "metadata": {
    "ExecuteTime": {
     "end_time": "2019-01-21T14:07:40.853978Z",
     "start_time": "2019-01-21T14:07:40.846997Z"
    }
   },
   "outputs": [],
   "source": [
    "train_df = train_df.drop(['Name','Cabin','Ticket','Fare','Age'], 1)\n",
    "#train_df.Cabin_char.value_counts\n"
   ]
  },
  {
   "cell_type": "code",
   "execution_count": 31,
   "metadata": {
    "ExecuteTime": {
     "end_time": "2019-01-21T14:07:40.928778Z",
     "start_time": "2019-01-21T14:07:40.854975Z"
    }
   },
   "outputs": [
    {
     "data": {
      "text/html": [
       "<div>\n",
       "<style scoped>\n",
       "    .dataframe tbody tr th:only-of-type {\n",
       "        vertical-align: middle;\n",
       "    }\n",
       "\n",
       "    .dataframe tbody tr th {\n",
       "        vertical-align: top;\n",
       "    }\n",
       "\n",
       "    .dataframe thead th {\n",
       "        text-align: right;\n",
       "    }\n",
       "</style>\n",
       "<table border=\"1\" class=\"dataframe\">\n",
       "  <thead>\n",
       "    <tr style=\"text-align: right;\">\n",
       "      <th></th>\n",
       "      <th>PassengerId</th>\n",
       "      <th>Survived</th>\n",
       "      <th>Pclass</th>\n",
       "      <th>Sex</th>\n",
       "      <th>SibSp</th>\n",
       "      <th>Parch</th>\n",
       "      <th>Embarked</th>\n",
       "      <th>Title</th>\n",
       "      <th>Age_band_3</th>\n",
       "      <th>Age_band_4</th>\n",
       "      <th>...</th>\n",
       "      <th>IsAlone</th>\n",
       "      <th>Cabin_nr</th>\n",
       "      <th>Cabin_nr_odd</th>\n",
       "      <th>Cabin_char_A</th>\n",
       "      <th>Cabin_char_B</th>\n",
       "      <th>Cabin_char_C</th>\n",
       "      <th>Cabin_char_D</th>\n",
       "      <th>Cabin_char_E</th>\n",
       "      <th>Cabin_char_F</th>\n",
       "      <th>Cabin_char_G</th>\n",
       "    </tr>\n",
       "  </thead>\n",
       "  <tbody>\n",
       "    <tr>\n",
       "      <th>count</th>\n",
       "      <td>891.000000</td>\n",
       "      <td>891.000000</td>\n",
       "      <td>891.000000</td>\n",
       "      <td>891.000000</td>\n",
       "      <td>891.000000</td>\n",
       "      <td>891.000000</td>\n",
       "      <td>891.000000</td>\n",
       "      <td>891.000000</td>\n",
       "      <td>891.000000</td>\n",
       "      <td>891.000000</td>\n",
       "      <td>...</td>\n",
       "      <td>891.000000</td>\n",
       "      <td>891.000000</td>\n",
       "      <td>891.000000</td>\n",
       "      <td>891.000000</td>\n",
       "      <td>891.000000</td>\n",
       "      <td>891.000000</td>\n",
       "      <td>891.00000</td>\n",
       "      <td>891.000000</td>\n",
       "      <td>891.000000</td>\n",
       "      <td>891.000000</td>\n",
       "    </tr>\n",
       "    <tr>\n",
       "      <th>mean</th>\n",
       "      <td>446.000000</td>\n",
       "      <td>0.383838</td>\n",
       "      <td>2.308642</td>\n",
       "      <td>0.647587</td>\n",
       "      <td>0.523008</td>\n",
       "      <td>0.381594</td>\n",
       "      <td>1.536476</td>\n",
       "      <td>2.747475</td>\n",
       "      <td>1.056117</td>\n",
       "      <td>1.499439</td>\n",
       "      <td>...</td>\n",
       "      <td>0.602694</td>\n",
       "      <td>-7743.141414</td>\n",
       "      <td>-7754.454545</td>\n",
       "      <td>0.016835</td>\n",
       "      <td>0.052750</td>\n",
       "      <td>0.066218</td>\n",
       "      <td>0.03367</td>\n",
       "      <td>0.037037</td>\n",
       "      <td>0.010101</td>\n",
       "      <td>0.007856</td>\n",
       "    </tr>\n",
       "    <tr>\n",
       "      <th>std</th>\n",
       "      <td>257.353842</td>\n",
       "      <td>0.486592</td>\n",
       "      <td>0.836071</td>\n",
       "      <td>0.477990</td>\n",
       "      <td>1.102743</td>\n",
       "      <td>0.806057</td>\n",
       "      <td>0.791503</td>\n",
       "      <td>0.890765</td>\n",
       "      <td>0.756392</td>\n",
       "      <td>1.058274</td>\n",
       "      <td>...</td>\n",
       "      <td>0.489615</td>\n",
       "      <td>4195.494912</td>\n",
       "      <td>4174.421322</td>\n",
       "      <td>0.128725</td>\n",
       "      <td>0.223659</td>\n",
       "      <td>0.248802</td>\n",
       "      <td>0.18048</td>\n",
       "      <td>0.188959</td>\n",
       "      <td>0.100051</td>\n",
       "      <td>0.088337</td>\n",
       "    </tr>\n",
       "    <tr>\n",
       "      <th>min</th>\n",
       "      <td>1.000000</td>\n",
       "      <td>0.000000</td>\n",
       "      <td>1.000000</td>\n",
       "      <td>0.000000</td>\n",
       "      <td>0.000000</td>\n",
       "      <td>0.000000</td>\n",
       "      <td>0.000000</td>\n",
       "      <td>0.000000</td>\n",
       "      <td>0.000000</td>\n",
       "      <td>0.000000</td>\n",
       "      <td>...</td>\n",
       "      <td>0.000000</td>\n",
       "      <td>-9999.000000</td>\n",
       "      <td>-9999.000000</td>\n",
       "      <td>0.000000</td>\n",
       "      <td>0.000000</td>\n",
       "      <td>0.000000</td>\n",
       "      <td>0.00000</td>\n",
       "      <td>0.000000</td>\n",
       "      <td>0.000000</td>\n",
       "      <td>0.000000</td>\n",
       "    </tr>\n",
       "    <tr>\n",
       "      <th>25%</th>\n",
       "      <td>223.500000</td>\n",
       "      <td>0.000000</td>\n",
       "      <td>2.000000</td>\n",
       "      <td>0.000000</td>\n",
       "      <td>0.000000</td>\n",
       "      <td>0.000000</td>\n",
       "      <td>1.000000</td>\n",
       "      <td>2.000000</td>\n",
       "      <td>0.000000</td>\n",
       "      <td>1.000000</td>\n",
       "      <td>...</td>\n",
       "      <td>0.000000</td>\n",
       "      <td>-9999.000000</td>\n",
       "      <td>-9999.000000</td>\n",
       "      <td>0.000000</td>\n",
       "      <td>0.000000</td>\n",
       "      <td>0.000000</td>\n",
       "      <td>0.00000</td>\n",
       "      <td>0.000000</td>\n",
       "      <td>0.000000</td>\n",
       "      <td>0.000000</td>\n",
       "    </tr>\n",
       "    <tr>\n",
       "      <th>50%</th>\n",
       "      <td>446.000000</td>\n",
       "      <td>0.000000</td>\n",
       "      <td>3.000000</td>\n",
       "      <td>1.000000</td>\n",
       "      <td>0.000000</td>\n",
       "      <td>0.000000</td>\n",
       "      <td>2.000000</td>\n",
       "      <td>3.000000</td>\n",
       "      <td>1.000000</td>\n",
       "      <td>1.000000</td>\n",
       "      <td>...</td>\n",
       "      <td>1.000000</td>\n",
       "      <td>-9999.000000</td>\n",
       "      <td>-9999.000000</td>\n",
       "      <td>0.000000</td>\n",
       "      <td>0.000000</td>\n",
       "      <td>0.000000</td>\n",
       "      <td>0.00000</td>\n",
       "      <td>0.000000</td>\n",
       "      <td>0.000000</td>\n",
       "      <td>0.000000</td>\n",
       "    </tr>\n",
       "    <tr>\n",
       "      <th>75%</th>\n",
       "      <td>668.500000</td>\n",
       "      <td>1.000000</td>\n",
       "      <td>3.000000</td>\n",
       "      <td>1.000000</td>\n",
       "      <td>1.000000</td>\n",
       "      <td>0.000000</td>\n",
       "      <td>2.000000</td>\n",
       "      <td>3.000000</td>\n",
       "      <td>2.000000</td>\n",
       "      <td>2.000000</td>\n",
       "      <td>...</td>\n",
       "      <td>1.000000</td>\n",
       "      <td>-9999.000000</td>\n",
       "      <td>-9999.000000</td>\n",
       "      <td>0.000000</td>\n",
       "      <td>0.000000</td>\n",
       "      <td>0.000000</td>\n",
       "      <td>0.00000</td>\n",
       "      <td>0.000000</td>\n",
       "      <td>0.000000</td>\n",
       "      <td>0.000000</td>\n",
       "    </tr>\n",
       "    <tr>\n",
       "      <th>max</th>\n",
       "      <td>891.000000</td>\n",
       "      <td>1.000000</td>\n",
       "      <td>3.000000</td>\n",
       "      <td>1.000000</td>\n",
       "      <td>8.000000</td>\n",
       "      <td>6.000000</td>\n",
       "      <td>2.000000</td>\n",
       "      <td>4.000000</td>\n",
       "      <td>2.000000</td>\n",
       "      <td>3.000000</td>\n",
       "      <td>...</td>\n",
       "      <td>1.000000</td>\n",
       "      <td>148.000000</td>\n",
       "      <td>1.000000</td>\n",
       "      <td>1.000000</td>\n",
       "      <td>1.000000</td>\n",
       "      <td>1.000000</td>\n",
       "      <td>1.00000</td>\n",
       "      <td>1.000000</td>\n",
       "      <td>1.000000</td>\n",
       "      <td>1.000000</td>\n",
       "    </tr>\n",
       "  </tbody>\n",
       "</table>\n",
       "<p>8 rows × 25 columns</p>\n",
       "</div>"
      ],
      "text/plain": [
       "       PassengerId    Survived      Pclass         Sex       SibSp  \\\n",
       "count   891.000000  891.000000  891.000000  891.000000  891.000000   \n",
       "mean    446.000000    0.383838    2.308642    0.647587    0.523008   \n",
       "std     257.353842    0.486592    0.836071    0.477990    1.102743   \n",
       "min       1.000000    0.000000    1.000000    0.000000    0.000000   \n",
       "25%     223.500000    0.000000    2.000000    0.000000    0.000000   \n",
       "50%     446.000000    0.000000    3.000000    1.000000    0.000000   \n",
       "75%     668.500000    1.000000    3.000000    1.000000    1.000000   \n",
       "max     891.000000    1.000000    3.000000    1.000000    8.000000   \n",
       "\n",
       "            Parch    Embarked       Title  Age_band_3  Age_band_4  \\\n",
       "count  891.000000  891.000000  891.000000  891.000000  891.000000   \n",
       "mean     0.381594    1.536476    2.747475    1.056117    1.499439   \n",
       "std      0.806057    0.791503    0.890765    0.756392    1.058274   \n",
       "min      0.000000    0.000000    0.000000    0.000000    0.000000   \n",
       "25%      0.000000    1.000000    2.000000    0.000000    1.000000   \n",
       "50%      0.000000    2.000000    3.000000    1.000000    1.000000   \n",
       "75%      0.000000    2.000000    3.000000    2.000000    2.000000   \n",
       "max      6.000000    2.000000    4.000000    2.000000    3.000000   \n",
       "\n",
       "           ...          IsAlone     Cabin_nr  Cabin_nr_odd  Cabin_char_A  \\\n",
       "count      ...       891.000000   891.000000    891.000000    891.000000   \n",
       "mean       ...         0.602694 -7743.141414  -7754.454545      0.016835   \n",
       "std        ...         0.489615  4195.494912   4174.421322      0.128725   \n",
       "min        ...         0.000000 -9999.000000  -9999.000000      0.000000   \n",
       "25%        ...         0.000000 -9999.000000  -9999.000000      0.000000   \n",
       "50%        ...         1.000000 -9999.000000  -9999.000000      0.000000   \n",
       "75%        ...         1.000000 -9999.000000  -9999.000000      0.000000   \n",
       "max        ...         1.000000   148.000000      1.000000      1.000000   \n",
       "\n",
       "       Cabin_char_B  Cabin_char_C  Cabin_char_D  Cabin_char_E  Cabin_char_F  \\\n",
       "count    891.000000    891.000000     891.00000    891.000000    891.000000   \n",
       "mean       0.052750      0.066218       0.03367      0.037037      0.010101   \n",
       "std        0.223659      0.248802       0.18048      0.188959      0.100051   \n",
       "min        0.000000      0.000000       0.00000      0.000000      0.000000   \n",
       "25%        0.000000      0.000000       0.00000      0.000000      0.000000   \n",
       "50%        0.000000      0.000000       0.00000      0.000000      0.000000   \n",
       "75%        0.000000      0.000000       0.00000      0.000000      0.000000   \n",
       "max        1.000000      1.000000       1.00000      1.000000      1.000000   \n",
       "\n",
       "       Cabin_char_G  \n",
       "count    891.000000  \n",
       "mean       0.007856  \n",
       "std        0.088337  \n",
       "min        0.000000  \n",
       "25%        0.000000  \n",
       "50%        0.000000  \n",
       "75%        0.000000  \n",
       "max        1.000000  \n",
       "\n",
       "[8 rows x 25 columns]"
      ]
     },
     "execution_count": 31,
     "metadata": {},
     "output_type": "execute_result"
    }
   ],
   "source": [
    "train_df = pd.get_dummies(train_df, drop_first=True)\n",
    "train_df.describe()"
   ]
  },
  {
   "cell_type": "markdown",
   "metadata": {},
   "source": [
    "## Select features"
   ]
  },
  {
   "cell_type": "code",
   "execution_count": 33,
   "metadata": {
    "ExecuteTime": {
     "end_time": "2019-01-21T14:07:40.947734Z",
     "start_time": "2019-01-21T14:07:40.937770Z"
    }
   },
   "outputs": [],
   "source": [
    "X = np.array(train_df.drop(['Survived','PassengerId'], 1))\n",
    "training_features = np.array(train_df.drop(['Survived','PassengerId'], 1).columns)\n",
    "#X = preprocessing.scale(X)  --- not needed for XGboost?\n",
    "y = np.array(train_df['Survived'])"
   ]
  },
  {
   "cell_type": "code",
   "execution_count": 120,
   "metadata": {
    "ExecuteTime": {
     "end_time": "2019-01-21T15:16:46.575278Z",
     "start_time": "2019-01-21T15:16:46.347887Z"
    }
   },
   "outputs": [
    {
     "name": "stderr",
     "output_type": "stream",
     "text": [
      "[Parallel(n_jobs=-1)]: Using backend LokyBackend with 8 concurrent workers.\n",
      "[Parallel(n_jobs=-1)]: Done   6 out of   6 | elapsed:    0.0s finished\n"
     ]
    },
    {
     "name": "stdout",
     "output_type": "stream",
     "text": [
      "n_split=1\n",
      "[0.85234899 0.83892617 0.82550336 0.87162162 0.83108108 0.80405405]\n",
      "Accuracy: 0.837 stdev: 0.021\n",
      "\n"
     ]
    }
   ],
   "source": [
    "from sklearn import model_selection\n",
    "import xgboost as xgb\n",
    "\n",
    "clf = xgb.XGBClassifier(verbose=1)\n",
    "#for i in np.arange(3, 21):\n",
    "cv = model_selection.StratifiedKFold(n_splits=6, shuffle=True, random_state=1)\n",
    "scores = model_selection.cross_val_score(clf, X, y, cv=cv, n_jobs=-1, scoring='accuracy', verbose=1)\n",
    "clf.fit(X,y)\n",
    "print('n_split=' + str(i))\n",
    "print(scores)\n",
    "print('Accuracy: %.3f stdev: %.3f' % (np.mean(np.abs(scores)), np.std(scores)))\n",
    "print()\n"
   ]
  },
  {
   "cell_type": "code",
   "execution_count": 99,
   "metadata": {
    "ExecuteTime": {
     "end_time": "2019-01-21T15:11:23.328815Z",
     "start_time": "2019-01-21T15:11:20.933174Z"
    }
   },
   "outputs": [
    {
     "name": "stdout",
     "output_type": "stream",
     "text": [
      "features used during training: \n",
      "['Pclass' 'Sex' 'SibSp' 'Parch' 'Embarked' 'Title' 'IsChild' 'Age_band_3'\n",
      " 'Age_band_4' 'Age_band_5' 'Fare_band_3' 'Fare_band_4' 'Fare_band_5'\n",
      " 'FamilySize' 'IsAlone' 'Cabin_nr' 'Cabin_nr_odd' 'Cabin_char_A'\n",
      " 'Cabin_char_B' 'Cabin_char_C' 'Cabin_char_D' 'Cabin_char_E'\n",
      " 'Cabin_char_F' 'Cabin_char_G']\n",
      "\n",
      "Fitting estimator with 24 features.\n",
      "Fitting estimator with 23 features.\n",
      "Fitting estimator with 22 features.\n",
      "features proposed by RFECV: \n",
      "['Pclass' 'Sex' 'SibSp' 'Parch' 'Embarked' 'Title' 'IsChild' 'Age_band_3'\n",
      " 'Age_band_4' 'Age_band_5' 'Fare_band_3' 'Fare_band_4' 'Fare_band_5'\n",
      " 'FamilySize' 'Cabin_nr' 'Cabin_nr_odd' 'Cabin_char_A' 'Cabin_char_B'\n",
      " 'Cabin_char_C' 'Cabin_char_D' 'Cabin_char_E']\n"
     ]
    }
   ],
   "source": [
    "from sklearn.feature_selection import RFECV\n",
    "\n",
    "print(\"features used during training: \")\n",
    "print(training_features)\n",
    "print(\"\")\n",
    "\n",
    "featselect = RFECV(estimator=clf, cv=cv, scoring='accuracy', verbose=1, n_jobs=-1)\n",
    "featselect.fit(X,y)\n",
    "\n",
    "print(\"features proposed by RFECV: \"),\n",
    "print(training_features[featselect.support_])"
   ]
  },
  {
   "cell_type": "code",
   "execution_count": 40,
   "metadata": {
    "ExecuteTime": {
     "end_time": "2019-01-21T14:14:56.517537Z",
     "start_time": "2019-01-21T14:14:56.514547Z"
    }
   },
   "outputs": [],
   "source": [
    "#features = ['Pclass', 'Sex', 'Age', 'IsAlone', 'Fare', 'Embarked', 'Title', 'Cabin_nr']\n",
    "features = ['Pclass','Sex', 'IsChild', 'Age_band_5', 'Fare_band_4', 'Fare_band_5', 'Title', 'FamilySize', 'Cabin_nr']"
   ]
  },
  {
   "cell_type": "markdown",
   "metadata": {},
   "source": [
    "# Choosing a model"
   ]
  },
  {
   "cell_type": "code",
   "execution_count": 41,
   "metadata": {
    "ExecuteTime": {
     "end_time": "2019-01-21T14:14:57.297174Z",
     "start_time": "2019-01-21T14:14:57.294203Z"
    }
   },
   "outputs": [],
   "source": [
    "from sklearn.model_selection import GridSearchCV\n",
    "from sklearn.model_selection import train_test_split"
   ]
  },
  {
   "cell_type": "code",
   "execution_count": 42,
   "metadata": {
    "ExecuteTime": {
     "end_time": "2019-01-21T14:14:57.705917Z",
     "start_time": "2019-01-21T14:14:57.701926Z"
    }
   },
   "outputs": [],
   "source": [
    "from sklearn.metrics import make_scorer, accuracy_score, f1_score\n",
    "from sklearn.metrics import classification_report,confusion_matrix"
   ]
  },
  {
   "cell_type": "code",
   "execution_count": 43,
   "metadata": {
    "ExecuteTime": {
     "end_time": "2019-01-21T14:15:02.038770Z",
     "start_time": "2019-01-21T14:14:58.253189Z"
    }
   },
   "outputs": [],
   "source": [
    "from sklearn.ensemble import AdaBoostClassifier, BaggingClassifier, ExtraTreesClassifier, GradientBoostingClassifier, RandomForestClassifier\n",
    "from sklearn.neighbors import KNeighborsClassifier\n",
    "from sklearn.neural_network import MLPClassifier\n",
    "from sklearn.svm import SVC\n",
    "from sklearn.gaussian_process import GaussianProcessClassifier\n",
    "from sklearn.gaussian_process.kernels import RBF\n",
    "from sklearn.tree import DecisionTreeClassifier\n",
    "from sklearn.naive_bayes import GaussianNB\n",
    "from sklearn.discriminant_analysis import QuadraticDiscriminantAnalysis\n",
    "from sklearn.linear_model import SGDClassifier"
   ]
  },
  {
   "cell_type": "code",
   "execution_count": 44,
   "metadata": {
    "ExecuteTime": {
     "end_time": "2019-01-21T14:15:02.052477Z",
     "start_time": "2019-01-21T14:15:02.040510Z"
    }
   },
   "outputs": [],
   "source": [
    "n_estimators = [10,50,100,200,400]\n",
    "n_neighbors = [3,4,5,6]\n",
    "learning_rates = [1.0, 0.3, 0.1, 0.03, 0.01, 0.005, 0.003]\n",
    "criterion = ['gini', 'entropy']\n",
    "max_features = ['log2', 'sqrt','auto']\n",
    "hidden_layer_sizes = [(100,), (100,100), (50,100,50)]\n",
    "C = [0.1, 1, 3, 10, 30, 100]\n",
    "gamma = [1, 0.3, 0.1, 0.03, 0.01, 0.001]\n",
    "max_depth = [2, 3, 4]\n",
    "reg_lambda = [0.50]\n",
    "loss = ['deviance', 'exponential']\n",
    "\n",
    "models_and_grid_params = [\n",
    "    #(SGDClassifier, {'penalty': ['l2', 'l1']}),\n",
    "    (xgb.XGBClassifier, {'n_estimators': n_estimators, 'learning_rate': learning_rates, 'max_depth': max_depth, 'reg_lambda': reg_lambda}),\n",
    "    (AdaBoostClassifier, {'n_estimators': n_estimators, 'learning_rate': learning_rates}),\n",
    "    #(ExtraTreesClassifier, {'n_estimators': n_estimators}),\n",
    "    (GradientBoostingClassifier,{'loss': loss, 'learning_rate': learning_rates}), \n",
    "    (RandomForestClassifier, {'n_estimators': n_estimators, 'criterion': criterion,'max_features': max_features}),\n",
    "    #(KNeighborsClassifier, {'n_neighbors': n_neighbors}),\n",
    "    #(MLPClassifier,{'hidden_layer_sizes': hidden_layer_sizes}),\n",
    "                   #(SVC,{'C': C, 'gamma': gamma}),\n",
    "                   #(GaussianProcessClassifier,{}),\n",
    "                   (DecisionTreeClassifier,{})\n",
    "                   #(GaussianNB,{})\n",
    "                   ]\n",
    "\n",
    "scores = pd.DataFrame(columns=['Model', 'Estimator', 'Trial', 'Best Params', 'Accuracy Score'])"
   ]
  },
  {
   "cell_type": "code",
   "execution_count": null,
   "metadata": {},
   "outputs": [],
   "source": []
  },
  {
   "cell_type": "markdown",
   "metadata": {},
   "source": [
    "# Training models"
   ]
  },
  {
   "cell_type": "markdown",
   "metadata": {},
   "source": [
    "Split training data into random train (60%) and test subsets (40%)"
   ]
  },
  {
   "cell_type": "code",
   "execution_count": 45,
   "metadata": {
    "ExecuteTime": {
     "end_time": "2019-01-21T14:15:05.041779Z",
     "start_time": "2019-01-21T14:15:05.035768Z"
    }
   },
   "outputs": [],
   "source": [
    "X_train, X_test, y_train, y_test = train_test_split(train_df[features], train_df['Survived'], test_size=0.4, random_state=42)"
   ]
  },
  {
   "cell_type": "markdown",
   "metadata": {},
   "source": [
    "Define train_model function that will create a given model, and search for the best parameters across a given param_grid.\n",
    "It appends the results to the scores dataframe for later evaluation."
   ]
  },
  {
   "cell_type": "code",
   "execution_count": 53,
   "metadata": {
    "ExecuteTime": {
     "end_time": "2019-01-21T14:19:08.668310Z",
     "start_time": "2019-01-21T14:19:08.661341Z"
    }
   },
   "outputs": [],
   "source": [
    "def train_model(estimator_class, param_grid, scores, X_train, X_test, y_train, y_test, verbose=0):\n",
    "    estimator = estimator_class()\n",
    "    \n",
    "    if verbose==1:\n",
    "        print('Training ' + type(estimator).__name__ + '...')\n",
    "    \n",
    "    \n",
    "    cv = model_selection.StratifiedKFold(n_splits=5, shuffle=True, random_state=1)\n",
    "\n",
    "    model = GridSearchCV(estimator, param_grid, refit=True, cv=cv, scoring='accuracy', verbose=verbose, n_jobs=-1)\n",
    "    model.fit(X_train,y_train)\n",
    "    #pred = model.predict(X_test)\n",
    "    \n",
    "    #accuracy = round(model.score(X_test, y_test) * 100, 3)\n",
    "    trial_row = scores[scores['Model']==type(estimator).__name__]\n",
    "    trial = 1\n",
    "    if not trial_row.empty:\n",
    "        trial = int(trial_row['Trial'].max()) + 1\n",
    "    scores = scores.append({'Model' : type(estimator).__name__, \n",
    "                            'Estimator' : model.best_estimator_, \n",
    "                            'Trial': trial,\n",
    "                            'Best Params': str(model.best_params_),\n",
    "                            'Accuracy Score': round(model.best_score_*100,3) #accuracy\n",
    "                           }, ignore_index=True)\n",
    "    \n",
    "    return scores, model.best_estimator_, model.best_params_, round(model.best_score_*100,3)"
   ]
  },
  {
   "cell_type": "code",
   "execution_count": 47,
   "metadata": {
    "ExecuteTime": {
     "end_time": "2019-01-21T14:15:08.985959Z",
     "start_time": "2019-01-21T14:15:08.981971Z"
    }
   },
   "outputs": [],
   "source": [
    "def print_results(model, params, accuracy, scores=None):\n",
    "    print(type(model).__name__ + ' works best (' + str(accuracy) + '%) with ' + str(params))\n",
    "    if not scores is None:\n",
    "        scores = scores.sort_values('Accuracy Score', ascending=False)\n",
    "    return scores"
   ]
  },
  {
   "cell_type": "markdown",
   "metadata": {},
   "source": [
    "Now let's train all the models:"
   ]
  },
  {
   "cell_type": "code",
   "execution_count": 867,
   "metadata": {},
   "outputs": [
    {
     "name": "stdout",
     "output_type": "stream",
     "text": [
      "Training XGBClassifier...\n",
      "Fitting 5 folds for each of 105 candidates, totalling 525 fits\n"
     ]
    },
    {
     "name": "stderr",
     "output_type": "stream",
     "text": [
      "[Parallel(n_jobs=-1)]: Done  34 tasks      | elapsed:    7.8s\n",
      "[Parallel(n_jobs=-1)]: Done 525 out of 525 | elapsed:   14.0s finished\n"
     ]
    },
    {
     "name": "stdout",
     "output_type": "stream",
     "text": [
      "XGBClassifier works best (85.019%) with {'learning_rate': 0.03, 'max_depth': 3, 'n_estimators': 400, 'reg_lambda': 0.5}\n",
      "Training AdaBoostClassifier...\n",
      "Fitting 5 folds for each of 35 candidates, totalling 175 fits\n"
     ]
    },
    {
     "name": "stderr",
     "output_type": "stream",
     "text": [
      "[Parallel(n_jobs=-1)]: Done  34 tasks      | elapsed:    8.6s\n",
      "[Parallel(n_jobs=-1)]: Done 175 out of 175 | elapsed:   14.4s finished\n"
     ]
    },
    {
     "name": "stdout",
     "output_type": "stream",
     "text": [
      "AdaBoostClassifier works best (84.082%) with {'learning_rate': 0.1, 'n_estimators': 200}\n",
      "Training GradientBoostingClassifier...\n",
      "Fitting 5 folds for each of 14 candidates, totalling 70 fits\n"
     ]
    },
    {
     "name": "stderr",
     "output_type": "stream",
     "text": [
      "[Parallel(n_jobs=-1)]: Done  34 tasks      | elapsed:    7.8s\n",
      "[Parallel(n_jobs=-1)]: Done  55 out of  70 | elapsed:    8.0s remaining:    2.1s\n",
      "[Parallel(n_jobs=-1)]: Done  70 out of  70 | elapsed:    8.2s finished\n"
     ]
    },
    {
     "name": "stdout",
     "output_type": "stream",
     "text": [
      "GradientBoostingClassifier works best (85.019%) with {'learning_rate': 0.03, 'loss': 'exponential'}\n",
      "Training RandomForestClassifier...\n",
      "Fitting 5 folds for each of 30 candidates, totalling 150 fits\n"
     ]
    },
    {
     "name": "stderr",
     "output_type": "stream",
     "text": [
      "[Parallel(n_jobs=-1)]: Done  34 tasks      | elapsed:    8.3s\n",
      "[Parallel(n_jobs=-1)]: Done 150 out of 150 | elapsed:   13.5s finished\n"
     ]
    },
    {
     "name": "stdout",
     "output_type": "stream",
     "text": [
      "RandomForestClassifier works best (83.333%) with {'criterion': 'entropy', 'max_features': 'log2', 'n_estimators': 10}\n",
      "Training DecisionTreeClassifier...\n",
      "Fitting 5 folds for each of 1 candidates, totalling 5 fits\n"
     ]
    },
    {
     "name": "stderr",
     "output_type": "stream",
     "text": [
      "[Parallel(n_jobs=-1)]: Done   2 out of   5 | elapsed:    2.7s remaining:    4.1s\n"
     ]
    },
    {
     "name": "stdout",
     "output_type": "stream",
     "text": [
      "DecisionTreeClassifier works best (81.648%) with {}\n"
     ]
    },
    {
     "name": "stderr",
     "output_type": "stream",
     "text": [
      "[Parallel(n_jobs=-1)]: Done   5 out of   5 | elapsed:    5.4s finished\n"
     ]
    }
   ],
   "source": [
    "for model_class, param_grid in models_and_grid_params:\n",
    "    scores, best_model, best_params, accuracy = train_model(model_class, param_grid, scores, X_train, X_test, y_train, y_test, verbose=1)\n",
    "    print_results(best_model, best_params, accuracy)"
   ]
  },
  {
   "cell_type": "code",
   "execution_count": null,
   "metadata": {},
   "outputs": [],
   "source": [
    "    "
   ]
  },
  {
   "cell_type": "markdown",
   "metadata": {},
   "source": [
    "# Evaluating models"
   ]
  },
  {
   "cell_type": "markdown",
   "metadata": {},
   "source": [
    "The dataframe below shows the best results for the trained models, with the highest score on top."
   ]
  },
  {
   "cell_type": "code",
   "execution_count": 868,
   "metadata": {},
   "outputs": [],
   "source": [
    "def print_scores(scores):\n",
    "    return scores.sort_values('Accuracy Score', ascending=False)"
   ]
  },
  {
   "cell_type": "code",
   "execution_count": 869,
   "metadata": {},
   "outputs": [
    {
     "data": {
      "text/html": [
       "<div>\n",
       "<style scoped>\n",
       "    .dataframe tbody tr th:only-of-type {\n",
       "        vertical-align: middle;\n",
       "    }\n",
       "\n",
       "    .dataframe tbody tr th {\n",
       "        vertical-align: top;\n",
       "    }\n",
       "\n",
       "    .dataframe thead th {\n",
       "        text-align: right;\n",
       "    }\n",
       "</style>\n",
       "<table border=\"1\" class=\"dataframe\">\n",
       "  <thead>\n",
       "    <tr style=\"text-align: right;\">\n",
       "      <th></th>\n",
       "      <th>Model</th>\n",
       "      <th>Estimator</th>\n",
       "      <th>Trial</th>\n",
       "      <th>Best Params</th>\n",
       "      <th>Accuracy Score</th>\n",
       "    </tr>\n",
       "  </thead>\n",
       "  <tbody>\n",
       "    <tr>\n",
       "      <th>0</th>\n",
       "      <td>XGBClassifier</td>\n",
       "      <td>XGBClassifier(base_score=0.5, booster='gbtree'...</td>\n",
       "      <td>1</td>\n",
       "      <td>{'learning_rate': 0.03, 'max_depth': 3, 'n_est...</td>\n",
       "      <td>85.019</td>\n",
       "    </tr>\n",
       "    <tr>\n",
       "      <th>2</th>\n",
       "      <td>GradientBoostingClassifier</td>\n",
       "      <td>([DecisionTreeRegressor(criterion='friedman_ms...</td>\n",
       "      <td>1</td>\n",
       "      <td>{'learning_rate': 0.03, 'loss': 'exponential'}</td>\n",
       "      <td>85.019</td>\n",
       "    </tr>\n",
       "    <tr>\n",
       "      <th>1</th>\n",
       "      <td>AdaBoostClassifier</td>\n",
       "      <td>(DecisionTreeClassifier(class_weight=None, cri...</td>\n",
       "      <td>1</td>\n",
       "      <td>{'learning_rate': 0.1, 'n_estimators': 200}</td>\n",
       "      <td>84.082</td>\n",
       "    </tr>\n",
       "    <tr>\n",
       "      <th>3</th>\n",
       "      <td>RandomForestClassifier</td>\n",
       "      <td>(DecisionTreeClassifier(class_weight=None, cri...</td>\n",
       "      <td>1</td>\n",
       "      <td>{'criterion': 'entropy', 'max_features': 'log2...</td>\n",
       "      <td>83.333</td>\n",
       "    </tr>\n",
       "    <tr>\n",
       "      <th>4</th>\n",
       "      <td>DecisionTreeClassifier</td>\n",
       "      <td>DecisionTreeClassifier(class_weight=None, crit...</td>\n",
       "      <td>1</td>\n",
       "      <td>{}</td>\n",
       "      <td>81.648</td>\n",
       "    </tr>\n",
       "  </tbody>\n",
       "</table>\n",
       "</div>"
      ],
      "text/plain": [
       "                        Model  \\\n",
       "0               XGBClassifier   \n",
       "2  GradientBoostingClassifier   \n",
       "1          AdaBoostClassifier   \n",
       "3      RandomForestClassifier   \n",
       "4      DecisionTreeClassifier   \n",
       "\n",
       "                                           Estimator Trial  \\\n",
       "0  XGBClassifier(base_score=0.5, booster='gbtree'...     1   \n",
       "2  ([DecisionTreeRegressor(criterion='friedman_ms...     1   \n",
       "1  (DecisionTreeClassifier(class_weight=None, cri...     1   \n",
       "3  (DecisionTreeClassifier(class_weight=None, cri...     1   \n",
       "4  DecisionTreeClassifier(class_weight=None, crit...     1   \n",
       "\n",
       "                                         Best Params  Accuracy Score  \n",
       "0  {'learning_rate': 0.03, 'max_depth': 3, 'n_est...          85.019  \n",
       "2     {'learning_rate': 0.03, 'loss': 'exponential'}          85.019  \n",
       "1        {'learning_rate': 0.1, 'n_estimators': 200}          84.082  \n",
       "3  {'criterion': 'entropy', 'max_features': 'log2...          83.333  \n",
       "4                                                 {}          81.648  "
      ]
     },
     "execution_count": 869,
     "metadata": {},
     "output_type": "execute_result"
    }
   ],
   "source": [
    "print_scores(scores)"
   ]
  },
  {
   "cell_type": "markdown",
   "metadata": {},
   "source": [
    "# Hyperparameter Tuning"
   ]
  },
  {
   "cell_type": "markdown",
   "metadata": {},
   "source": [
    "## Tuning with RandomizedSearchCV"
   ]
  },
  {
   "cell_type": "code",
   "execution_count": 36,
   "metadata": {
    "ExecuteTime": {
     "end_time": "2019-01-21T14:14:10.771760Z",
     "start_time": "2019-01-21T14:14:10.764779Z"
    }
   },
   "outputs": [
    {
     "name": "stdout",
     "output_type": "stream",
     "text": [
      "{'bootstrap': [True, False],\n",
      " 'criterion': ['gini', 'entropy'],\n",
      " 'max_depth': [10, 20, 30, 40, 50, 60, 70, 80, 90, 100, 110, None],\n",
      " 'max_features': ['auto', 'sqrt'],\n",
      " 'min_samples_leaf': [1, 2, 4],\n",
      " 'min_samples_split': [2, 5, 10],\n",
      " 'n_estimators': [100, 300, 500, 700, 900, 1100, 1300, 1500, 1700, 1900]}\n"
     ]
    }
   ],
   "source": [
    "from sklearn.model_selection import RandomizedSearchCV\n",
    "from pprint import pprint\n",
    "\n",
    "# Number of trees in random forest\n",
    "n_estimators = [int(x) for x in np.linspace(start = 100, stop = 1900, num = 10)]\n",
    "# Number of features to consider at every split\n",
    "max_features = ['auto', 'sqrt']\n",
    "# Maximum number of levels in tree\n",
    "max_depth = [int(x) for x in np.linspace(10, 110, num = 11)]\n",
    "max_depth.append(None)\n",
    "# Minimum number of samples required to split a node\n",
    "min_samples_split = [2, 5, 10]\n",
    "# Minimum number of samples required at each leaf node\n",
    "min_samples_leaf = [1, 2, 4]\n",
    "# Method of selecting samples for training each tree\n",
    "bootstrap = [True, False]\n",
    "criterion = ['gini', 'entropy']\n",
    "\n",
    "# Create the random grid\n",
    "random_grid = {'n_estimators': n_estimators,\n",
    "               'criterion': criterion,\n",
    "               'max_features': max_features,\n",
    "               'max_depth': max_depth,\n",
    "               'min_samples_split': min_samples_split,\n",
    "               'min_samples_leaf': min_samples_leaf,\n",
    "               'bootstrap': bootstrap}\n",
    "\n",
    "pprint(random_grid)"
   ]
  },
  {
   "cell_type": "code",
   "execution_count": 446,
   "metadata": {},
   "outputs": [
    {
     "name": "stdout",
     "output_type": "stream",
     "text": [
      "Fitting 3 folds for each of 200 candidates, totalling 600 fits\n"
     ]
    },
    {
     "name": "stderr",
     "output_type": "stream",
     "text": [
      "[Parallel(n_jobs=-1)]: Done  25 tasks      | elapsed:   13.4s\n",
      "[Parallel(n_jobs=-1)]: Done 146 tasks      | elapsed:   51.8s\n",
      "[Parallel(n_jobs=-1)]: Done 349 tasks      | elapsed:  1.8min\n",
      "[Parallel(n_jobs=-1)]: Done 600 out of 600 | elapsed:  3.0min finished\n"
     ]
    },
    {
     "data": {
      "text/plain": [
       "RandomizedSearchCV(cv=3, error_score='raise',\n",
       "          estimator=RandomForestClassifier(bootstrap=True, class_weight=None, criterion='gini',\n",
       "            max_depth=None, max_features='auto', max_leaf_nodes=None,\n",
       "            min_impurity_decrease=0.0, min_impurity_split=None,\n",
       "            min_samples_leaf=1, min_samples_split=2,\n",
       "            min_weight_fraction_leaf=0.0, n_estimators=10, n_jobs=1,\n",
       "            oob_score=False, random_state=None, verbose=0,\n",
       "            warm_start=False),\n",
       "          fit_params=None, iid=True, n_iter=200, n_jobs=-1,\n",
       "          param_distributions={'n_estimators': [100, 300, 500, 700, 900, 1100, 1300, 1500, 1700, 1900], 'criterion': ['gini', 'entropy'], 'max_features': ['auto', 'sqrt'], 'max_depth': [10, 20, 30, 40, 50, 60, 70, 80, 90, 100, 110, None], 'min_samples_split': [2, 5, 10], 'min_samples_leaf': [1, 2, 4], 'bootstrap': [True, False]},\n",
       "          pre_dispatch='2*n_jobs', random_state=42, refit=True,\n",
       "          return_train_score='warn', scoring=None, verbose=2)"
      ]
     },
     "execution_count": 446,
     "metadata": {},
     "output_type": "execute_result"
    }
   ],
   "source": [
    "rf_random = RandomizedSearchCV(estimator = RandomForestClassifier(), param_distributions = random_grid, n_iter = 200, cv = 3, verbose=2, random_state=42, n_jobs = -1)\n",
    "# Fit the random search model\n",
    "rf_random.fit(X_train, y_train)"
   ]
  },
  {
   "cell_type": "code",
   "execution_count": 447,
   "metadata": {},
   "outputs": [
    {
     "name": "stdout",
     "output_type": "stream",
     "text": [
      "The best parameters after tuning are: \n",
      "\n",
      "{'bootstrap': True,\n",
      " 'criterion': 'entropy',\n",
      " 'max_depth': 110,\n",
      " 'max_features': 'auto',\n",
      " 'min_samples_leaf': 1,\n",
      " 'min_samples_split': 10,\n",
      " 'n_estimators': 900}\n",
      "\n",
      "Final Score on validation data: 81.51% (+1.12%)\n"
     ]
    }
   ],
   "source": [
    "print('The best parameters after tuning are: ')\n",
    "print()\n",
    "pprint(rf_random.best_params_)\n",
    "\n",
    "print()\n",
    "best_model = rf_random.best_estimator_\n",
    "old_score = float(scores[scores['Model']==type(best_model).__name__]['Accuracy Score'])\n",
    "rf_random_score = round(best_model.score(X_test, y_test) * 100, 2)\n",
    "print('Final Score on validation data: ' + str(rf_random_score) + '% (+' + str(round(rf_random_score-old_score,2)) + '%)')"
   ]
  },
  {
   "cell_type": "code",
   "execution_count": 448,
   "metadata": {},
   "outputs": [
    {
     "data": {
      "image/png": "[encoded data removed]",
      "text/plain": [
       "<Figure size 432x288 with 1 Axes>"
      ]
     },
     "metadata": {},
     "output_type": "display_data"
    }
   ],
   "source": [
    "feature_importances_df = pd.DataFrame(best_model.feature_importances_).transpose()\n",
    "feature_importances_df.columns = features\n",
    "axes = sns.barplot(data=feature_importances_df)\n",
    "_ = axes.set_title('Feature importances in final model')"
   ]
  },
  {
   "cell_type": "markdown",
   "metadata": {},
   "source": [
    "## Tuning with GridSearchCV"
   ]
  },
  {
   "cell_type": "markdown",
   "metadata": {},
   "source": [
    "### GradientBoostingClassifier"
   ]
  },
  {
   "cell_type": "code",
   "execution_count": 687,
   "metadata": {},
   "outputs": [],
   "source": [
    "learning_rates = [0.12, 0.11, 0.1, 0.09, 0.08]\n",
    "max_depth = [3,5,8]\n",
    "loss = ['deviance', 'exponential']\n",
    "\n",
    "tuned_param_grid = {'learning_rate': learning_rates, 'loss': loss, 'max_depth': max_depth,\n",
    "    \"min_samples_split\": np.linspace(0.1, 0.5, 6),\n",
    "    \"min_samples_leaf\": np.linspace(0.1, 0.5, 6),\n",
    "    \"max_features\":[\"log2\",\"sqrt\"],\n",
    "    \"criterion\": [\"friedman_mse\",  \"mae\"]}\n"
   ]
  },
  {
   "cell_type": "code",
   "execution_count": 688,
   "metadata": {},
   "outputs": [
    {
     "name": "stdout",
     "output_type": "stream",
     "text": [
      "Training GradientBoostingClassifier...\n",
      "Fitting 5 folds for each of 4320 candidates, totalling 21600 fits\n"
     ]
    },
    {
     "name": "stderr",
     "output_type": "stream",
     "text": [
      "[Parallel(n_jobs=-1)]: Done  34 tasks      | elapsed:    7.8s\n",
      "[Parallel(n_jobs=-1)]: Done 539 tasks      | elapsed:   10.8s\n",
      "[Parallel(n_jobs=-1)]: Done 1539 tasks      | elapsed:   17.3s\n",
      "[Parallel(n_jobs=-1)]: Done 2939 tasks      | elapsed:   26.3s\n",
      "[Parallel(n_jobs=-1)]: Done 4739 tasks      | elapsed:   38.4s\n",
      "[Parallel(n_jobs=-1)]: Done 6939 tasks      | elapsed:   54.5s\n",
      "[Parallel(n_jobs=-1)]: Done 9539 tasks      | elapsed:  1.2min\n",
      "[Parallel(n_jobs=-1)]: Done 11731 tasks      | elapsed:  1.7min\n",
      "[Parallel(n_jobs=-1)]: Done 13431 tasks      | elapsed:  2.3min\n",
      "[Parallel(n_jobs=-1)]: Done 15331 tasks      | elapsed:  3.0min\n",
      "[Parallel(n_jobs=-1)]: Done 17431 tasks      | elapsed:  3.8min\n",
      "[Parallel(n_jobs=-1)]: Done 19731 tasks      | elapsed:  4.7min\n",
      "[Parallel(n_jobs=-1)]: Done 21585 out of 21600 | elapsed:  5.3min remaining:    0.1s\n",
      "[Parallel(n_jobs=-1)]: Done 21600 out of 21600 | elapsed:  5.3min finished\n"
     ]
    }
   ],
   "source": [
    "scores, gb_tuned, gb_tuned_params, gb_accuracy = train_model(GradientBoostingClassifier, tuned_param_grid, scores, X_train, X_test, y_train, y_test, verbose=1)"
   ]
  },
  {
   "cell_type": "code",
   "execution_count": 689,
   "metadata": {},
   "outputs": [
    {
     "name": "stdout",
     "output_type": "stream",
     "text": [
      "GradientBoostingClassifier works best (83.146%) with {'criterion': 'friedman_mse', 'learning_rate': 0.12, 'loss': 'exponential', 'max_depth': 8, 'max_features': 'sqrt', 'min_samples_leaf': 0.1, 'min_samples_split': 0.26}\n"
     ]
    },
    {
     "data": {
      "text/html": [
       "<div>\n",
       "<style scoped>\n",
       "    .dataframe tbody tr th:only-of-type {\n",
       "        vertical-align: middle;\n",
       "    }\n",
       "\n",
       "    .dataframe tbody tr th {\n",
       "        vertical-align: top;\n",
       "    }\n",
       "\n",
       "    .dataframe thead th {\n",
       "        text-align: right;\n",
       "    }\n",
       "</style>\n",
       "<table border=\"1\" class=\"dataframe\">\n",
       "  <thead>\n",
       "    <tr style=\"text-align: right;\">\n",
       "      <th></th>\n",
       "      <th>Model</th>\n",
       "      <th>Estimator</th>\n",
       "      <th>Trial</th>\n",
       "      <th>Best Params</th>\n",
       "      <th>Best Score</th>\n",
       "      <th>Accuracy Score</th>\n",
       "    </tr>\n",
       "  </thead>\n",
       "  <tbody>\n",
       "    <tr>\n",
       "      <th>19</th>\n",
       "      <td>XGBClassifier</td>\n",
       "      <td>XGBClassifier(base_score=0.5, booster='gbtree'...</td>\n",
       "      <td>4</td>\n",
       "      <td>{'learning_rate': 0.1, 'max_depth': 4, 'n_esti...</td>\n",
       "      <td>84.27</td>\n",
       "      <td>84.270</td>\n",
       "    </tr>\n",
       "    <tr>\n",
       "      <th>6</th>\n",
       "      <td>XGBClassifier</td>\n",
       "      <td>XGBClassifier(base_score=0.5, booster='gbtree'...</td>\n",
       "      <td>2</td>\n",
       "      <td>{'colsample_bytree': 0.9, 'learning_rate': 0.1...</td>\n",
       "      <td>84.228</td>\n",
       "      <td>84.228</td>\n",
       "    </tr>\n",
       "    <tr>\n",
       "      <th>7</th>\n",
       "      <td>RandomForestClassifier</td>\n",
       "      <td>(DecisionTreeClassifier(class_weight=None, cri...</td>\n",
       "      <td>2</td>\n",
       "      <td>{'bootstrap': True, 'criterion': 'entropy', 'm...</td>\n",
       "      <td>84.06</td>\n",
       "      <td>84.060</td>\n",
       "    </tr>\n",
       "    <tr>\n",
       "      <th>0</th>\n",
       "      <td>XGBClassifier</td>\n",
       "      <td>XGBClassifier(base_score=0.5, booster='gbtree'...</td>\n",
       "      <td>1</td>\n",
       "      <td>{'learning_rate': 0.3, 'max_depth': 2, 'n_esti...</td>\n",
       "      <td>83.893</td>\n",
       "      <td>83.893</td>\n",
       "    </tr>\n",
       "    <tr>\n",
       "      <th>22</th>\n",
       "      <td>GradientBoostingClassifier</td>\n",
       "      <td>([DecisionTreeRegressor(criterion='friedman_ms...</td>\n",
       "      <td>4</td>\n",
       "      <td>{'learning_rate': 0.03, 'loss': 'exponential'}</td>\n",
       "      <td>83.708</td>\n",
       "      <td>83.708</td>\n",
       "    </tr>\n",
       "    <tr>\n",
       "      <th>20</th>\n",
       "      <td>AdaBoostClassifier</td>\n",
       "      <td>(DecisionTreeClassifier(class_weight=None, cri...</td>\n",
       "      <td>3</td>\n",
       "      <td>{'learning_rate': 0.03, 'n_estimators': 400}</td>\n",
       "      <td>83.708</td>\n",
       "      <td>83.708</td>\n",
       "    </tr>\n",
       "    <tr>\n",
       "      <th>2</th>\n",
       "      <td>GradientBoostingClassifier</td>\n",
       "      <td>([DecisionTreeRegressor(criterion='friedman_ms...</td>\n",
       "      <td>1</td>\n",
       "      <td>{'learning_rate': 0.03, 'loss': 'exponential'}</td>\n",
       "      <td>83.557</td>\n",
       "      <td>83.557</td>\n",
       "    </tr>\n",
       "    <tr>\n",
       "      <th>23</th>\n",
       "      <td>RandomForestClassifier</td>\n",
       "      <td>(DecisionTreeClassifier(class_weight=None, cri...</td>\n",
       "      <td>4</td>\n",
       "      <td>{'criterion': 'entropy', 'max_features': 'log2...</td>\n",
       "      <td>83.521</td>\n",
       "      <td>83.521</td>\n",
       "    </tr>\n",
       "    <tr>\n",
       "      <th>5</th>\n",
       "      <td>GradientBoostingClassifier</td>\n",
       "      <td>([DecisionTreeRegressor(criterion='friedman_ms...</td>\n",
       "      <td>2</td>\n",
       "      <td>{'criterion': 'friedman_mse', 'learning_rate':...</td>\n",
       "      <td>83.389</td>\n",
       "      <td>83.389</td>\n",
       "    </tr>\n",
       "    <tr>\n",
       "      <th>12</th>\n",
       "      <td>GradientBoostingClassifier</td>\n",
       "      <td>([DecisionTreeRegressor(criterion='friedman_ms...</td>\n",
       "      <td>3</td>\n",
       "      <td>{'learning_rate': 0.1, 'loss': 'exponential'}</td>\n",
       "      <td>83.221</td>\n",
       "      <td>83.221</td>\n",
       "    </tr>\n",
       "    <tr>\n",
       "      <th>3</th>\n",
       "      <td>RandomForestClassifier</td>\n",
       "      <td>(DecisionTreeClassifier(class_weight=None, cri...</td>\n",
       "      <td>1</td>\n",
       "      <td>{'criterion': 'entropy', 'max_features': 'log2...</td>\n",
       "      <td>83.221</td>\n",
       "      <td>83.221</td>\n",
       "    </tr>\n",
       "    <tr>\n",
       "      <th>9</th>\n",
       "      <td>XGBClassifier</td>\n",
       "      <td>XGBClassifier(base_score=0.5, booster='gbtree'...</td>\n",
       "      <td>3</td>\n",
       "      <td>{'learning_rate': 0.1, 'max_depth': 3, 'n_esti...</td>\n",
       "      <td>83.221</td>\n",
       "      <td>83.221</td>\n",
       "    </tr>\n",
       "    <tr>\n",
       "      <th>29</th>\n",
       "      <td>GradientBoostingClassifier</td>\n",
       "      <td>([DecisionTreeRegressor(criterion='friedman_ms...</td>\n",
       "      <td>5</td>\n",
       "      <td>{'criterion': 'friedman_mse', 'learning_rate':...</td>\n",
       "      <td>83.146</td>\n",
       "      <td>83.146</td>\n",
       "    </tr>\n",
       "    <tr>\n",
       "      <th>13</th>\n",
       "      <td>RandomForestClassifier</td>\n",
       "      <td>(DecisionTreeClassifier(class_weight=None, cri...</td>\n",
       "      <td>3</td>\n",
       "      <td>{'criterion': 'gini', 'max_features': 'sqrt', ...</td>\n",
       "      <td>82.886</td>\n",
       "      <td>82.886</td>\n",
       "    </tr>\n",
       "    <tr>\n",
       "      <th>28</th>\n",
       "      <td>DecisionTreeClassifier</td>\n",
       "      <td>DecisionTreeClassifier(class_weight=None, crit...</td>\n",
       "      <td>3</td>\n",
       "      <td>{}</td>\n",
       "      <td>82.772</td>\n",
       "      <td>82.772</td>\n",
       "    </tr>\n",
       "    <tr>\n",
       "      <th>10</th>\n",
       "      <td>AdaBoostClassifier</td>\n",
       "      <td>(DecisionTreeClassifier(class_weight=None, cri...</td>\n",
       "      <td>2</td>\n",
       "      <td>{'learning_rate': 1.0, 'n_estimators': 10}</td>\n",
       "      <td>82.718</td>\n",
       "      <td>82.718</td>\n",
       "    </tr>\n",
       "    <tr>\n",
       "      <th>1</th>\n",
       "      <td>AdaBoostClassifier</td>\n",
       "      <td>(DecisionTreeClassifier(class_weight=None, cri...</td>\n",
       "      <td>1</td>\n",
       "      <td>{'learning_rate': 1.0, 'n_estimators': 10}</td>\n",
       "      <td>82.718</td>\n",
       "      <td>82.718</td>\n",
       "    </tr>\n",
       "    <tr>\n",
       "      <th>21</th>\n",
       "      <td>ExtraTreesClassifier</td>\n",
       "      <td>(ExtraTreeClassifier(class_weight=None, criter...</td>\n",
       "      <td>2</td>\n",
       "      <td>{'n_estimators': 50}</td>\n",
       "      <td>81.835</td>\n",
       "      <td>81.835</td>\n",
       "    </tr>\n",
       "    <tr>\n",
       "      <th>11</th>\n",
       "      <td>ExtraTreesClassifier</td>\n",
       "      <td>(ExtraTreeClassifier(class_weight=None, criter...</td>\n",
       "      <td>1</td>\n",
       "      <td>{'n_estimators': 50}</td>\n",
       "      <td>81.376</td>\n",
       "      <td>81.376</td>\n",
       "    </tr>\n",
       "    <tr>\n",
       "      <th>26</th>\n",
       "      <td>SVC</td>\n",
       "      <td>SVC(C=30, cache_size=200, class_weight=None, c...</td>\n",
       "      <td>2</td>\n",
       "      <td>{'C': 30, 'gamma': 0.1}</td>\n",
       "      <td>80.899</td>\n",
       "      <td>80.899</td>\n",
       "    </tr>\n",
       "    <tr>\n",
       "      <th>4</th>\n",
       "      <td>DecisionTreeClassifier</td>\n",
       "      <td>DecisionTreeClassifier(class_weight=None, crit...</td>\n",
       "      <td>1</td>\n",
       "      <td>{}</td>\n",
       "      <td>80.705</td>\n",
       "      <td>80.705</td>\n",
       "    </tr>\n",
       "    <tr>\n",
       "      <th>16</th>\n",
       "      <td>SVC</td>\n",
       "      <td>SVC(C=1, cache_size=200, class_weight=None, co...</td>\n",
       "      <td>1</td>\n",
       "      <td>{'C': 1, 'gamma': 1}</td>\n",
       "      <td>79.53</td>\n",
       "      <td>79.530</td>\n",
       "    </tr>\n",
       "    <tr>\n",
       "      <th>27</th>\n",
       "      <td>GaussianProcessClassifier</td>\n",
       "      <td>GaussianProcessClassifier(copy_X_train=True, k...</td>\n",
       "      <td>2</td>\n",
       "      <td>{}</td>\n",
       "      <td>79.401</td>\n",
       "      <td>79.401</td>\n",
       "    </tr>\n",
       "    <tr>\n",
       "      <th>17</th>\n",
       "      <td>GaussianProcessClassifier</td>\n",
       "      <td>GaussianProcessClassifier(copy_X_train=True, k...</td>\n",
       "      <td>1</td>\n",
       "      <td>{}</td>\n",
       "      <td>79.027</td>\n",
       "      <td>79.027</td>\n",
       "    </tr>\n",
       "    <tr>\n",
       "      <th>18</th>\n",
       "      <td>DecisionTreeClassifier</td>\n",
       "      <td>DecisionTreeClassifier(class_weight=None, crit...</td>\n",
       "      <td>2</td>\n",
       "      <td>{}</td>\n",
       "      <td>78.691</td>\n",
       "      <td>78.691</td>\n",
       "    </tr>\n",
       "    <tr>\n",
       "      <th>14</th>\n",
       "      <td>KNeighborsClassifier</td>\n",
       "      <td>KNeighborsClassifier(algorithm='auto', leaf_si...</td>\n",
       "      <td>1</td>\n",
       "      <td>{'n_neighbors': 5}</td>\n",
       "      <td>77.852</td>\n",
       "      <td>77.852</td>\n",
       "    </tr>\n",
       "    <tr>\n",
       "      <th>24</th>\n",
       "      <td>KNeighborsClassifier</td>\n",
       "      <td>KNeighborsClassifier(algorithm='auto', leaf_si...</td>\n",
       "      <td>2</td>\n",
       "      <td>{'n_neighbors': 3}</td>\n",
       "      <td>77.154</td>\n",
       "      <td>77.154</td>\n",
       "    </tr>\n",
       "    <tr>\n",
       "      <th>15</th>\n",
       "      <td>MLPClassifier</td>\n",
       "      <td>MLPClassifier(activation='relu', alpha=0.0001,...</td>\n",
       "      <td>1</td>\n",
       "      <td>{'hidden_layer_sizes': (50, 100, 50)}</td>\n",
       "      <td>62.248</td>\n",
       "      <td>62.248</td>\n",
       "    </tr>\n",
       "    <tr>\n",
       "      <th>25</th>\n",
       "      <td>MLPClassifier</td>\n",
       "      <td>MLPClassifier(activation='relu', alpha=0.0001,...</td>\n",
       "      <td>2</td>\n",
       "      <td>{'hidden_layer_sizes': (100,)}</td>\n",
       "      <td>59.176</td>\n",
       "      <td>59.176</td>\n",
       "    </tr>\n",
       "    <tr>\n",
       "      <th>8</th>\n",
       "      <td>SGDClassifier</td>\n",
       "      <td>SGDClassifier(alpha=0.0001, average=False, cla...</td>\n",
       "      <td>1</td>\n",
       "      <td>{'penalty': 'l1'}</td>\n",
       "      <td>51.846</td>\n",
       "      <td>51.846</td>\n",
       "    </tr>\n",
       "  </tbody>\n",
       "</table>\n",
       "</div>"
      ],
      "text/plain": [
       "                         Model  \\\n",
       "19               XGBClassifier   \n",
       "6                XGBClassifier   \n",
       "7       RandomForestClassifier   \n",
       "0                XGBClassifier   \n",
       "22  GradientBoostingClassifier   \n",
       "20          AdaBoostClassifier   \n",
       "2   GradientBoostingClassifier   \n",
       "23      RandomForestClassifier   \n",
       "5   GradientBoostingClassifier   \n",
       "12  GradientBoostingClassifier   \n",
       "3       RandomForestClassifier   \n",
       "9                XGBClassifier   \n",
       "29  GradientBoostingClassifier   \n",
       "13      RandomForestClassifier   \n",
       "28      DecisionTreeClassifier   \n",
       "10          AdaBoostClassifier   \n",
       "1           AdaBoostClassifier   \n",
       "21        ExtraTreesClassifier   \n",
       "11        ExtraTreesClassifier   \n",
       "26                         SVC   \n",
       "4       DecisionTreeClassifier   \n",
       "16                         SVC   \n",
       "27   GaussianProcessClassifier   \n",
       "17   GaussianProcessClassifier   \n",
       "18      DecisionTreeClassifier   \n",
       "14        KNeighborsClassifier   \n",
       "24        KNeighborsClassifier   \n",
       "15               MLPClassifier   \n",
       "25               MLPClassifier   \n",
       "8                SGDClassifier   \n",
       "\n",
       "                                            Estimator Trial  \\\n",
       "19  XGBClassifier(base_score=0.5, booster='gbtree'...     4   \n",
       "6   XGBClassifier(base_score=0.5, booster='gbtree'...     2   \n",
       "7   (DecisionTreeClassifier(class_weight=None, cri...     2   \n",
       "0   XGBClassifier(base_score=0.5, booster='gbtree'...     1   \n",
       "22  ([DecisionTreeRegressor(criterion='friedman_ms...     4   \n",
       "20  (DecisionTreeClassifier(class_weight=None, cri...     3   \n",
       "2   ([DecisionTreeRegressor(criterion='friedman_ms...     1   \n",
       "23  (DecisionTreeClassifier(class_weight=None, cri...     4   \n",
       "5   ([DecisionTreeRegressor(criterion='friedman_ms...     2   \n",
       "12  ([DecisionTreeRegressor(criterion='friedman_ms...     3   \n",
       "3   (DecisionTreeClassifier(class_weight=None, cri...     1   \n",
       "9   XGBClassifier(base_score=0.5, booster='gbtree'...     3   \n",
       "29  ([DecisionTreeRegressor(criterion='friedman_ms...     5   \n",
       "13  (DecisionTreeClassifier(class_weight=None, cri...     3   \n",
       "28  DecisionTreeClassifier(class_weight=None, crit...     3   \n",
       "10  (DecisionTreeClassifier(class_weight=None, cri...     2   \n",
       "1   (DecisionTreeClassifier(class_weight=None, cri...     1   \n",
       "21  (ExtraTreeClassifier(class_weight=None, criter...     2   \n",
       "11  (ExtraTreeClassifier(class_weight=None, criter...     1   \n",
       "26  SVC(C=30, cache_size=200, class_weight=None, c...     2   \n",
       "4   DecisionTreeClassifier(class_weight=None, crit...     1   \n",
       "16  SVC(C=1, cache_size=200, class_weight=None, co...     1   \n",
       "27  GaussianProcessClassifier(copy_X_train=True, k...     2   \n",
       "17  GaussianProcessClassifier(copy_X_train=True, k...     1   \n",
       "18  DecisionTreeClassifier(class_weight=None, crit...     2   \n",
       "14  KNeighborsClassifier(algorithm='auto', leaf_si...     1   \n",
       "24  KNeighborsClassifier(algorithm='auto', leaf_si...     2   \n",
       "15  MLPClassifier(activation='relu', alpha=0.0001,...     1   \n",
       "25  MLPClassifier(activation='relu', alpha=0.0001,...     2   \n",
       "8   SGDClassifier(alpha=0.0001, average=False, cla...     1   \n",
       "\n",
       "                                          Best Params Best Score  \\\n",
       "19  {'learning_rate': 0.1, 'max_depth': 4, 'n_esti...      84.27   \n",
       "6   {'colsample_bytree': 0.9, 'learning_rate': 0.1...     84.228   \n",
       "7   {'bootstrap': True, 'criterion': 'entropy', 'm...      84.06   \n",
       "0   {'learning_rate': 0.3, 'max_depth': 2, 'n_esti...     83.893   \n",
       "22     {'learning_rate': 0.03, 'loss': 'exponential'}     83.708   \n",
       "20       {'learning_rate': 0.03, 'n_estimators': 400}     83.708   \n",
       "2      {'learning_rate': 0.03, 'loss': 'exponential'}     83.557   \n",
       "23  {'criterion': 'entropy', 'max_features': 'log2...     83.521   \n",
       "5   {'criterion': 'friedman_mse', 'learning_rate':...     83.389   \n",
       "12      {'learning_rate': 0.1, 'loss': 'exponential'}     83.221   \n",
       "3   {'criterion': 'entropy', 'max_features': 'log2...     83.221   \n",
       "9   {'learning_rate': 0.1, 'max_depth': 3, 'n_esti...     83.221   \n",
       "29  {'criterion': 'friedman_mse', 'learning_rate':...     83.146   \n",
       "13  {'criterion': 'gini', 'max_features': 'sqrt', ...     82.886   \n",
       "28                                                 {}     82.772   \n",
       "10         {'learning_rate': 1.0, 'n_estimators': 10}     82.718   \n",
       "1          {'learning_rate': 1.0, 'n_estimators': 10}     82.718   \n",
       "21                               {'n_estimators': 50}     81.835   \n",
       "11                               {'n_estimators': 50}     81.376   \n",
       "26                            {'C': 30, 'gamma': 0.1}     80.899   \n",
       "4                                                  {}     80.705   \n",
       "16                               {'C': 1, 'gamma': 1}      79.53   \n",
       "27                                                 {}     79.401   \n",
       "17                                                 {}     79.027   \n",
       "18                                                 {}     78.691   \n",
       "14                                 {'n_neighbors': 5}     77.852   \n",
       "24                                 {'n_neighbors': 3}     77.154   \n",
       "15              {'hidden_layer_sizes': (50, 100, 50)}     62.248   \n",
       "25                     {'hidden_layer_sizes': (100,)}     59.176   \n",
       "8                                   {'penalty': 'l1'}     51.846   \n",
       "\n",
       "    Accuracy Score  \n",
       "19          84.270  \n",
       "6           84.228  \n",
       "7           84.060  \n",
       "0           83.893  \n",
       "22          83.708  \n",
       "20          83.708  \n",
       "2           83.557  \n",
       "23          83.521  \n",
       "5           83.389  \n",
       "12          83.221  \n",
       "3           83.221  \n",
       "9           83.221  \n",
       "29          83.146  \n",
       "13          82.886  \n",
       "28          82.772  \n",
       "10          82.718  \n",
       "1           82.718  \n",
       "21          81.835  \n",
       "11          81.376  \n",
       "26          80.899  \n",
       "4           80.705  \n",
       "16          79.530  \n",
       "27          79.401  \n",
       "17          79.027  \n",
       "18          78.691  \n",
       "14          77.852  \n",
       "24          77.154  \n",
       "15          62.248  \n",
       "25          59.176  \n",
       "8           51.846  "
      ]
     },
     "execution_count": 689,
     "metadata": {},
     "output_type": "execute_result"
    }
   ],
   "source": [
    "print_results(gb_tuned, gb_tuned_params, gb_accuracy, scores)"
   ]
  },
  {
   "cell_type": "markdown",
   "metadata": {},
   "source": [
    "### XGBClassifier"
   ]
  },
  {
   "cell_type": "code",
   "execution_count": 48,
   "metadata": {
    "ExecuteTime": {
     "end_time": "2019-01-21T14:15:19.427015Z",
     "start_time": "2019-01-21T14:15:19.421057Z"
    }
   },
   "outputs": [
    {
     "name": "stdout",
     "output_type": "stream",
     "text": [
      "{'booster': ['gbtree'],\n",
      " 'colsample_bytree': [0.8, 0.9, 1],\n",
      " 'learning_rate': [0.3, 0.25, 0.2, 0.15, 0.1],\n",
      " 'max_depth': [3],\n",
      " 'n_estimators': [8, 10, 11, 12, 13, 14],\n",
      " 'reg_alpha': [0],\n",
      " 'reg_lambda': [0.43, 0.44, 0.45, 0.46, 0.47, 0.48]}\n"
     ]
    }
   ],
   "source": [
    "n_estimators = [8,10,11,12,13,14] #,100,200]\n",
    "learning_rates = [0.3, 0.25, 0.2, 0.15, 0.1] #, 0.05, 0.03]\n",
    "max_depth = [3]\n",
    "reg_lambda = [.43, .44, .45, .46,.47, .48]\n",
    "colsample_bytree = [.8, .9, 1]\n",
    "reg_alpha = [0] #, 1e-06, 1e-07] #, 0.002, 0.003] #, 0.004, 0.005, 0.01]\n",
    "booster = ['gbtree'] #, 'gblinear', 'dart']\n",
    "\n",
    "tuned_param_grid = {'n_estimators': n_estimators, 'learning_rate': learning_rates, 'max_depth': max_depth, \n",
    "                    'reg_lambda': reg_lambda, 'reg_alpha': reg_alpha,\n",
    "                    'colsample_bytree': colsample_bytree, 'booster': booster\n",
    "                   }\n",
    "\n",
    "pprint(tuned_param_grid)"
   ]
  },
  {
   "cell_type": "code",
   "execution_count": null,
   "metadata": {},
   "outputs": [],
   "source": []
  },
  {
   "cell_type": "code",
   "execution_count": 54,
   "metadata": {
    "ExecuteTime": {
     "end_time": "2019-01-21T14:19:25.834357Z",
     "start_time": "2019-01-21T14:19:16.916130Z"
    }
   },
   "outputs": [
    {
     "name": "stdout",
     "output_type": "stream",
     "text": [
      "Training XGBClassifier...\n",
      "Fitting 5 folds for each of 540 candidates, totalling 2700 fits\n"
     ]
    },
    {
     "name": "stderr",
     "output_type": "stream",
     "text": [
      "[Parallel(n_jobs=-1)]: Using backend LokyBackend with 8 concurrent workers.\n",
      "[Parallel(n_jobs=-1)]: Done  34 tasks      | elapsed:    4.4s\n",
      "[Parallel(n_jobs=-1)]: Done 2700 out of 2700 | elapsed:    8.8s finished\n"
     ]
    }
   ],
   "source": [
    "scores, xgb_tuned, xgb_tuned_params, xgb_accuracy = train_model(xgb.XGBClassifier, tuned_param_grid, scores, X_train, X_test, y_train, y_test, verbose=1)"
   ]
  },
  {
   "cell_type": "code",
   "execution_count": 55,
   "metadata": {
    "ExecuteTime": {
     "end_time": "2019-01-21T14:19:33.609171Z",
     "start_time": "2019-01-21T14:19:33.598216Z"
    }
   },
   "outputs": [
    {
     "name": "stdout",
     "output_type": "stream",
     "text": [
      "XGBClassifier works best (85.206%) with {'booster': 'gbtree', 'colsample_bytree': 0.9, 'learning_rate': 0.3, 'max_depth': 3, 'n_estimators': 14, 'reg_alpha': 0, 'reg_lambda': 0.48}\n"
     ]
    },
    {
     "data": {
      "text/html": [
       "<div>\n",
       "<style scoped>\n",
       "    .dataframe tbody tr th:only-of-type {\n",
       "        vertical-align: middle;\n",
       "    }\n",
       "\n",
       "    .dataframe tbody tr th {\n",
       "        vertical-align: top;\n",
       "    }\n",
       "\n",
       "    .dataframe thead th {\n",
       "        text-align: right;\n",
       "    }\n",
       "</style>\n",
       "<table border=\"1\" class=\"dataframe\">\n",
       "  <thead>\n",
       "    <tr style=\"text-align: right;\">\n",
       "      <th></th>\n",
       "      <th>Model</th>\n",
       "      <th>Estimator</th>\n",
       "      <th>Trial</th>\n",
       "      <th>Best Params</th>\n",
       "      <th>Accuracy Score</th>\n",
       "    </tr>\n",
       "  </thead>\n",
       "  <tbody>\n",
       "    <tr>\n",
       "      <th>0</th>\n",
       "      <td>XGBClassifier</td>\n",
       "      <td>XGBClassifier(base_score=0.5, booster='gbtree'...</td>\n",
       "      <td>1</td>\n",
       "      <td>{'booster': 'gbtree', 'colsample_bytree': 0.9,...</td>\n",
       "      <td>85.206</td>\n",
       "    </tr>\n",
       "  </tbody>\n",
       "</table>\n",
       "</div>"
      ],
      "text/plain": [
       "           Model                                          Estimator Trial  \\\n",
       "0  XGBClassifier  XGBClassifier(base_score=0.5, booster='gbtree'...     1   \n",
       "\n",
       "                                         Best Params  Accuracy Score  \n",
       "0  {'booster': 'gbtree', 'colsample_bytree': 0.9,...          85.206  "
      ]
     },
     "execution_count": 55,
     "metadata": {},
     "output_type": "execute_result"
    }
   ],
   "source": [
    "print_results(xgb_tuned, xgb_tuned_params, xgb_accuracy, scores)"
   ]
  },
  {
   "cell_type": "markdown",
   "metadata": {},
   "source": [
    "### RandomForestClassifier"
   ]
  },
  {
   "cell_type": "code",
   "execution_count": 693,
   "metadata": {},
   "outputs": [
    {
     "name": "stdout",
     "output_type": "stream",
     "text": [
      "{'bootstrap': [True],\n",
      " 'criterion': ['entropy'],\n",
      " 'max_depth': [16, 17, 18, 19, 20, 21, 22, None],\n",
      " 'max_features': ['sqrt'],\n",
      " 'min_samples_leaf': [1],\n",
      " 'min_samples_split': [9, 10, 11],\n",
      " 'n_estimators': [1000, 1100, 1200, 1300, 1400, 1500, 1600]}\n"
     ]
    }
   ],
   "source": [
    "# Number of trees in random forest\n",
    "n_estimators = [int(x) for x in np.linspace(start = 1000, stop = 1600, num = 7)]\n",
    "# Number of features to consider at every split\n",
    "max_features = ['sqrt']\n",
    "# Maximum number of levels in tree\n",
    "max_depth = [int(x) for x in np.arange(16,23)]\n",
    "max_depth.append(None)\n",
    "# Minimum number of samples required to split a node\n",
    "min_samples_split = [int(x) for x in np.arange(9,12)]\n",
    "# Minimum number of samples required at each leaf node\n",
    "min_samples_leaf = [1]\n",
    "# Method of selecting samples for training each tree\n",
    "bootstrap = [True]\n",
    "criterion = ['entropy']\n",
    "\n",
    "tuned_param_grid = {'n_estimators': n_estimators,\n",
    "               'criterion': criterion,\n",
    "               'max_features': max_features,\n",
    "               'max_depth': max_depth,\n",
    "               'min_samples_split': min_samples_split,\n",
    "               'min_samples_leaf': min_samples_leaf,\n",
    "               'bootstrap': bootstrap}\n",
    "\n",
    "pprint(tuned_param_grid)"
   ]
  },
  {
   "cell_type": "code",
   "execution_count": 694,
   "metadata": {},
   "outputs": [
    {
     "name": "stdout",
     "output_type": "stream",
     "text": [
      "Training RandomForestClassifier...\n",
      "Fitting 5 folds for each of 168 candidates, totalling 840 fits\n"
     ]
    },
    {
     "name": "stderr",
     "output_type": "stream",
     "text": [
      "[Parallel(n_jobs=-1)]: Done  34 tasks      | elapsed:   19.8s\n",
      "[Parallel(n_jobs=-1)]: Done 184 tasks      | elapsed:  1.3min\n",
      "[Parallel(n_jobs=-1)]: Done 434 tasks      | elapsed:  2.9min\n",
      "[Parallel(n_jobs=-1)]: Done 784 tasks      | elapsed:  5.1min\n",
      "[Parallel(n_jobs=-1)]: Done 840 out of 840 | elapsed:  5.5min finished\n"
     ]
    }
   ],
   "source": [
    "scores, rf_tuned, rf_tuned_params, rf_accuracy = train_model(RandomForestClassifier, tuned_param_grid, scores, X_train, X_test, y_train, y_test, verbose=1)"
   ]
  },
  {
   "cell_type": "code",
   "execution_count": 695,
   "metadata": {},
   "outputs": [
    {
     "name": "stdout",
     "output_type": "stream",
     "text": [
      "RandomForestClassifier works best (83.146%) with {'bootstrap': True, 'criterion': 'entropy', 'max_depth': None, 'max_features': 'sqrt', 'min_samples_leaf': 1, 'min_samples_split': 9, 'n_estimators': 1100}\n"
     ]
    },
    {
     "data": {
      "text/html": [
       "<div>\n",
       "<style scoped>\n",
       "    .dataframe tbody tr th:only-of-type {\n",
       "        vertical-align: middle;\n",
       "    }\n",
       "\n",
       "    .dataframe tbody tr th {\n",
       "        vertical-align: top;\n",
       "    }\n",
       "\n",
       "    .dataframe thead th {\n",
       "        text-align: right;\n",
       "    }\n",
       "</style>\n",
       "<table border=\"1\" class=\"dataframe\">\n",
       "  <thead>\n",
       "    <tr style=\"text-align: right;\">\n",
       "      <th></th>\n",
       "      <th>Model</th>\n",
       "      <th>Estimator</th>\n",
       "      <th>Trial</th>\n",
       "      <th>Best Params</th>\n",
       "      <th>Best Score</th>\n",
       "      <th>Accuracy Score</th>\n",
       "    </tr>\n",
       "  </thead>\n",
       "  <tbody>\n",
       "    <tr>\n",
       "      <th>30</th>\n",
       "      <td>XGBClassifier</td>\n",
       "      <td>XGBClassifier(base_score=0.5, booster='gbtree'...</td>\n",
       "      <td>5</td>\n",
       "      <td>{'colsample_bytree': 0.8, 'learning_rate': 0.2...</td>\n",
       "      <td>84.457</td>\n",
       "      <td>84.457</td>\n",
       "    </tr>\n",
       "    <tr>\n",
       "      <th>19</th>\n",
       "      <td>XGBClassifier</td>\n",
       "      <td>XGBClassifier(base_score=0.5, booster='gbtree'...</td>\n",
       "      <td>4</td>\n",
       "      <td>{'learning_rate': 0.1, 'max_depth': 4, 'n_esti...</td>\n",
       "      <td>84.27</td>\n",
       "      <td>84.270</td>\n",
       "    </tr>\n",
       "    <tr>\n",
       "      <th>6</th>\n",
       "      <td>XGBClassifier</td>\n",
       "      <td>XGBClassifier(base_score=0.5, booster='gbtree'...</td>\n",
       "      <td>2</td>\n",
       "      <td>{'colsample_bytree': 0.9, 'learning_rate': 0.1...</td>\n",
       "      <td>84.228</td>\n",
       "      <td>84.228</td>\n",
       "    </tr>\n",
       "    <tr>\n",
       "      <th>7</th>\n",
       "      <td>RandomForestClassifier</td>\n",
       "      <td>(DecisionTreeClassifier(class_weight=None, cri...</td>\n",
       "      <td>2</td>\n",
       "      <td>{'bootstrap': True, 'criterion': 'entropy', 'm...</td>\n",
       "      <td>84.06</td>\n",
       "      <td>84.060</td>\n",
       "    </tr>\n",
       "    <tr>\n",
       "      <th>0</th>\n",
       "      <td>XGBClassifier</td>\n",
       "      <td>XGBClassifier(base_score=0.5, booster='gbtree'...</td>\n",
       "      <td>1</td>\n",
       "      <td>{'learning_rate': 0.3, 'max_depth': 2, 'n_esti...</td>\n",
       "      <td>83.893</td>\n",
       "      <td>83.893</td>\n",
       "    </tr>\n",
       "    <tr>\n",
       "      <th>22</th>\n",
       "      <td>GradientBoostingClassifier</td>\n",
       "      <td>([DecisionTreeRegressor(criterion='friedman_ms...</td>\n",
       "      <td>4</td>\n",
       "      <td>{'learning_rate': 0.03, 'loss': 'exponential'}</td>\n",
       "      <td>83.708</td>\n",
       "      <td>83.708</td>\n",
       "    </tr>\n",
       "    <tr>\n",
       "      <th>20</th>\n",
       "      <td>AdaBoostClassifier</td>\n",
       "      <td>(DecisionTreeClassifier(class_weight=None, cri...</td>\n",
       "      <td>3</td>\n",
       "      <td>{'learning_rate': 0.03, 'n_estimators': 400}</td>\n",
       "      <td>83.708</td>\n",
       "      <td>83.708</td>\n",
       "    </tr>\n",
       "    <tr>\n",
       "      <th>2</th>\n",
       "      <td>GradientBoostingClassifier</td>\n",
       "      <td>([DecisionTreeRegressor(criterion='friedman_ms...</td>\n",
       "      <td>1</td>\n",
       "      <td>{'learning_rate': 0.03, 'loss': 'exponential'}</td>\n",
       "      <td>83.557</td>\n",
       "      <td>83.557</td>\n",
       "    </tr>\n",
       "    <tr>\n",
       "      <th>23</th>\n",
       "      <td>RandomForestClassifier</td>\n",
       "      <td>(DecisionTreeClassifier(class_weight=None, cri...</td>\n",
       "      <td>4</td>\n",
       "      <td>{'criterion': 'entropy', 'max_features': 'log2...</td>\n",
       "      <td>83.521</td>\n",
       "      <td>83.521</td>\n",
       "    </tr>\n",
       "    <tr>\n",
       "      <th>5</th>\n",
       "      <td>GradientBoostingClassifier</td>\n",
       "      <td>([DecisionTreeRegressor(criterion='friedman_ms...</td>\n",
       "      <td>2</td>\n",
       "      <td>{'criterion': 'friedman_mse', 'learning_rate':...</td>\n",
       "      <td>83.389</td>\n",
       "      <td>83.389</td>\n",
       "    </tr>\n",
       "    <tr>\n",
       "      <th>3</th>\n",
       "      <td>RandomForestClassifier</td>\n",
       "      <td>(DecisionTreeClassifier(class_weight=None, cri...</td>\n",
       "      <td>1</td>\n",
       "      <td>{'criterion': 'entropy', 'max_features': 'log2...</td>\n",
       "      <td>83.221</td>\n",
       "      <td>83.221</td>\n",
       "    </tr>\n",
       "    <tr>\n",
       "      <th>9</th>\n",
       "      <td>XGBClassifier</td>\n",
       "      <td>XGBClassifier(base_score=0.5, booster='gbtree'...</td>\n",
       "      <td>3</td>\n",
       "      <td>{'learning_rate': 0.1, 'max_depth': 3, 'n_esti...</td>\n",
       "      <td>83.221</td>\n",
       "      <td>83.221</td>\n",
       "    </tr>\n",
       "    <tr>\n",
       "      <th>12</th>\n",
       "      <td>GradientBoostingClassifier</td>\n",
       "      <td>([DecisionTreeRegressor(criterion='friedman_ms...</td>\n",
       "      <td>3</td>\n",
       "      <td>{'learning_rate': 0.1, 'loss': 'exponential'}</td>\n",
       "      <td>83.221</td>\n",
       "      <td>83.221</td>\n",
       "    </tr>\n",
       "    <tr>\n",
       "      <th>29</th>\n",
       "      <td>GradientBoostingClassifier</td>\n",
       "      <td>([DecisionTreeRegressor(criterion='friedman_ms...</td>\n",
       "      <td>5</td>\n",
       "      <td>{'criterion': 'friedman_mse', 'learning_rate':...</td>\n",
       "      <td>83.146</td>\n",
       "      <td>83.146</td>\n",
       "    </tr>\n",
       "    <tr>\n",
       "      <th>31</th>\n",
       "      <td>RandomForestClassifier</td>\n",
       "      <td>(DecisionTreeClassifier(class_weight=None, cri...</td>\n",
       "      <td>5</td>\n",
       "      <td>{'bootstrap': True, 'criterion': 'entropy', 'm...</td>\n",
       "      <td>83.146</td>\n",
       "      <td>83.146</td>\n",
       "    </tr>\n",
       "    <tr>\n",
       "      <th>13</th>\n",
       "      <td>RandomForestClassifier</td>\n",
       "      <td>(DecisionTreeClassifier(class_weight=None, cri...</td>\n",
       "      <td>3</td>\n",
       "      <td>{'criterion': 'gini', 'max_features': 'sqrt', ...</td>\n",
       "      <td>82.886</td>\n",
       "      <td>82.886</td>\n",
       "    </tr>\n",
       "    <tr>\n",
       "      <th>28</th>\n",
       "      <td>DecisionTreeClassifier</td>\n",
       "      <td>DecisionTreeClassifier(class_weight=None, crit...</td>\n",
       "      <td>3</td>\n",
       "      <td>{}</td>\n",
       "      <td>82.772</td>\n",
       "      <td>82.772</td>\n",
       "    </tr>\n",
       "    <tr>\n",
       "      <th>10</th>\n",
       "      <td>AdaBoostClassifier</td>\n",
       "      <td>(DecisionTreeClassifier(class_weight=None, cri...</td>\n",
       "      <td>2</td>\n",
       "      <td>{'learning_rate': 1.0, 'n_estimators': 10}</td>\n",
       "      <td>82.718</td>\n",
       "      <td>82.718</td>\n",
       "    </tr>\n",
       "    <tr>\n",
       "      <th>1</th>\n",
       "      <td>AdaBoostClassifier</td>\n",
       "      <td>(DecisionTreeClassifier(class_weight=None, cri...</td>\n",
       "      <td>1</td>\n",
       "      <td>{'learning_rate': 1.0, 'n_estimators': 10}</td>\n",
       "      <td>82.718</td>\n",
       "      <td>82.718</td>\n",
       "    </tr>\n",
       "    <tr>\n",
       "      <th>21</th>\n",
       "      <td>ExtraTreesClassifier</td>\n",
       "      <td>(ExtraTreeClassifier(class_weight=None, criter...</td>\n",
       "      <td>2</td>\n",
       "      <td>{'n_estimators': 50}</td>\n",
       "      <td>81.835</td>\n",
       "      <td>81.835</td>\n",
       "    </tr>\n",
       "    <tr>\n",
       "      <th>11</th>\n",
       "      <td>ExtraTreesClassifier</td>\n",
       "      <td>(ExtraTreeClassifier(class_weight=None, criter...</td>\n",
       "      <td>1</td>\n",
       "      <td>{'n_estimators': 50}</td>\n",
       "      <td>81.376</td>\n",
       "      <td>81.376</td>\n",
       "    </tr>\n",
       "    <tr>\n",
       "      <th>26</th>\n",
       "      <td>SVC</td>\n",
       "      <td>SVC(C=30, cache_size=200, class_weight=None, c...</td>\n",
       "      <td>2</td>\n",
       "      <td>{'C': 30, 'gamma': 0.1}</td>\n",
       "      <td>80.899</td>\n",
       "      <td>80.899</td>\n",
       "    </tr>\n",
       "    <tr>\n",
       "      <th>4</th>\n",
       "      <td>DecisionTreeClassifier</td>\n",
       "      <td>DecisionTreeClassifier(class_weight=None, crit...</td>\n",
       "      <td>1</td>\n",
       "      <td>{}</td>\n",
       "      <td>80.705</td>\n",
       "      <td>80.705</td>\n",
       "    </tr>\n",
       "    <tr>\n",
       "      <th>16</th>\n",
       "      <td>SVC</td>\n",
       "      <td>SVC(C=1, cache_size=200, class_weight=None, co...</td>\n",
       "      <td>1</td>\n",
       "      <td>{'C': 1, 'gamma': 1}</td>\n",
       "      <td>79.53</td>\n",
       "      <td>79.530</td>\n",
       "    </tr>\n",
       "    <tr>\n",
       "      <th>27</th>\n",
       "      <td>GaussianProcessClassifier</td>\n",
       "      <td>GaussianProcessClassifier(copy_X_train=True, k...</td>\n",
       "      <td>2</td>\n",
       "      <td>{}</td>\n",
       "      <td>79.401</td>\n",
       "      <td>79.401</td>\n",
       "    </tr>\n",
       "    <tr>\n",
       "      <th>17</th>\n",
       "      <td>GaussianProcessClassifier</td>\n",
       "      <td>GaussianProcessClassifier(copy_X_train=True, k...</td>\n",
       "      <td>1</td>\n",
       "      <td>{}</td>\n",
       "      <td>79.027</td>\n",
       "      <td>79.027</td>\n",
       "    </tr>\n",
       "    <tr>\n",
       "      <th>18</th>\n",
       "      <td>DecisionTreeClassifier</td>\n",
       "      <td>DecisionTreeClassifier(class_weight=None, crit...</td>\n",
       "      <td>2</td>\n",
       "      <td>{}</td>\n",
       "      <td>78.691</td>\n",
       "      <td>78.691</td>\n",
       "    </tr>\n",
       "    <tr>\n",
       "      <th>14</th>\n",
       "      <td>KNeighborsClassifier</td>\n",
       "      <td>KNeighborsClassifier(algorithm='auto', leaf_si...</td>\n",
       "      <td>1</td>\n",
       "      <td>{'n_neighbors': 5}</td>\n",
       "      <td>77.852</td>\n",
       "      <td>77.852</td>\n",
       "    </tr>\n",
       "    <tr>\n",
       "      <th>24</th>\n",
       "      <td>KNeighborsClassifier</td>\n",
       "      <td>KNeighborsClassifier(algorithm='auto', leaf_si...</td>\n",
       "      <td>2</td>\n",
       "      <td>{'n_neighbors': 3}</td>\n",
       "      <td>77.154</td>\n",
       "      <td>77.154</td>\n",
       "    </tr>\n",
       "    <tr>\n",
       "      <th>15</th>\n",
       "      <td>MLPClassifier</td>\n",
       "      <td>MLPClassifier(activation='relu', alpha=0.0001,...</td>\n",
       "      <td>1</td>\n",
       "      <td>{'hidden_layer_sizes': (50, 100, 50)}</td>\n",
       "      <td>62.248</td>\n",
       "      <td>62.248</td>\n",
       "    </tr>\n",
       "    <tr>\n",
       "      <th>25</th>\n",
       "      <td>MLPClassifier</td>\n",
       "      <td>MLPClassifier(activation='relu', alpha=0.0001,...</td>\n",
       "      <td>2</td>\n",
       "      <td>{'hidden_layer_sizes': (100,)}</td>\n",
       "      <td>59.176</td>\n",
       "      <td>59.176</td>\n",
       "    </tr>\n",
       "    <tr>\n",
       "      <th>8</th>\n",
       "      <td>SGDClassifier</td>\n",
       "      <td>SGDClassifier(alpha=0.0001, average=False, cla...</td>\n",
       "      <td>1</td>\n",
       "      <td>{'penalty': 'l1'}</td>\n",
       "      <td>51.846</td>\n",
       "      <td>51.846</td>\n",
       "    </tr>\n",
       "  </tbody>\n",
       "</table>\n",
       "</div>"
      ],
      "text/plain": [
       "                         Model  \\\n",
       "30               XGBClassifier   \n",
       "19               XGBClassifier   \n",
       "6                XGBClassifier   \n",
       "7       RandomForestClassifier   \n",
       "0                XGBClassifier   \n",
       "22  GradientBoostingClassifier   \n",
       "20          AdaBoostClassifier   \n",
       "2   GradientBoostingClassifier   \n",
       "23      RandomForestClassifier   \n",
       "5   GradientBoostingClassifier   \n",
       "3       RandomForestClassifier   \n",
       "9                XGBClassifier   \n",
       "12  GradientBoostingClassifier   \n",
       "29  GradientBoostingClassifier   \n",
       "31      RandomForestClassifier   \n",
       "13      RandomForestClassifier   \n",
       "28      DecisionTreeClassifier   \n",
       "10          AdaBoostClassifier   \n",
       "1           AdaBoostClassifier   \n",
       "21        ExtraTreesClassifier   \n",
       "11        ExtraTreesClassifier   \n",
       "26                         SVC   \n",
       "4       DecisionTreeClassifier   \n",
       "16                         SVC   \n",
       "27   GaussianProcessClassifier   \n",
       "17   GaussianProcessClassifier   \n",
       "18      DecisionTreeClassifier   \n",
       "14        KNeighborsClassifier   \n",
       "24        KNeighborsClassifier   \n",
       "15               MLPClassifier   \n",
       "25               MLPClassifier   \n",
       "8                SGDClassifier   \n",
       "\n",
       "                                            Estimator Trial  \\\n",
       "30  XGBClassifier(base_score=0.5, booster='gbtree'...     5   \n",
       "19  XGBClassifier(base_score=0.5, booster='gbtree'...     4   \n",
       "6   XGBClassifier(base_score=0.5, booster='gbtree'...     2   \n",
       "7   (DecisionTreeClassifier(class_weight=None, cri...     2   \n",
       "0   XGBClassifier(base_score=0.5, booster='gbtree'...     1   \n",
       "22  ([DecisionTreeRegressor(criterion='friedman_ms...     4   \n",
       "20  (DecisionTreeClassifier(class_weight=None, cri...     3   \n",
       "2   ([DecisionTreeRegressor(criterion='friedman_ms...     1   \n",
       "23  (DecisionTreeClassifier(class_weight=None, cri...     4   \n",
       "5   ([DecisionTreeRegressor(criterion='friedman_ms...     2   \n",
       "3   (DecisionTreeClassifier(class_weight=None, cri...     1   \n",
       "9   XGBClassifier(base_score=0.5, booster='gbtree'...     3   \n",
       "12  ([DecisionTreeRegressor(criterion='friedman_ms...     3   \n",
       "29  ([DecisionTreeRegressor(criterion='friedman_ms...     5   \n",
       "31  (DecisionTreeClassifier(class_weight=None, cri...     5   \n",
       "13  (DecisionTreeClassifier(class_weight=None, cri...     3   \n",
       "28  DecisionTreeClassifier(class_weight=None, crit...     3   \n",
       "10  (DecisionTreeClassifier(class_weight=None, cri...     2   \n",
       "1   (DecisionTreeClassifier(class_weight=None, cri...     1   \n",
       "21  (ExtraTreeClassifier(class_weight=None, criter...     2   \n",
       "11  (ExtraTreeClassifier(class_weight=None, criter...     1   \n",
       "26  SVC(C=30, cache_size=200, class_weight=None, c...     2   \n",
       "4   DecisionTreeClassifier(class_weight=None, crit...     1   \n",
       "16  SVC(C=1, cache_size=200, class_weight=None, co...     1   \n",
       "27  GaussianProcessClassifier(copy_X_train=True, k...     2   \n",
       "17  GaussianProcessClassifier(copy_X_train=True, k...     1   \n",
       "18  DecisionTreeClassifier(class_weight=None, crit...     2   \n",
       "14  KNeighborsClassifier(algorithm='auto', leaf_si...     1   \n",
       "24  KNeighborsClassifier(algorithm='auto', leaf_si...     2   \n",
       "15  MLPClassifier(activation='relu', alpha=0.0001,...     1   \n",
       "25  MLPClassifier(activation='relu', alpha=0.0001,...     2   \n",
       "8   SGDClassifier(alpha=0.0001, average=False, cla...     1   \n",
       "\n",
       "                                          Best Params Best Score  \\\n",
       "30  {'colsample_bytree': 0.8, 'learning_rate': 0.2...     84.457   \n",
       "19  {'learning_rate': 0.1, 'max_depth': 4, 'n_esti...      84.27   \n",
       "6   {'colsample_bytree': 0.9, 'learning_rate': 0.1...     84.228   \n",
       "7   {'bootstrap': True, 'criterion': 'entropy', 'm...      84.06   \n",
       "0   {'learning_rate': 0.3, 'max_depth': 2, 'n_esti...     83.893   \n",
       "22     {'learning_rate': 0.03, 'loss': 'exponential'}     83.708   \n",
       "20       {'learning_rate': 0.03, 'n_estimators': 400}     83.708   \n",
       "2      {'learning_rate': 0.03, 'loss': 'exponential'}     83.557   \n",
       "23  {'criterion': 'entropy', 'max_features': 'log2...     83.521   \n",
       "5   {'criterion': 'friedman_mse', 'learning_rate':...     83.389   \n",
       "3   {'criterion': 'entropy', 'max_features': 'log2...     83.221   \n",
       "9   {'learning_rate': 0.1, 'max_depth': 3, 'n_esti...     83.221   \n",
       "12      {'learning_rate': 0.1, 'loss': 'exponential'}     83.221   \n",
       "29  {'criterion': 'friedman_mse', 'learning_rate':...     83.146   \n",
       "31  {'bootstrap': True, 'criterion': 'entropy', 'm...     83.146   \n",
       "13  {'criterion': 'gini', 'max_features': 'sqrt', ...     82.886   \n",
       "28                                                 {}     82.772   \n",
       "10         {'learning_rate': 1.0, 'n_estimators': 10}     82.718   \n",
       "1          {'learning_rate': 1.0, 'n_estimators': 10}     82.718   \n",
       "21                               {'n_estimators': 50}     81.835   \n",
       "11                               {'n_estimators': 50}     81.376   \n",
       "26                            {'C': 30, 'gamma': 0.1}     80.899   \n",
       "4                                                  {}     80.705   \n",
       "16                               {'C': 1, 'gamma': 1}      79.53   \n",
       "27                                                 {}     79.401   \n",
       "17                                                 {}     79.027   \n",
       "18                                                 {}     78.691   \n",
       "14                                 {'n_neighbors': 5}     77.852   \n",
       "24                                 {'n_neighbors': 3}     77.154   \n",
       "15              {'hidden_layer_sizes': (50, 100, 50)}     62.248   \n",
       "25                     {'hidden_layer_sizes': (100,)}     59.176   \n",
       "8                                   {'penalty': 'l1'}     51.846   \n",
       "\n",
       "    Accuracy Score  \n",
       "30          84.457  \n",
       "19          84.270  \n",
       "6           84.228  \n",
       "7           84.060  \n",
       "0           83.893  \n",
       "22          83.708  \n",
       "20          83.708  \n",
       "2           83.557  \n",
       "23          83.521  \n",
       "5           83.389  \n",
       "3           83.221  \n",
       "9           83.221  \n",
       "12          83.221  \n",
       "29          83.146  \n",
       "31          83.146  \n",
       "13          82.886  \n",
       "28          82.772  \n",
       "10          82.718  \n",
       "1           82.718  \n",
       "21          81.835  \n",
       "11          81.376  \n",
       "26          80.899  \n",
       "4           80.705  \n",
       "16          79.530  \n",
       "27          79.401  \n",
       "17          79.027  \n",
       "18          78.691  \n",
       "14          77.852  \n",
       "24          77.154  \n",
       "15          62.248  \n",
       "25          59.176  \n",
       "8           51.846  "
      ]
     },
     "execution_count": 695,
     "metadata": {},
     "output_type": "execute_result"
    }
   ],
   "source": [
    "print_results(rf_tuned, rf_tuned_params, rf_accuracy, scores)"
   ]
  },
  {
   "cell_type": "code",
   "execution_count": null,
   "metadata": {},
   "outputs": [],
   "source": []
  },
  {
   "cell_type": "markdown",
   "metadata": {},
   "source": [
    "# Making Predictions"
   ]
  },
  {
   "cell_type": "code",
   "execution_count": 87,
   "metadata": {
    "ExecuteTime": {
     "end_time": "2019-01-21T14:47:30.895737Z",
     "start_time": "2019-01-21T14:47:30.890752Z"
    }
   },
   "outputs": [],
   "source": [
    "from sklearn.ensemble import VotingClassifier"
   ]
  },
  {
   "cell_type": "code",
   "execution_count": 88,
   "metadata": {
    "ExecuteTime": {
     "end_time": "2019-01-21T14:47:31.441162Z",
     "start_time": "2019-01-21T14:47:31.412237Z"
    }
   },
   "outputs": [
    {
     "data": {
      "text/html": [
       "<div>\n",
       "<style scoped>\n",
       "    .dataframe tbody tr th:only-of-type {\n",
       "        vertical-align: middle;\n",
       "    }\n",
       "\n",
       "    .dataframe tbody tr th {\n",
       "        vertical-align: top;\n",
       "    }\n",
       "\n",
       "    .dataframe thead th {\n",
       "        text-align: right;\n",
       "    }\n",
       "</style>\n",
       "<table border=\"1\" class=\"dataframe\">\n",
       "  <thead>\n",
       "    <tr style=\"text-align: right;\">\n",
       "      <th></th>\n",
       "      <th>Model</th>\n",
       "      <th>Trial</th>\n",
       "      <th>Best Params</th>\n",
       "      <th>Accuracy Score</th>\n",
       "    </tr>\n",
       "  </thead>\n",
       "  <tbody>\n",
       "    <tr>\n",
       "      <th>0</th>\n",
       "      <td>XGBClassifier</td>\n",
       "      <td>24</td>\n",
       "      <td>{'booster': 'gbtree', 'colsample_bytree': 0.9,...</td>\n",
       "      <td>85.206</td>\n",
       "    </tr>\n",
       "  </tbody>\n",
       "</table>\n",
       "</div>"
      ],
      "text/plain": [
       "           Model  Trial                                        Best Params  \\\n",
       "0  XGBClassifier     24  {'booster': 'gbtree', 'colsample_bytree': 0.9,...   \n",
       "\n",
       "   Accuracy Score  \n",
       "0          85.206  "
      ]
     },
     "execution_count": 88,
     "metadata": {},
     "output_type": "execute_result"
    }
   ],
   "source": [
    "scores.groupby('Model', as_index=False).max().sort_values('Accuracy Score', ascending=False)"
   ]
  },
  {
   "cell_type": "code",
   "execution_count": 89,
   "metadata": {
    "ExecuteTime": {
     "end_time": "2019-01-21T14:47:32.264977Z",
     "start_time": "2019-01-21T14:47:32.240062Z"
    }
   },
   "outputs": [
    {
     "data": {
      "text/html": [
       "<div>\n",
       "<style scoped>\n",
       "    .dataframe tbody tr th:only-of-type {\n",
       "        vertical-align: middle;\n",
       "    }\n",
       "\n",
       "    .dataframe tbody tr th {\n",
       "        vertical-align: top;\n",
       "    }\n",
       "\n",
       "    .dataframe thead th {\n",
       "        text-align: right;\n",
       "    }\n",
       "</style>\n",
       "<table border=\"1\" class=\"dataframe\">\n",
       "  <thead>\n",
       "    <tr style=\"text-align: right;\">\n",
       "      <th></th>\n",
       "      <th>Model</th>\n",
       "      <th>Trial</th>\n",
       "      <th>Best Params</th>\n",
       "      <th>Accuracy Score</th>\n",
       "    </tr>\n",
       "  </thead>\n",
       "  <tbody>\n",
       "    <tr>\n",
       "      <th>0</th>\n",
       "      <td>XGBClassifier</td>\n",
       "      <td>24</td>\n",
       "      <td>{'booster': 'gbtree', 'colsample_bytree': 0.9,...</td>\n",
       "      <td>85.206</td>\n",
       "    </tr>\n",
       "  </tbody>\n",
       "</table>\n",
       "</div>"
      ],
      "text/plain": [
       "           Model  Trial                                        Best Params  \\\n",
       "0  XGBClassifier     24  {'booster': 'gbtree', 'colsample_bytree': 0.9,...   \n",
       "\n",
       "   Accuracy Score  \n",
       "0          85.206  "
      ]
     },
     "execution_count": 89,
     "metadata": {},
     "output_type": "execute_result"
    }
   ],
   "source": [
    "best_estimators = []\n",
    "top_X = scores.groupby('Model', as_index=False).max().sort_values('Accuracy Score', ascending=False).head(6)\n",
    "top_X"
   ]
  },
  {
   "cell_type": "code",
   "execution_count": 90,
   "metadata": {
    "ExecuteTime": {
     "end_time": "2019-01-21T14:47:33.035776Z",
     "start_time": "2019-01-21T14:47:33.013836Z"
    }
   },
   "outputs": [
    {
     "ename": "IndexError",
     "evalue": "single positional indexer is out-of-bounds",
     "output_type": "error",
     "traceback": [
      "\u001b[1;31m---------------------------------------------------------------------------\u001b[0m",
      "\u001b[1;31mIndexError\u001b[0m                                Traceback (most recent call last)",
      "\u001b[1;32m<ipython-input-90-a2a305469929>\u001b[0m in \u001b[0;36m<module>\u001b[1;34m\u001b[0m\n\u001b[0;32m      1\u001b[0m \u001b[1;32mfor\u001b[0m \u001b[0mi\u001b[0m \u001b[1;32min\u001b[0m \u001b[0mnp\u001b[0m\u001b[1;33m.\u001b[0m\u001b[0marange\u001b[0m\u001b[1;33m(\u001b[0m\u001b[1;36m0\u001b[0m\u001b[1;33m,\u001b[0m\u001b[1;36m6\u001b[0m\u001b[1;33m)\u001b[0m\u001b[1;33m:\u001b[0m\u001b[1;33m\u001b[0m\u001b[1;33m\u001b[0m\u001b[0m\n\u001b[1;32m----> 2\u001b[1;33m     \u001b[0mestimator\u001b[0m \u001b[1;33m=\u001b[0m \u001b[0mscores\u001b[0m\u001b[1;33m[\u001b[0m\u001b[1;33m(\u001b[0m\u001b[0mscores\u001b[0m\u001b[1;33m[\u001b[0m\u001b[1;34m'Model'\u001b[0m\u001b[1;33m]\u001b[0m\u001b[1;33m==\u001b[0m\u001b[0mtop_X\u001b[0m\u001b[1;33m.\u001b[0m\u001b[0miloc\u001b[0m\u001b[1;33m[\u001b[0m\u001b[0mi\u001b[0m\u001b[1;33m]\u001b[0m\u001b[1;33m[\u001b[0m\u001b[1;34m'Model'\u001b[0m\u001b[1;33m]\u001b[0m\u001b[1;33m)\u001b[0m \u001b[1;33m&\u001b[0m \u001b[1;33m(\u001b[0m\u001b[0mscores\u001b[0m\u001b[1;33m[\u001b[0m\u001b[1;34m'Trial'\u001b[0m\u001b[1;33m]\u001b[0m\u001b[1;33m==\u001b[0m\u001b[0mtop_X\u001b[0m\u001b[1;33m.\u001b[0m\u001b[0miloc\u001b[0m\u001b[1;33m[\u001b[0m\u001b[0mi\u001b[0m\u001b[1;33m]\u001b[0m\u001b[1;33m[\u001b[0m\u001b[1;34m'Trial'\u001b[0m\u001b[1;33m]\u001b[0m\u001b[1;33m)\u001b[0m\u001b[1;33m]\u001b[0m\u001b[1;33m.\u001b[0m\u001b[0miloc\u001b[0m\u001b[1;33m[\u001b[0m\u001b[1;36m0\u001b[0m\u001b[1;33m]\u001b[0m\u001b[1;33m[\u001b[0m\u001b[1;34m'Estimator'\u001b[0m\u001b[1;33m]\u001b[0m\u001b[1;33m\u001b[0m\u001b[1;33m\u001b[0m\u001b[0m\n\u001b[0m\u001b[0;32m      3\u001b[0m     \u001b[0mbest_estimators\u001b[0m\u001b[1;33m.\u001b[0m\u001b[0mappend\u001b[0m\u001b[1;33m(\u001b[0m\u001b[1;33m(\u001b[0m\u001b[0mtop_X\u001b[0m\u001b[1;33m.\u001b[0m\u001b[0miloc\u001b[0m\u001b[1;33m[\u001b[0m\u001b[0mi\u001b[0m\u001b[1;33m]\u001b[0m\u001b[1;33m[\u001b[0m\u001b[1;34m'Model'\u001b[0m\u001b[1;33m]\u001b[0m\u001b[1;33m,\u001b[0m \u001b[0mestimator\u001b[0m\u001b[1;33m)\u001b[0m\u001b[1;33m)\u001b[0m\u001b[1;33m\u001b[0m\u001b[1;33m\u001b[0m\u001b[0m\n",
      "\u001b[1;32m~\\Anaconda3\\lib\\site-packages\\pandas\\core\\indexing.py\u001b[0m in \u001b[0;36m__getitem__\u001b[1;34m(self, key)\u001b[0m\n\u001b[0;32m   1476\u001b[0m \u001b[1;33m\u001b[0m\u001b[0m\n\u001b[0;32m   1477\u001b[0m             \u001b[0mmaybe_callable\u001b[0m \u001b[1;33m=\u001b[0m \u001b[0mcom\u001b[0m\u001b[1;33m.\u001b[0m\u001b[0m_apply_if_callable\u001b[0m\u001b[1;33m(\u001b[0m\u001b[0mkey\u001b[0m\u001b[1;33m,\u001b[0m \u001b[0mself\u001b[0m\u001b[1;33m.\u001b[0m\u001b[0mobj\u001b[0m\u001b[1;33m)\u001b[0m\u001b[1;33m\u001b[0m\u001b[1;33m\u001b[0m\u001b[0m\n\u001b[1;32m-> 1478\u001b[1;33m             \u001b[1;32mreturn\u001b[0m \u001b[0mself\u001b[0m\u001b[1;33m.\u001b[0m\u001b[0m_getitem_axis\u001b[0m\u001b[1;33m(\u001b[0m\u001b[0mmaybe_callable\u001b[0m\u001b[1;33m,\u001b[0m \u001b[0maxis\u001b[0m\u001b[1;33m=\u001b[0m\u001b[0maxis\u001b[0m\u001b[1;33m)\u001b[0m\u001b[1;33m\u001b[0m\u001b[1;33m\u001b[0m\u001b[0m\n\u001b[0m\u001b[0;32m   1479\u001b[0m \u001b[1;33m\u001b[0m\u001b[0m\n\u001b[0;32m   1480\u001b[0m     \u001b[1;32mdef\u001b[0m \u001b[0m_is_scalar_access\u001b[0m\u001b[1;33m(\u001b[0m\u001b[0mself\u001b[0m\u001b[1;33m,\u001b[0m \u001b[0mkey\u001b[0m\u001b[1;33m)\u001b[0m\u001b[1;33m:\u001b[0m\u001b[1;33m\u001b[0m\u001b[1;33m\u001b[0m\u001b[0m\n",
      "\u001b[1;32m~\\Anaconda3\\lib\\site-packages\\pandas\\core\\indexing.py\u001b[0m in \u001b[0;36m_getitem_axis\u001b[1;34m(self, key, axis)\u001b[0m\n\u001b[0;32m   2100\u001b[0m \u001b[1;33m\u001b[0m\u001b[0m\n\u001b[0;32m   2101\u001b[0m             \u001b[1;31m# validate the location\u001b[0m\u001b[1;33m\u001b[0m\u001b[1;33m\u001b[0m\u001b[1;33m\u001b[0m\u001b[0m\n\u001b[1;32m-> 2102\u001b[1;33m             \u001b[0mself\u001b[0m\u001b[1;33m.\u001b[0m\u001b[0m_validate_integer\u001b[0m\u001b[1;33m(\u001b[0m\u001b[0mkey\u001b[0m\u001b[1;33m,\u001b[0m \u001b[0maxis\u001b[0m\u001b[1;33m)\u001b[0m\u001b[1;33m\u001b[0m\u001b[1;33m\u001b[0m\u001b[0m\n\u001b[0m\u001b[0;32m   2103\u001b[0m \u001b[1;33m\u001b[0m\u001b[0m\n\u001b[0;32m   2104\u001b[0m             \u001b[1;32mreturn\u001b[0m \u001b[0mself\u001b[0m\u001b[1;33m.\u001b[0m\u001b[0m_get_loc\u001b[0m\u001b[1;33m(\u001b[0m\u001b[0mkey\u001b[0m\u001b[1;33m,\u001b[0m \u001b[0maxis\u001b[0m\u001b[1;33m=\u001b[0m\u001b[0maxis\u001b[0m\u001b[1;33m)\u001b[0m\u001b[1;33m\u001b[0m\u001b[1;33m\u001b[0m\u001b[0m\n",
      "\u001b[1;32m~\\Anaconda3\\lib\\site-packages\\pandas\\core\\indexing.py\u001b[0m in \u001b[0;36m_validate_integer\u001b[1;34m(self, key, axis)\u001b[0m\n\u001b[0;32m   2007\u001b[0m         \u001b[0ml\u001b[0m \u001b[1;33m=\u001b[0m \u001b[0mlen\u001b[0m\u001b[1;33m(\u001b[0m\u001b[0max\u001b[0m\u001b[1;33m)\u001b[0m\u001b[1;33m\u001b[0m\u001b[1;33m\u001b[0m\u001b[0m\n\u001b[0;32m   2008\u001b[0m         \u001b[1;32mif\u001b[0m \u001b[0mkey\u001b[0m \u001b[1;33m>=\u001b[0m \u001b[0ml\u001b[0m \u001b[1;32mor\u001b[0m \u001b[0mkey\u001b[0m \u001b[1;33m<\u001b[0m \u001b[1;33m-\u001b[0m\u001b[0ml\u001b[0m\u001b[1;33m:\u001b[0m\u001b[1;33m\u001b[0m\u001b[1;33m\u001b[0m\u001b[0m\n\u001b[1;32m-> 2009\u001b[1;33m             \u001b[1;32mraise\u001b[0m \u001b[0mIndexError\u001b[0m\u001b[1;33m(\u001b[0m\u001b[1;34m\"single positional indexer is out-of-bounds\"\u001b[0m\u001b[1;33m)\u001b[0m\u001b[1;33m\u001b[0m\u001b[1;33m\u001b[0m\u001b[0m\n\u001b[0m\u001b[0;32m   2010\u001b[0m \u001b[1;33m\u001b[0m\u001b[0m\n\u001b[0;32m   2011\u001b[0m     \u001b[1;32mdef\u001b[0m \u001b[0m_getitem_tuple\u001b[0m\u001b[1;33m(\u001b[0m\u001b[0mself\u001b[0m\u001b[1;33m,\u001b[0m \u001b[0mtup\u001b[0m\u001b[1;33m)\u001b[0m\u001b[1;33m:\u001b[0m\u001b[1;33m\u001b[0m\u001b[1;33m\u001b[0m\u001b[0m\n",
      "\u001b[1;31mIndexError\u001b[0m: single positional indexer is out-of-bounds"
     ]
    }
   ],
   "source": [
    "for i in np.arange(0,6):\n",
    "    estimator = scores[(scores['Model']==top_X.iloc[i]['Model']) & (scores['Trial']==top_X.iloc[i]['Trial'])].iloc[0]['Estimator']\n",
    "    best_estimators.append((top_X.iloc[i]['Model'], estimator))"
   ]
  },
  {
   "cell_type": "code",
   "execution_count": 91,
   "metadata": {
    "ExecuteTime": {
     "end_time": "2019-01-21T14:47:49.616960Z",
     "start_time": "2019-01-21T14:47:46.819492Z"
    }
   },
   "outputs": [
    {
     "data": {
      "text/plain": [
       "XGBClassifier(base_score=0.5, booster='gbtree', colsample_bylevel=1,\n",
       "       colsample_bytree=0.9,\n",
       "       cv=StratifiedKFold(n_splits=5, random_state=1, shuffle=True),\n",
       "       gamma=0, learning_rate=0.9, max_delta_step=0, max_depth=3,\n",
       "       min_child_weight=1, missing=None, n_estimators=50, n_jobs=-1,\n",
       "       nthread=None, objective='binary:logistic', random_state=0,\n",
       "       refit=True, reg_alpha=0, reg_lambda=0.48, scale_pos_weight=1,\n",
       "       scoring='accuracy', seed=None, silent=True, subsample=1, verbose=1)"
      ]
     },
     "execution_count": 91,
     "metadata": {},
     "output_type": "execute_result"
    }
   ],
   "source": [
    "votingC = VotingClassifier(estimators=best_estimators, voting='hard', n_jobs=-1)\n",
    "votingC = votingC.fit(X_train, y_train)\n",
    "best_model = votingC\n",
    "best_model = scores[(scores['Model']==top_X.iloc[0]['Model']) & (scores['Trial']==top_X.iloc[0]['Trial'])].iloc[0]['Estimator']\n",
    "best_model"
   ]
  },
  {
   "cell_type": "code",
   "execution_count": 92,
   "metadata": {
    "ExecuteTime": {
     "end_time": "2019-01-21T14:48:11.148871Z",
     "start_time": "2019-01-21T14:48:11.130920Z"
    }
   },
   "outputs": [],
   "source": [
    "y_pred_test = best_model.predict(X_test)\n",
    "y_pred_valid = best_model.predict(test_df[features])\n",
    "submission = pd.DataFrame({\n",
    "        \"PassengerId\": test_df[\"PassengerId\"],\n",
    "        \"Survived\": y_pred_valid\n",
    "    })\n",
    "submission.to_csv('submission.csv', index=False)"
   ]
  },
  {
   "cell_type": "code",
   "execution_count": 883,
   "metadata": {},
   "outputs": [
    {
     "name": "stderr",
     "output_type": "stream",
     "text": [
      "C:\\Users\\lange\\Anaconda3\\lib\\site-packages\\sklearn\\preprocessing\\label.py:151: DeprecationWarning: The truth value of an empty array is ambiguous. Returning False, but in future this will result in an error. Use `array.size > 0` to check that an array is not empty.\n",
      "  if diff:\n",
      "C:\\Users\\lange\\Anaconda3\\lib\\site-packages\\sklearn\\preprocessing\\label.py:151: DeprecationWarning: The truth value of an empty array is ambiguous. Returning False, but in future this will result in an error. Use `array.size > 0` to check that an array is not empty.\n",
      "  if diff:\n"
     ]
    }
   ],
   "source": [
    "y_pred_train = votingC.predict(X_train)"
   ]
  },
  {
   "cell_type": "code",
   "execution_count": 884,
   "metadata": {},
   "outputs": [
    {
     "name": "stdout",
     "output_type": "stream",
     "text": [
      "0.8632958801498127\n",
      "0.8291316526610645\n"
     ]
    }
   ],
   "source": [
    "print(accuracy_score(y_train, y_pred_train))\n",
    "print(accuracy_score(y_test, y_pred_test))"
   ]
  },
  {
   "cell_type": "code",
   "execution_count": null,
   "metadata": {},
   "outputs": [],
   "source": []
  },
  {
   "cell_type": "code",
   "execution_count": null,
   "metadata": {},
   "outputs": [],
   "source": []
  },
  {
   "cell_type": "code",
   "execution_count": 1145,
   "metadata": {},
   "outputs": [],
   "source": [
    "from sklearn import metrics"
   ]
  },
  {
   "cell_type": "code",
   "execution_count": null,
   "metadata": {},
   "outputs": [],
   "source": []
  },
  {
   "cell_type": "code",
   "execution_count": null,
   "metadata": {},
   "outputs": [],
   "source": []
  },
  {
   "cell_type": "code",
   "execution_count": 1146,
   "metadata": {},
   "outputs": [
    {
     "name": "stdout",
     "output_type": "stream",
     "text": [
      "Train set\n",
      "             precision    recall  f1-score   support\n",
      "\n",
      "          0       0.88      0.95      0.91       329\n",
      "          1       0.91      0.79      0.85       205\n",
      "\n",
      "avg / total       0.89      0.89      0.89       534\n",
      "\n",
      "Test set\n",
      "             precision    recall  f1-score   support\n",
      "\n",
      "          0       0.82      0.87      0.85       220\n",
      "          1       0.77      0.70      0.74       137\n",
      "\n",
      "avg / total       0.80      0.81      0.80       357\n",
      "\n"
     ]
    }
   ],
   "source": [
    "print('Train set')\n",
    "print(metrics.classification_report(y_train, best_model.predict(X_train)))\n",
    "print('Test set')\n",
    "print(metrics.f1_score(y_test, y_pred_test))"
   ]
  },
  {
   "cell_type": "code",
   "execution_count": 885,
   "metadata": {},
   "outputs": [
    {
     "name": "stderr",
     "output_type": "stream",
     "text": [
      "C:\\Users\\lange\\Anaconda3\\lib\\site-packages\\h5py\\__init__.py:36: FutureWarning: Conversion of the second argument of issubdtype from `float` to `np.floating` is deprecated. In future, it will be treated as `np.float64 == np.dtype(float).type`.\n",
      "  from ._conv import register_converters as _register_converters\n"
     ]
    }
   ],
   "source": [
    "import tensorflow as tf"
   ]
  },
  {
   "cell_type": "code",
   "execution_count": 886,
   "metadata": {},
   "outputs": [],
   "source": [
    "feat_cols = []\n",
    "for col in X_train.columns:\n",
    "  feat_cols.append(tf.feature_column.numeric_column(col))"
   ]
  },
  {
   "cell_type": "code",
   "execution_count": null,
   "metadata": {},
   "outputs": [],
   "source": []
  },
  {
   "cell_type": "code",
   "execution_count": 887,
   "metadata": {},
   "outputs": [
    {
     "name": "stdout",
     "output_type": "stream",
     "text": [
      "INFO:tensorflow:Using default config.\n",
      "WARNING:tensorflow:Using temporary folder as model directory: C:\\Users\\lange\\AppData\\Local\\Temp\\tmp8glw4u3p\n",
      "INFO:tensorflow:Using config: {'_model_dir': 'C:\\\\Users\\\\lange\\\\AppData\\\\Local\\\\Temp\\\\tmp8glw4u3p', '_tf_random_seed': None, '_save_summary_steps': 100, '_save_checkpoints_steps': None, '_save_checkpoints_secs': 600, '_session_config': allow_soft_placement: true\n",
      "graph_options {\n",
      "  rewrite_options {\n",
      "    meta_optimizer_iterations: ONE\n",
      "  }\n",
      "}\n",
      ", '_keep_checkpoint_max': 5, '_keep_checkpoint_every_n_hours': 10000, '_log_step_count_steps': 100, '_train_distribute': None, '_device_fn': None, '_protocol': None, '_eval_distribute': None, '_experimental_distribute': None, '_service': None, '_cluster_spec': <tensorflow.python.training.server_lib.ClusterSpec object at 0x000001995F4481D0>, '_task_type': 'worker', '_task_id': 0, '_global_id_in_cluster': 0, '_master': '', '_evaluation_master': '', '_is_chief': True, '_num_ps_replicas': 0, '_num_worker_replicas': 1}\n",
      "WARNING:tensorflow:From C:\\Users\\lange\\Anaconda3\\lib\\site-packages\\tensorflow\\python\\estimator\\inputs\\queues\\feeding_queue_runner.py:62: QueueRunner.__init__ (from tensorflow.python.training.queue_runner_impl) is deprecated and will be removed in a future version.\n",
      "Instructions for updating:\n",
      "To construct input pipelines, use the `tf.data` module.\n",
      "WARNING:tensorflow:From C:\\Users\\lange\\Anaconda3\\lib\\site-packages\\tensorflow\\python\\estimator\\inputs\\queues\\feeding_functions.py:500: add_queue_runner (from tensorflow.python.training.queue_runner_impl) is deprecated and will be removed in a future version.\n",
      "Instructions for updating:\n",
      "To construct input pipelines, use the `tf.data` module.\n",
      "INFO:tensorflow:Calling model_fn.\n",
      "INFO:tensorflow:Done calling model_fn.\n",
      "INFO:tensorflow:Create CheckpointSaverHook.\n",
      "INFO:tensorflow:Graph was finalized.\n",
      "INFO:tensorflow:Running local_init_op.\n",
      "INFO:tensorflow:Done running local_init_op.\n",
      "WARNING:tensorflow:From C:\\Users\\lange\\Anaconda3\\lib\\site-packages\\tensorflow\\python\\training\\monitored_session.py:804: start_queue_runners (from tensorflow.python.training.queue_runner_impl) is deprecated and will be removed in a future version.\n",
      "Instructions for updating:\n",
      "To construct input pipelines, use the `tf.data` module.\n",
      "INFO:tensorflow:Saving checkpoints for 0 into C:\\Users\\lange\\AppData\\Local\\Temp\\tmp8glw4u3p\\model.ckpt.\n",
      "INFO:tensorflow:loss = 6645.594, step = 1\n",
      "INFO:tensorflow:global_step/sec: 358.851\n",
      "INFO:tensorflow:loss = 155.57278, step = 101 (0.281 sec)\n",
      "INFO:tensorflow:global_step/sec: 646.431\n",
      "INFO:tensorflow:loss = 285.3737, step = 201 (0.156 sec)\n",
      "INFO:tensorflow:global_step/sec: 603.94\n",
      "INFO:tensorflow:loss = 73.8392, step = 301 (0.164 sec)\n",
      "INFO:tensorflow:global_step/sec: 615.404\n",
      "INFO:tensorflow:loss = 171.17093, step = 401 (0.167 sec)\n",
      "INFO:tensorflow:global_step/sec: 600.188\n",
      "INFO:tensorflow:loss = 95.420494, step = 501 (0.165 sec)\n",
      "INFO:tensorflow:global_step/sec: 597.045\n",
      "INFO:tensorflow:loss = 112.65898, step = 601 (0.169 sec)\n",
      "INFO:tensorflow:global_step/sec: 596.718\n",
      "INFO:tensorflow:loss = 107.293884, step = 701 (0.170 sec)\n",
      "INFO:tensorflow:global_step/sec: 527.727\n",
      "INFO:tensorflow:loss = 160.15936, step = 801 (0.188 sec)\n",
      "INFO:tensorflow:global_step/sec: 475.269\n",
      "INFO:tensorflow:loss = 61.389965, step = 901 (0.208 sec)\n",
      "INFO:tensorflow:global_step/sec: 614.917\n",
      "INFO:tensorflow:loss = 41.88546, step = 1001 (0.164 sec)\n",
      "INFO:tensorflow:global_step/sec: 596.951\n",
      "INFO:tensorflow:loss = 26.065445, step = 1101 (0.166 sec)\n",
      "INFO:tensorflow:global_step/sec: 611.621\n",
      "INFO:tensorflow:loss = 42.106873, step = 1201 (0.164 sec)\n",
      "INFO:tensorflow:global_step/sec: 596.832\n",
      "INFO:tensorflow:loss = 101.142395, step = 1301 (0.168 sec)\n",
      "INFO:tensorflow:global_step/sec: 589.702\n",
      "INFO:tensorflow:loss = 77.501816, step = 1401 (0.171 sec)\n",
      "INFO:tensorflow:global_step/sec: 593.407\n",
      "INFO:tensorflow:loss = 29.964666, step = 1501 (0.167 sec)\n",
      "INFO:tensorflow:global_step/sec: 622.775\n",
      "INFO:tensorflow:loss = 22.920084, step = 1601 (0.164 sec)\n",
      "INFO:tensorflow:global_step/sec: 579.354\n",
      "INFO:tensorflow:loss = 45.17708, step = 1701 (0.171 sec)\n",
      "INFO:tensorflow:global_step/sec: 560.229\n",
      "INFO:tensorflow:loss = 12.004468, step = 1801 (0.183 sec)\n",
      "INFO:tensorflow:global_step/sec: 503.969\n",
      "INFO:tensorflow:loss = 17.082083, step = 1901 (0.196 sec)\n",
      "INFO:tensorflow:global_step/sec: 600.241\n",
      "INFO:tensorflow:loss = 40.837074, step = 2001 (0.165 sec)\n",
      "INFO:tensorflow:global_step/sec: 593.295\n",
      "INFO:tensorflow:loss = 9.930408, step = 2101 (0.169 sec)\n",
      "INFO:tensorflow:global_step/sec: 607.665\n",
      "INFO:tensorflow:loss = 24.263327, step = 2201 (0.166 sec)\n",
      "INFO:tensorflow:global_step/sec: 615.179\n",
      "INFO:tensorflow:loss = 115.298164, step = 2301 (0.163 sec)\n",
      "INFO:tensorflow:global_step/sec: 554.094\n",
      "INFO:tensorflow:loss = 41.52491, step = 2401 (0.183 sec)\n",
      "INFO:tensorflow:global_step/sec: 498.728\n",
      "INFO:tensorflow:loss = 37.641262, step = 2501 (0.198 sec)\n",
      "INFO:tensorflow:global_step/sec: 596.991\n",
      "INFO:tensorflow:loss = 14.380759, step = 2601 (0.169 sec)\n",
      "INFO:tensorflow:Saving checkpoints for 2670 into C:\\Users\\lange\\AppData\\Local\\Temp\\tmp8glw4u3p\\model.ckpt.\n",
      "INFO:tensorflow:Loss for final step: 71.99409.\n"
     ]
    },
    {
     "data": {
      "text/plain": [
       "<tensorflow.python.estimator.canned.dnn.DNNClassifier at 0x1995f43af98>"
      ]
     },
     "execution_count": 887,
     "metadata": {},
     "output_type": "execute_result"
    }
   ],
   "source": [
    "# create the DNNClassifier and train it\n",
    "input_func = tf.estimator.inputs.pandas_input_fn(x=X_train,y=y_train,batch_size=20,num_epochs=100,shuffle=True)\n",
    "classifier = tf.estimator.DNNClassifier(hidden_units=[20, 30, 20], n_classes=2,feature_columns=feat_cols, optimizer=tf.train.AdagradOptimizer(learning_rate=0.005))\n",
    "classifier.train(input_fn=input_func,steps=3000)"
   ]
  },
  {
   "cell_type": "code",
   "execution_count": 888,
   "metadata": {},
   "outputs": [
    {
     "name": "stdout",
     "output_type": "stream",
     "text": [
      "INFO:tensorflow:Calling model_fn.\n",
      "INFO:tensorflow:Done calling model_fn.\n",
      "INFO:tensorflow:Graph was finalized.\n",
      "INFO:tensorflow:Restoring parameters from C:\\Users\\lange\\AppData\\Local\\Temp\\tmp8glw4u3p\\model.ckpt-2670\n",
      "INFO:tensorflow:Running local_init_op.\n",
      "INFO:tensorflow:Done running local_init_op.\n"
     ]
    }
   ],
   "source": [
    "# calculate predictions\n",
    "pred_fn = tf.estimator.inputs.pandas_input_fn(x=X_test,batch_size=len(X_test),shuffle=False)\n",
    "note_predictions = list(classifier.predict(input_fn=pred_fn))\n",
    "final_preds = []\n",
    "for pred in note_predictions:\n",
    "  final_preds.append(pred['class_ids'][0])"
   ]
  },
  {
   "cell_type": "code",
   "execution_count": 889,
   "metadata": {},
   "outputs": [
    {
     "name": "stdout",
     "output_type": "stream",
     "text": [
      "             precision    recall  f1-score   support\n",
      "\n",
      "          0       0.69      0.89      0.78       216\n",
      "          1       0.70      0.39      0.50       141\n",
      "\n",
      "avg / total       0.69      0.69      0.67       357\n",
      "\n"
     ]
    }
   ],
   "source": [
    "# print classification_report\n",
    "print(classification_report(y_test,final_preds))"
   ]
  },
  {
   "cell_type": "code",
   "execution_count": null,
   "metadata": {},
   "outputs": [],
   "source": []
  }
 ],
 "metadata": {
  "kernelspec": {
   "display_name": "Python 3",
   "language": "python",
   "name": "python3"
  },
  "language_info": {
   "codemirror_mode": {
    "name": "ipython",
    "version": 3
   },
   "file_extension": ".py",
   "mimetype": "text/x-python",
   "name": "python",
   "nbconvert_exporter": "python",
   "pygments_lexer": "ipython3",
   "version": "3.6.7"
  },
  "toc": {
   "base_numbering": 1,
   "nav_menu": {},
   "number_sections": true,
   "sideBar": true,
   "skip_h1_title": false,
   "title_cell": "Table of Contents",
   "title_sidebar": "Contents",
   "toc_cell": true,
   "toc_position": {},
   "toc_section_display": true,
   "toc_window_display": false
  }
 },
 "nbformat": 4,
 "nbformat_minor": 2
}
