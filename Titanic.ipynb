{
 "cells": [
  {
   "cell_type": "markdown",
   "metadata": {
    "toc": true
   },
   "source": [
    "<h1>Table of Contents<span class=\"tocSkip\"></span></h1>\n",
    "<div class=\"toc\"><ul class=\"toc-item\"><li><span><a href=\"#Gathering-data\" data-toc-modified-id=\"Gathering-data-1\"><span class=\"toc-item-num\">1&nbsp;&nbsp;</span>Gathering data</a></span></li><li><span><a href=\"#Preparing-the-data---cleaning-and-exploration\" data-toc-modified-id=\"Preparing-the-data---cleaning-and-exploration-2\"><span class=\"toc-item-num\">2&nbsp;&nbsp;</span>Preparing the data - cleaning and exploration</a></span><ul class=\"toc-item\"><li><span><a href=\"#Title-column\" data-toc-modified-id=\"Title-column-2.1\"><span class=\"toc-item-num\">2.1&nbsp;&nbsp;</span>Title column</a></span></li><li><span><a href=\"#Age-column\" data-toc-modified-id=\"Age-column-2.2\"><span class=\"toc-item-num\">2.2&nbsp;&nbsp;</span>Age column</a></span></li><li><span><a href=\"#Fare-column\" data-toc-modified-id=\"Fare-column-2.3\"><span class=\"toc-item-num\">2.3&nbsp;&nbsp;</span>Fare column</a></span></li><li><span><a href=\"#Sex-column\" data-toc-modified-id=\"Sex-column-2.4\"><span class=\"toc-item-num\">2.4&nbsp;&nbsp;</span>Sex column</a></span></li><li><span><a href=\"#Embarked-column\" data-toc-modified-id=\"Embarked-column-2.5\"><span class=\"toc-item-num\">2.5&nbsp;&nbsp;</span>Embarked column</a></span></li><li><span><a href=\"#FamilySize-and-IsAlone-columns\" data-toc-modified-id=\"FamilySize-and-IsAlone-columns-2.6\"><span class=\"toc-item-num\">2.6&nbsp;&nbsp;</span>FamilySize and IsAlone columns</a></span></li><li><span><a href=\"#Cabin-column\" data-toc-modified-id=\"Cabin-column-2.7\"><span class=\"toc-item-num\">2.7&nbsp;&nbsp;</span>Cabin column</a></span></li><li><span><a href=\"#Other-columns\" data-toc-modified-id=\"Other-columns-2.8\"><span class=\"toc-item-num\">2.8&nbsp;&nbsp;</span>Other columns</a></span></li><li><span><a href=\"#Select-features\" data-toc-modified-id=\"Select-features-2.9\"><span class=\"toc-item-num\">2.9&nbsp;&nbsp;</span>Select features</a></span></li></ul></li><li><span><a href=\"#Choosing-a-model\" data-toc-modified-id=\"Choosing-a-model-3\"><span class=\"toc-item-num\">3&nbsp;&nbsp;</span>Choosing a model</a></span></li><li><span><a href=\"#Training-models\" data-toc-modified-id=\"Training-models-4\"><span class=\"toc-item-num\">4&nbsp;&nbsp;</span>Training models</a></span></li><li><span><a href=\"#Evaluating-models\" data-toc-modified-id=\"Evaluating-models-5\"><span class=\"toc-item-num\">5&nbsp;&nbsp;</span>Evaluating models</a></span></li><li><span><a href=\"#Hyperparameter-Tuning\" data-toc-modified-id=\"Hyperparameter-Tuning-6\"><span class=\"toc-item-num\">6&nbsp;&nbsp;</span>Hyperparameter Tuning</a></span><ul class=\"toc-item\"><li><span><a href=\"#Tuning-with-RandomizedSearchCV\" data-toc-modified-id=\"Tuning-with-RandomizedSearchCV-6.1\"><span class=\"toc-item-num\">6.1&nbsp;&nbsp;</span>Tuning with RandomizedSearchCV</a></span></li><li><span><a href=\"#Tuning-with-GridSearchCV\" data-toc-modified-id=\"Tuning-with-GridSearchCV-6.2\"><span class=\"toc-item-num\">6.2&nbsp;&nbsp;</span>Tuning with GridSearchCV</a></span><ul class=\"toc-item\"><li><span><a href=\"#GradientBoostingClassifier\" data-toc-modified-id=\"GradientBoostingClassifier-6.2.1\"><span class=\"toc-item-num\">6.2.1&nbsp;&nbsp;</span>GradientBoostingClassifier</a></span></li><li><span><a href=\"#XGBClassifier\" data-toc-modified-id=\"XGBClassifier-6.2.2\"><span class=\"toc-item-num\">6.2.2&nbsp;&nbsp;</span>XGBClassifier</a></span></li><li><span><a href=\"#RandomForestClassifier\" data-toc-modified-id=\"RandomForestClassifier-6.2.3\"><span class=\"toc-item-num\">6.2.3&nbsp;&nbsp;</span>RandomForestClassifier</a></span></li></ul></li></ul></li><li><span><a href=\"#Making-Predictions\" data-toc-modified-id=\"Making-Predictions-7\"><span class=\"toc-item-num\">7&nbsp;&nbsp;</span>Making Predictions</a></span></li></ul></div>"
   ]
  },
  {
   "cell_type": "markdown",
   "metadata": {},
   "source": [
    "# Gathering data"
   ]
  },
  {
   "cell_type": "markdown",
   "metadata": {},
   "source": [
    "First load the training and test data in two separate DataFrames."
   ]
  },
  {
   "cell_type": "code",
   "execution_count": 1,
   "metadata": {
    "ExecuteTime": {
     "end_time": "2019-02-12T15:13:13.665111Z",
     "start_time": "2019-02-12T15:13:13.654140Z"
    }
   },
   "outputs": [],
   "source": [
    "import pandas as pd\n",
    "import numpy as np\n",
    "\n",
    "import seaborn as sns\n",
    "from matplotlib.pyplot import plot as plt\n",
    "%matplotlib inline"
   ]
  },
  {
   "cell_type": "code",
   "execution_count": 2,
   "metadata": {
    "ExecuteTime": {
     "end_time": "2019-02-12T15:13:13.806732Z",
     "start_time": "2019-02-12T15:13:13.668103Z"
    }
   },
   "outputs": [],
   "source": [
    "train_df = pd.read_csv('train.csv')\n",
    "test_df = pd.read_csv('test.csv')\n",
    "combined = [train_df,test_df]\n",
    "combined_df = pd.concat(combined, sort=False)"
   ]
  },
  {
   "cell_type": "markdown",
   "metadata": {},
   "source": [
    "# Preparing the data - cleaning and exploration"
   ]
  },
  {
   "cell_type": "markdown",
   "metadata": {},
   "source": [
    "Let's have a look at the 5 first rows."
   ]
  },
  {
   "cell_type": "code",
   "execution_count": 3,
   "metadata": {
    "ExecuteTime": {
     "end_time": "2019-02-12T15:13:13.828674Z",
     "start_time": "2019-02-12T15:13:13.808726Z"
    }
   },
   "outputs": [
    {
     "data": {
      "text/html": [
       "<div>\n",
       "<style scoped>\n",
       "    .dataframe tbody tr th:only-of-type {\n",
       "        vertical-align: middle;\n",
       "    }\n",
       "\n",
       "    .dataframe tbody tr th {\n",
       "        vertical-align: top;\n",
       "    }\n",
       "\n",
       "    .dataframe thead th {\n",
       "        text-align: right;\n",
       "    }\n",
       "</style>\n",
       "<table border=\"1\" class=\"dataframe\">\n",
       "  <thead>\n",
       "    <tr style=\"text-align: right;\">\n",
       "      <th></th>\n",
       "      <th>PassengerId</th>\n",
       "      <th>Survived</th>\n",
       "      <th>Pclass</th>\n",
       "      <th>Name</th>\n",
       "      <th>Sex</th>\n",
       "      <th>Age</th>\n",
       "      <th>SibSp</th>\n",
       "      <th>Parch</th>\n",
       "      <th>Ticket</th>\n",
       "      <th>Fare</th>\n",
       "      <th>Cabin</th>\n",
       "      <th>Embarked</th>\n",
       "    </tr>\n",
       "  </thead>\n",
       "  <tbody>\n",
       "    <tr>\n",
       "      <th>0</th>\n",
       "      <td>1</td>\n",
       "      <td>0</td>\n",
       "      <td>3</td>\n",
       "      <td>Braund, Mr. Owen Harris</td>\n",
       "      <td>male</td>\n",
       "      <td>22.0</td>\n",
       "      <td>1</td>\n",
       "      <td>0</td>\n",
       "      <td>A/5 21171</td>\n",
       "      <td>7.2500</td>\n",
       "      <td>NaN</td>\n",
       "      <td>S</td>\n",
       "    </tr>\n",
       "    <tr>\n",
       "      <th>1</th>\n",
       "      <td>2</td>\n",
       "      <td>1</td>\n",
       "      <td>1</td>\n",
       "      <td>Cumings, Mrs. John Bradley (Florence Briggs Th...</td>\n",
       "      <td>female</td>\n",
       "      <td>38.0</td>\n",
       "      <td>1</td>\n",
       "      <td>0</td>\n",
       "      <td>PC 17599</td>\n",
       "      <td>71.2833</td>\n",
       "      <td>C85</td>\n",
       "      <td>C</td>\n",
       "    </tr>\n",
       "    <tr>\n",
       "      <th>2</th>\n",
       "      <td>3</td>\n",
       "      <td>1</td>\n",
       "      <td>3</td>\n",
       "      <td>Heikkinen, Miss. Laina</td>\n",
       "      <td>female</td>\n",
       "      <td>26.0</td>\n",
       "      <td>0</td>\n",
       "      <td>0</td>\n",
       "      <td>STON/O2. 3101282</td>\n",
       "      <td>7.9250</td>\n",
       "      <td>NaN</td>\n",
       "      <td>S</td>\n",
       "    </tr>\n",
       "    <tr>\n",
       "      <th>3</th>\n",
       "      <td>4</td>\n",
       "      <td>1</td>\n",
       "      <td>1</td>\n",
       "      <td>Futrelle, Mrs. Jacques Heath (Lily May Peel)</td>\n",
       "      <td>female</td>\n",
       "      <td>35.0</td>\n",
       "      <td>1</td>\n",
       "      <td>0</td>\n",
       "      <td>113803</td>\n",
       "      <td>53.1000</td>\n",
       "      <td>C123</td>\n",
       "      <td>S</td>\n",
       "    </tr>\n",
       "    <tr>\n",
       "      <th>4</th>\n",
       "      <td>5</td>\n",
       "      <td>0</td>\n",
       "      <td>3</td>\n",
       "      <td>Allen, Mr. William Henry</td>\n",
       "      <td>male</td>\n",
       "      <td>35.0</td>\n",
       "      <td>0</td>\n",
       "      <td>0</td>\n",
       "      <td>373450</td>\n",
       "      <td>8.0500</td>\n",
       "      <td>NaN</td>\n",
       "      <td>S</td>\n",
       "    </tr>\n",
       "  </tbody>\n",
       "</table>\n",
       "</div>"
      ],
      "text/plain": [
       "   PassengerId  Survived  Pclass  \\\n",
       "0            1         0       3   \n",
       "1            2         1       1   \n",
       "2            3         1       3   \n",
       "3            4         1       1   \n",
       "4            5         0       3   \n",
       "\n",
       "                                                Name     Sex   Age  SibSp  \\\n",
       "0                            Braund, Mr. Owen Harris    male  22.0      1   \n",
       "1  Cumings, Mrs. John Bradley (Florence Briggs Th...  female  38.0      1   \n",
       "2                             Heikkinen, Miss. Laina  female  26.0      0   \n",
       "3       Futrelle, Mrs. Jacques Heath (Lily May Peel)  female  35.0      1   \n",
       "4                           Allen, Mr. William Henry    male  35.0      0   \n",
       "\n",
       "   Parch            Ticket     Fare Cabin Embarked  \n",
       "0      0         A/5 21171   7.2500   NaN        S  \n",
       "1      0          PC 17599  71.2833   C85        C  \n",
       "2      0  STON/O2. 3101282   7.9250   NaN        S  \n",
       "3      0            113803  53.1000  C123        S  \n",
       "4      0            373450   8.0500   NaN        S  "
      ]
     },
     "execution_count": 3,
     "metadata": {},
     "output_type": "execute_result"
    }
   ],
   "source": [
    "train_df.head(5)"
   ]
  },
  {
   "cell_type": "markdown",
   "metadata": {},
   "source": [
    "And display some statistics about numerical columns."
   ]
  },
  {
   "cell_type": "code",
   "execution_count": 4,
   "metadata": {
    "ExecuteTime": {
     "end_time": "2019-02-12T15:13:13.870562Z",
     "start_time": "2019-02-12T15:13:13.831666Z"
    }
   },
   "outputs": [
    {
     "data": {
      "text/html": [
       "<div>\n",
       "<style scoped>\n",
       "    .dataframe tbody tr th:only-of-type {\n",
       "        vertical-align: middle;\n",
       "    }\n",
       "\n",
       "    .dataframe tbody tr th {\n",
       "        vertical-align: top;\n",
       "    }\n",
       "\n",
       "    .dataframe thead th {\n",
       "        text-align: right;\n",
       "    }\n",
       "</style>\n",
       "<table border=\"1\" class=\"dataframe\">\n",
       "  <thead>\n",
       "    <tr style=\"text-align: right;\">\n",
       "      <th></th>\n",
       "      <th>PassengerId</th>\n",
       "      <th>Survived</th>\n",
       "      <th>Pclass</th>\n",
       "      <th>Age</th>\n",
       "      <th>SibSp</th>\n",
       "      <th>Parch</th>\n",
       "      <th>Fare</th>\n",
       "    </tr>\n",
       "  </thead>\n",
       "  <tbody>\n",
       "    <tr>\n",
       "      <th>count</th>\n",
       "      <td>891.000000</td>\n",
       "      <td>891.000000</td>\n",
       "      <td>891.000000</td>\n",
       "      <td>714.000000</td>\n",
       "      <td>891.000000</td>\n",
       "      <td>891.000000</td>\n",
       "      <td>891.000000</td>\n",
       "    </tr>\n",
       "    <tr>\n",
       "      <th>mean</th>\n",
       "      <td>446.000000</td>\n",
       "      <td>0.383838</td>\n",
       "      <td>2.308642</td>\n",
       "      <td>29.699118</td>\n",
       "      <td>0.523008</td>\n",
       "      <td>0.381594</td>\n",
       "      <td>32.204208</td>\n",
       "    </tr>\n",
       "    <tr>\n",
       "      <th>std</th>\n",
       "      <td>257.353842</td>\n",
       "      <td>0.486592</td>\n",
       "      <td>0.836071</td>\n",
       "      <td>14.526497</td>\n",
       "      <td>1.102743</td>\n",
       "      <td>0.806057</td>\n",
       "      <td>49.693429</td>\n",
       "    </tr>\n",
       "    <tr>\n",
       "      <th>min</th>\n",
       "      <td>1.000000</td>\n",
       "      <td>0.000000</td>\n",
       "      <td>1.000000</td>\n",
       "      <td>0.420000</td>\n",
       "      <td>0.000000</td>\n",
       "      <td>0.000000</td>\n",
       "      <td>0.000000</td>\n",
       "    </tr>\n",
       "    <tr>\n",
       "      <th>25%</th>\n",
       "      <td>223.500000</td>\n",
       "      <td>0.000000</td>\n",
       "      <td>2.000000</td>\n",
       "      <td>20.125000</td>\n",
       "      <td>0.000000</td>\n",
       "      <td>0.000000</td>\n",
       "      <td>7.910400</td>\n",
       "    </tr>\n",
       "    <tr>\n",
       "      <th>50%</th>\n",
       "      <td>446.000000</td>\n",
       "      <td>0.000000</td>\n",
       "      <td>3.000000</td>\n",
       "      <td>28.000000</td>\n",
       "      <td>0.000000</td>\n",
       "      <td>0.000000</td>\n",
       "      <td>14.454200</td>\n",
       "    </tr>\n",
       "    <tr>\n",
       "      <th>75%</th>\n",
       "      <td>668.500000</td>\n",
       "      <td>1.000000</td>\n",
       "      <td>3.000000</td>\n",
       "      <td>38.000000</td>\n",
       "      <td>1.000000</td>\n",
       "      <td>0.000000</td>\n",
       "      <td>31.000000</td>\n",
       "    </tr>\n",
       "    <tr>\n",
       "      <th>max</th>\n",
       "      <td>891.000000</td>\n",
       "      <td>1.000000</td>\n",
       "      <td>3.000000</td>\n",
       "      <td>80.000000</td>\n",
       "      <td>8.000000</td>\n",
       "      <td>6.000000</td>\n",
       "      <td>512.329200</td>\n",
       "    </tr>\n",
       "  </tbody>\n",
       "</table>\n",
       "</div>"
      ],
      "text/plain": [
       "       PassengerId    Survived      Pclass         Age       SibSp  \\\n",
       "count   891.000000  891.000000  891.000000  714.000000  891.000000   \n",
       "mean    446.000000    0.383838    2.308642   29.699118    0.523008   \n",
       "std     257.353842    0.486592    0.836071   14.526497    1.102743   \n",
       "min       1.000000    0.000000    1.000000    0.420000    0.000000   \n",
       "25%     223.500000    0.000000    2.000000   20.125000    0.000000   \n",
       "50%     446.000000    0.000000    3.000000   28.000000    0.000000   \n",
       "75%     668.500000    1.000000    3.000000   38.000000    1.000000   \n",
       "max     891.000000    1.000000    3.000000   80.000000    8.000000   \n",
       "\n",
       "            Parch        Fare  \n",
       "count  891.000000  891.000000  \n",
       "mean     0.381594   32.204208  \n",
       "std      0.806057   49.693429  \n",
       "min      0.000000    0.000000  \n",
       "25%      0.000000    7.910400  \n",
       "50%      0.000000   14.454200  \n",
       "75%      0.000000   31.000000  \n",
       "max      6.000000  512.329200  "
      ]
     },
     "execution_count": 4,
     "metadata": {},
     "output_type": "execute_result"
    }
   ],
   "source": [
    "train_df.describe()"
   ]
  },
  {
   "cell_type": "markdown",
   "metadata": {},
   "source": [
    "Let's see how many missing data we have."
   ]
  },
  {
   "cell_type": "code",
   "execution_count": 5,
   "metadata": {
    "ExecuteTime": {
     "end_time": "2019-02-12T15:13:13.882529Z",
     "start_time": "2019-02-12T15:13:13.873553Z"
    }
   },
   "outputs": [
    {
     "data": {
      "text/plain": [
       "PassengerId       0\n",
       "Survived        418\n",
       "Pclass            0\n",
       "Name              0\n",
       "Sex               0\n",
       "Age             263\n",
       "SibSp             0\n",
       "Parch             0\n",
       "Ticket            0\n",
       "Fare              1\n",
       "Cabin          1014\n",
       "Embarked          2\n",
       "dtype: int64"
      ]
     },
     "execution_count": 5,
     "metadata": {},
     "output_type": "execute_result"
    }
   ],
   "source": [
    "combined_df.isnull().sum()"
   ]
  },
  {
   "cell_type": "markdown",
   "metadata": {},
   "source": [
    "## Title column"
   ]
  },
  {
   "cell_type": "markdown",
   "metadata": {
    "ExecuteTime": {
     "end_time": "2019-02-12T14:03:22.870414Z",
     "start_time": "2019-02-12T14:03:22.816557Z"
    }
   },
   "source": [
    "Here I will create a function to create a Title column extracted from the Name column, replace some synonyms, and finally change all titles with less than 10 occurences by 'Misc'."
   ]
  },
  {
   "cell_type": "code",
   "execution_count": 6,
   "metadata": {
    "ExecuteTime": {
     "end_time": "2019-02-12T15:13:13.893500Z",
     "start_time": "2019-02-12T15:13:13.884524Z"
    }
   },
   "outputs": [],
   "source": [
    "def create_title_column(dataframe):\n",
    "    dataframe['Title'] = dataframe['Name'].str.split(\", \", expand=True)[1].str.split(\".\", expand=True)[0]\n",
    "    dataframe['Title'] = dataframe['Title'].replace('Mlle', 'Miss')\n",
    "    dataframe['Title'] = dataframe['Title'].replace('Ms', 'Miss')\n",
    "    dataframe['Title'] = dataframe['Title'].replace('Mme', 'Mrs')\n",
    "    \n",
    "    stat_min = 10 #while small is arbitrary, we'll use the common minimum in statistics: http://nicholasjjackson.com/2012/03/08/sample-size-is-10-a-magic-number/\n",
    "    title_names = (dataframe['Title'].value_counts() < stat_min) #this will create a true false series with title name as index\n",
    "    #apply and lambda functions are quick and dirty code to find and replace with fewer lines of code: https://community.modeanalytics.com/python/tutorial/pandas-groupby-and-python-lambda-functions/\n",
    "    dataframe['Title'] = dataframe['Title'].apply(lambda x: 'Misc' if title_names.loc[x] == True else x)\n",
    "    \n",
    "    return dataframe['Title']"
   ]
  },
  {
   "cell_type": "code",
   "execution_count": 7,
   "metadata": {
    "ExecuteTime": {
     "end_time": "2019-02-12T15:13:14.001212Z",
     "start_time": "2019-02-12T15:13:13.895494Z"
    }
   },
   "outputs": [
    {
     "name": "stdout",
     "output_type": "stream",
     "text": [
      "Mr        517\n",
      "Miss      185\n",
      "Mrs       126\n",
      "Master     40\n",
      "Misc       23\n",
      "Name: Title, dtype: int64\n"
     ]
    }
   ],
   "source": [
    "for df in combined:\n",
    "    df['Title'] = create_title_column(df)\n",
    "\n",
    "print(train_df['Title'].value_counts())"
   ]
  },
  {
   "cell_type": "markdown",
   "metadata": {},
   "source": [
    "Finally the column is converted as a numerical categorical column (Master=0, Misc=1, Miss=2, Mr=3, Mrs=4)."
   ]
  },
  {
   "cell_type": "code",
   "execution_count": 8,
   "metadata": {
    "ExecuteTime": {
     "end_time": "2019-02-12T15:13:14.015175Z",
     "start_time": "2019-02-12T15:13:14.003207Z"
    }
   },
   "outputs": [
    {
     "name": "stdout",
     "output_type": "stream",
     "text": [
      "3    517\n",
      "2    185\n",
      "4    126\n",
      "0     40\n",
      "1     23\n",
      "Name: Title, dtype: int64\n"
     ]
    }
   ],
   "source": [
    "for df in combined:\n",
    "    df['Title'] = pd.Categorical(df['Title']).codes\n",
    "    \n",
    "print(train_df['Title'].value_counts())"
   ]
  },
  {
   "cell_type": "markdown",
   "metadata": {},
   "source": [
    "## Age column"
   ]
  },
  {
   "cell_type": "markdown",
   "metadata": {},
   "source": [
    "There are 263 persons with missing Age. We'll fill the missing values with some mean...  \n",
    "But let's first explore how the age is distributed across Pclass and if there's any difference between male and female:"
   ]
  },
  {
   "cell_type": "code",
   "execution_count": 9,
   "metadata": {
    "ExecuteTime": {
     "end_time": "2019-02-12T15:13:14.319361Z",
     "start_time": "2019-02-12T15:13:14.017169Z"
    }
   },
   "outputs": [
    {
     "data": {
      "image/png": "[encoded data removed]",
      "text/plain": [
       "<Figure size 432x288 with 1 Axes>"
      ]
     },
     "metadata": {
      "needs_background": "light"
     },
     "output_type": "display_data"
    }
   ],
   "source": [
    "plot = sns.violinplot('Pclass', 'Age', data=train_df, inner='quartile', hue='Sex', split=True)\n",
    "plot_title = plot.set_title('Distribution of Age across Pclass')"
   ]
  },
  {
   "cell_type": "markdown",
   "metadata": {},
   "source": [
    "The higher the Pclass, the higher the age. But there's no big difference between male and female.  \n",
    "So we'll replace missing values with the mean age of the appropriate Pclass."
   ]
  },
  {
   "cell_type": "code",
   "execution_count": 10,
   "metadata": {
    "ExecuteTime": {
     "end_time": "2019-02-12T15:13:14.333324Z",
     "start_time": "2019-02-12T15:13:14.321356Z"
    }
   },
   "outputs": [
    {
     "data": {
      "text/plain": [
       "Pclass\n",
       "1    39.159930\n",
       "2    29.506705\n",
       "3    24.816367\n",
       "Name: Age, dtype: float64"
      ]
     },
     "execution_count": 10,
     "metadata": {},
     "output_type": "execute_result"
    }
   ],
   "source": [
    "mean_age_by_pclass = combined_df.groupby('Pclass').mean()['Age']\n",
    "mean_age_by_pclass"
   ]
  },
  {
   "cell_type": "code",
   "execution_count": 11,
   "metadata": {
    "ExecuteTime": {
     "end_time": "2019-02-12T15:13:14.339308Z",
     "start_time": "2019-02-12T15:13:14.335318Z"
    }
   },
   "outputs": [],
   "source": [
    "def compute_age(row):\n",
    "    if pd.isnull(row['Age']):\n",
    "        return mean_age_by_pclass[row['Pclass']]\n",
    "    return row['Age']"
   ]
  },
  {
   "cell_type": "code",
   "execution_count": 12,
   "metadata": {
    "ExecuteTime": {
     "end_time": "2019-02-12T15:13:14.406133Z",
     "start_time": "2019-02-12T15:13:14.342300Z"
    }
   },
   "outputs": [],
   "source": [
    "for df in combined:\n",
    "    df[\"Age\"] = df.apply(compute_age, axis=1)"
   ]
  },
  {
   "cell_type": "code",
   "execution_count": 13,
   "metadata": {
    "ExecuteTime": {
     "end_time": "2019-02-12T15:13:14.655463Z",
     "start_time": "2019-02-12T15:13:14.409122Z"
    }
   },
   "outputs": [
    {
     "data": {
      "text/plain": [
       "<matplotlib.axes._subplots.AxesSubplot at 0x2a0b4cc3588>"
      ]
     },
     "execution_count": 13,
     "metadata": {},
     "output_type": "execute_result"
    },
    {
     "data": {
      "image/png": "[encoded data removed]",
      "text/plain": [
       "<Figure size 432x288 with 1 Axes>"
      ]
     },
     "metadata": {
      "needs_background": "light"
     },
     "output_type": "display_data"
    }
   ],
   "source": [
    "sns.distplot(train_df['Age'])"
   ]
  },
  {
   "cell_type": "markdown",
   "metadata": {},
   "source": [
    "Continuous values like Age are usually more difficult from predictive modeling point of view.  \n",
    "So we will convert the column to bins.  \n",
    "But before we do that, we create a new column that will inform us if a given person is a child or not: _women and children first_."
   ]
  },
  {
   "cell_type": "code",
   "execution_count": 14,
   "metadata": {
    "ExecuteTime": {
     "end_time": "2019-02-12T15:13:14.667439Z",
     "start_time": "2019-02-12T15:13:14.663442Z"
    }
   },
   "outputs": [],
   "source": [
    "for df in combined:\n",
    "    df['IsChild'] = df['Age']<15"
   ]
  },
  {
   "cell_type": "code",
   "execution_count": 15,
   "metadata": {
    "ExecuteTime": {
     "end_time": "2019-02-12T15:13:14.678402Z",
     "start_time": "2019-02-12T15:13:14.670422Z"
    }
   },
   "outputs": [],
   "source": [
    "def get_quantile_based_boundaries(feature_values, num_buckets):\n",
    "  boundaries = np.arange(1.0, num_buckets) / num_buckets\n",
    "  quantiles = feature_values.quantile(boundaries)\n",
    "  return [quantiles[q] for q in quantiles.keys()]"
   ]
  },
  {
   "cell_type": "code",
   "execution_count": 16,
   "metadata": {
    "ExecuteTime": {
     "end_time": "2019-02-12T15:13:14.686382Z",
     "start_time": "2019-02-12T15:13:14.680396Z"
    }
   },
   "outputs": [],
   "source": [
    "def compute_band(row, column_name, boundaries):\n",
    "    i=0\n",
    "    for boundary in boundaries:\n",
    "        if row[column_name] < boundary:\n",
    "            return i\n",
    "        i=i+1\n",
    "    return len(boundaries)"
   ]
  },
  {
   "cell_type": "markdown",
   "metadata": {},
   "source": [
    "As I don't know yet how many bins I want, I'll create multiple columns with different bins size."
   ]
  },
  {
   "cell_type": "code",
   "execution_count": 17,
   "metadata": {
    "ExecuteTime": {
     "end_time": "2019-02-12T15:13:14.853938Z",
     "start_time": "2019-02-12T15:13:14.689373Z"
    }
   },
   "outputs": [],
   "source": [
    "for i in np.arange(3, 6):\n",
    "    age_boundaries = get_quantile_based_boundaries(combined_df.Age, i)\n",
    "    for df in combined:\n",
    "        df[\"Age_band_\" + str(i)] = df.apply(lambda row : compute_band(row, 'Age', age_boundaries), axis=1)"
   ]
  },
  {
   "cell_type": "code",
   "execution_count": 18,
   "metadata": {
    "ExecuteTime": {
     "end_time": "2019-02-12T15:13:15.201003Z",
     "start_time": "2019-02-12T15:13:14.856925Z"
    }
   },
   "outputs": [
    {
     "data": {
      "text/plain": [
       "<matplotlib.axes._subplots.AxesSubplot at 0x2a0b4d48630>"
      ]
     },
     "execution_count": 18,
     "metadata": {},
     "output_type": "execute_result"
    },
    {
     "data": {
      "image/png": "[encoded data removed]",
      "text/plain": [
       "<Figure size 432x288 with 1 Axes>"
      ]
     },
     "metadata": {
      "needs_background": "light"
     },
     "output_type": "display_data"
    }
   ],
   "source": [
    "sns.distplot(train_df.Age_band_5)"
   ]
  },
  {
   "cell_type": "markdown",
   "metadata": {},
   "source": [
    "## Fare column"
   ]
  },
  {
   "cell_type": "code",
   "execution_count": 19,
   "metadata": {
    "ExecuteTime": {
     "end_time": "2019-02-12T15:13:15.578993Z",
     "start_time": "2019-02-12T15:13:15.203995Z"
    }
   },
   "outputs": [
    {
     "data": {
      "text/plain": [
       "<matplotlib.axes._subplots.AxesSubplot at 0x2a0b4dde908>"
      ]
     },
     "execution_count": 19,
     "metadata": {},
     "output_type": "execute_result"
    },
    {
     "data": {
      "image/png": "[encoded data removed]",
      "text/plain": [
       "<Figure size 432x288 with 1 Axes>"
      ]
     },
     "metadata": {
      "needs_background": "light"
     },
     "output_type": "display_data"
    }
   ],
   "source": [
    "sns.distplot(train_df.Fare)"
   ]
  },
  {
   "cell_type": "markdown",
   "metadata": {},
   "source": [
    "There's one missing fare, so we'll fill it with the mean fare given Pclass. "
   ]
  },
  {
   "cell_type": "code",
   "execution_count": 20,
   "metadata": {
    "ExecuteTime": {
     "end_time": "2019-02-12T15:13:15.604924Z",
     "start_time": "2019-02-12T15:13:15.580988Z"
    }
   },
   "outputs": [
    {
     "data": {
      "text/html": [
       "<div>\n",
       "<style scoped>\n",
       "    .dataframe tbody tr th:only-of-type {\n",
       "        vertical-align: middle;\n",
       "    }\n",
       "\n",
       "    .dataframe tbody tr th {\n",
       "        vertical-align: top;\n",
       "    }\n",
       "\n",
       "    .dataframe thead th {\n",
       "        text-align: right;\n",
       "    }\n",
       "</style>\n",
       "<table border=\"1\" class=\"dataframe\">\n",
       "  <thead>\n",
       "    <tr style=\"text-align: right;\">\n",
       "      <th></th>\n",
       "      <th>PassengerId</th>\n",
       "      <th>Pclass</th>\n",
       "      <th>Name</th>\n",
       "      <th>Sex</th>\n",
       "      <th>Age</th>\n",
       "      <th>SibSp</th>\n",
       "      <th>Parch</th>\n",
       "      <th>Ticket</th>\n",
       "      <th>Fare</th>\n",
       "      <th>Cabin</th>\n",
       "      <th>Embarked</th>\n",
       "      <th>Title</th>\n",
       "      <th>IsChild</th>\n",
       "      <th>Age_band_3</th>\n",
       "      <th>Age_band_4</th>\n",
       "      <th>Age_band_5</th>\n",
       "    </tr>\n",
       "  </thead>\n",
       "  <tbody>\n",
       "    <tr>\n",
       "      <th>152</th>\n",
       "      <td>1044</td>\n",
       "      <td>3</td>\n",
       "      <td>Storey, Mr. Thomas</td>\n",
       "      <td>male</td>\n",
       "      <td>60.5</td>\n",
       "      <td>0</td>\n",
       "      <td>0</td>\n",
       "      <td>3701</td>\n",
       "      <td>NaN</td>\n",
       "      <td>NaN</td>\n",
       "      <td>S</td>\n",
       "      <td>3</td>\n",
       "      <td>False</td>\n",
       "      <td>2</td>\n",
       "      <td>3</td>\n",
       "      <td>4</td>\n",
       "    </tr>\n",
       "  </tbody>\n",
       "</table>\n",
       "</div>"
      ],
      "text/plain": [
       "     PassengerId  Pclass                Name   Sex   Age  SibSp  Parch Ticket  \\\n",
       "152         1044       3  Storey, Mr. Thomas  male  60.5      0      0   3701   \n",
       "\n",
       "     Fare Cabin Embarked  Title  IsChild  Age_band_3  Age_band_4  Age_band_5  \n",
       "152   NaN   NaN        S      3    False           2           3           4  "
      ]
     },
     "execution_count": 20,
     "metadata": {},
     "output_type": "execute_result"
    }
   ],
   "source": [
    "missing_fare = test_df[test_df['Fare'].isna()]\n",
    "missing_fare"
   ]
  },
  {
   "cell_type": "code",
   "execution_count": 21,
   "metadata": {
    "ExecuteTime": {
     "end_time": "2019-02-12T15:13:15.651798Z",
     "start_time": "2019-02-12T15:13:15.606918Z"
    }
   },
   "outputs": [
    {
     "data": {
      "text/plain": [
       "Pclass\n",
       "1    87.508992\n",
       "2    21.179196\n",
       "3    13.302889\n",
       "Name: Fare, dtype: float64"
      ]
     },
     "execution_count": 21,
     "metadata": {},
     "output_type": "execute_result"
    }
   ],
   "source": [
    "fare_groupby_pclass = combined_df.groupby('Pclass').mean()['Fare']\n",
    "fare_groupby_pclass"
   ]
  },
  {
   "cell_type": "code",
   "execution_count": 22,
   "metadata": {
    "ExecuteTime": {
     "end_time": "2019-02-12T15:13:15.731584Z",
     "start_time": "2019-02-12T15:13:15.653793Z"
    }
   },
   "outputs": [],
   "source": [
    "mean_fare_for_Pclass3 = fare_groupby_pclass.loc[missing_fare.iloc[0].Pclass]\n",
    "test_df['Fare'].fillna(mean_fare_for_Pclass3, inplace=True)"
   ]
  },
  {
   "cell_type": "markdown",
   "metadata": {},
   "source": [
    "For the same reason than Agen, we will create 5 bands of Fare."
   ]
  },
  {
   "cell_type": "code",
   "execution_count": 23,
   "metadata": {
    "ExecuteTime": {
     "end_time": "2019-02-12T15:13:15.863232Z",
     "start_time": "2019-02-12T15:13:15.733579Z"
    }
   },
   "outputs": [],
   "source": [
    "for i in np.arange(3, 6):\n",
    "    fare_boundaries = get_quantile_based_boundaries(combined_df.Fare, i)\n",
    "    for df in combined:\n",
    "        df[\"Fare_band_\" + str(i)] = df.apply(lambda row : compute_band(row, 'Fare', fare_boundaries), axis=1)"
   ]
  },
  {
   "cell_type": "code",
   "execution_count": 24,
   "metadata": {
    "ExecuteTime": {
     "end_time": "2019-02-12T15:13:16.062699Z",
     "start_time": "2019-02-12T15:13:15.865227Z"
    }
   },
   "outputs": [
    {
     "data": {
      "text/plain": [
       "<matplotlib.axes._subplots.AxesSubplot at 0x2a0b4eb3b00>"
      ]
     },
     "execution_count": 24,
     "metadata": {},
     "output_type": "execute_result"
    },
    {
     "data": {
      "image/png": "[encoded data removed]",
      "text/plain": [
       "<Figure size 432x288 with 1 Axes>"
      ]
     },
     "metadata": {
      "needs_background": "light"
     },
     "output_type": "display_data"
    }
   ],
   "source": [
    "sns.distplot(train_df.Fare_band_5)"
   ]
  },
  {
   "cell_type": "markdown",
   "metadata": {},
   "source": [
    "## Sex column"
   ]
  },
  {
   "cell_type": "markdown",
   "metadata": {},
   "source": [
    "Let's convert the Sex column to be numerical."
   ]
  },
  {
   "cell_type": "code",
   "execution_count": 25,
   "metadata": {
    "ExecuteTime": {
     "end_time": "2019-02-12T15:13:16.072673Z",
     "start_time": "2019-02-12T15:13:16.064702Z"
    }
   },
   "outputs": [
    {
     "data": {
      "text/plain": [
       "male      577\n",
       "female    314\n",
       "Name: Sex, dtype: int64"
      ]
     },
     "execution_count": 25,
     "metadata": {},
     "output_type": "execute_result"
    }
   ],
   "source": [
    "train_df.Sex.value_counts()"
   ]
  },
  {
   "cell_type": "code",
   "execution_count": 26,
   "metadata": {
    "ExecuteTime": {
     "end_time": "2019-02-12T15:13:16.112566Z",
     "start_time": "2019-02-12T15:13:16.074668Z"
    }
   },
   "outputs": [],
   "source": [
    "for df in combined:\n",
    "    df.Sex = pd.get_dummies(df.Sex, drop_first=True)"
   ]
  },
  {
   "cell_type": "code",
   "execution_count": 27,
   "metadata": {
    "ExecuteTime": {
     "end_time": "2019-02-12T15:13:16.123536Z",
     "start_time": "2019-02-12T15:13:16.114560Z"
    }
   },
   "outputs": [
    {
     "data": {
      "text/plain": [
       "1    577\n",
       "0    314\n",
       "Name: Sex, dtype: int64"
      ]
     },
     "execution_count": 27,
     "metadata": {},
     "output_type": "execute_result"
    }
   ],
   "source": [
    "train_df.Sex.value_counts()"
   ]
  },
  {
   "cell_type": "markdown",
   "metadata": {},
   "source": [
    "## Embarked column"
   ]
  },
  {
   "cell_type": "markdown",
   "metadata": {},
   "source": [
    "First fill empty values with the most frequent embarked.  \n",
    "Then convert the column to be numerical."
   ]
  },
  {
   "cell_type": "code",
   "execution_count": 28,
   "metadata": {
    "ExecuteTime": {
     "end_time": "2019-02-12T15:13:16.133510Z",
     "start_time": "2019-02-12T15:13:16.126528Z"
    }
   },
   "outputs": [
    {
     "data": {
      "text/plain": [
       "S    644\n",
       "C    168\n",
       "Q     77\n",
       "Name: Embarked, dtype: int64"
      ]
     },
     "execution_count": 28,
     "metadata": {},
     "output_type": "execute_result"
    }
   ],
   "source": [
    "train_df.Embarked.value_counts()"
   ]
  },
  {
   "cell_type": "code",
   "execution_count": 29,
   "metadata": {
    "ExecuteTime": {
     "end_time": "2019-02-12T15:13:16.146475Z",
     "start_time": "2019-02-12T15:13:16.135504Z"
    }
   },
   "outputs": [],
   "source": [
    "freq_port = df.Embarked.dropna().mode()[0]\n",
    "\n",
    "for df in combined:\n",
    "    df.Embarked.fillna(freq_port, inplace=True)\n",
    "    df.Embarked = pd.Categorical(df.Embarked).codes"
   ]
  },
  {
   "cell_type": "code",
   "execution_count": 30,
   "metadata": {
    "ExecuteTime": {
     "end_time": "2019-02-12T15:13:16.154455Z",
     "start_time": "2019-02-12T15:13:16.148469Z"
    }
   },
   "outputs": [
    {
     "data": {
      "text/plain": [
       "2    646\n",
       "0    168\n",
       "1     77\n",
       "Name: Embarked, dtype: int64"
      ]
     },
     "execution_count": 30,
     "metadata": {},
     "output_type": "execute_result"
    }
   ],
   "source": [
    "train_df.Embarked.value_counts()"
   ]
  },
  {
   "cell_type": "markdown",
   "metadata": {},
   "source": [
    "## FamilySize and IsAlone columns"
   ]
  },
  {
   "cell_type": "markdown",
   "metadata": {},
   "source": [
    "Let's create two new columns:\n",
    "- FamilySize is the sum of SibSp and Parch + 1 (the person itself)\n",
    "- IsAlone: whether this person has embarked alone or with his family"
   ]
  },
  {
   "cell_type": "code",
   "execution_count": 31,
   "metadata": {
    "ExecuteTime": {
     "end_time": "2019-02-12T15:13:24.141012Z",
     "start_time": "2019-02-12T15:13:16.157446Z"
    }
   },
   "outputs": [],
   "source": [
    "for df in combined:\n",
    "    df['FamilySize'] = df.SibSp + df.Parch + 1\n",
    "    df['IsAlone'] = ((df.SibSp + df.Parch)==0)*1"
   ]
  },
  {
   "cell_type": "markdown",
   "metadata": {},
   "source": [
    "## Cabin column"
   ]
  },
  {
   "cell_type": "markdown",
   "metadata": {},
   "source": [
    "Here I will extract some information that may be intersting from the Cabin column: the letter of the cabin, its number, and whether it's odd or not."
   ]
  },
  {
   "cell_type": "code",
   "execution_count": 32,
   "metadata": {
    "ExecuteTime": {
     "end_time": "2019-02-12T15:13:24.165149Z",
     "start_time": "2019-02-12T15:13:24.142010Z"
    }
   },
   "outputs": [],
   "source": [
    "import re\n",
    "def extract_cabin_nr(cabin):\n",
    "    \"\"\" Extracts the cabin number.  If there no number found, return NaN \"\"\"\n",
    "    if not pd.isnull(cabin):\n",
    "        cabin = cabin.split(' ')[-1]    # if several cabins on ticket, take last one\n",
    "        re_numb = r'[A-Z]([0-9]+)'\n",
    "        try:\n",
    "            number = int(re.findall(re_numb, cabin)[0])\n",
    "            return number\n",
    "        except:\n",
    "            return np.nan\n",
    "    else:\n",
    "        return np.nan"
   ]
  },
  {
   "cell_type": "code",
   "execution_count": 33,
   "metadata": {
    "ExecuteTime": {
     "end_time": "2019-02-12T15:13:24.171133Z",
     "start_time": "2019-02-12T15:13:24.166147Z"
    }
   },
   "outputs": [],
   "source": [
    "def extract_cabin_letter(cabin):\n",
    "    \"\"\" Extracts the cabin letter.  If there no letter found, return NaN \"\"\"\n",
    "    if not pd.isnull(cabin):\n",
    "        cabin = cabin.split(' ')[-1]    # if several cabins on ticket, take last one\n",
    "        re_char = r'([A-Z])[0-9]+'\n",
    "        try:\n",
    "            character = re.findall(re_char, cabin)[0]\n",
    "            return character\n",
    "        except:\n",
    "            return np.nan\n",
    "    else:\n",
    "        return np.nan"
   ]
  },
  {
   "cell_type": "code",
   "execution_count": 34,
   "metadata": {
    "ExecuteTime": {
     "end_time": "2019-02-12T15:13:24.186095Z",
     "start_time": "2019-02-12T15:13:24.172130Z"
    }
   },
   "outputs": [],
   "source": [
    "for df in combined:\n",
    "    df['Cabin_char'] = list(map(extract_cabin_letter, df['Cabin']))\n",
    "    df['Cabin_nr'] = list(map(extract_cabin_nr, df['Cabin']))\n",
    "    df['Cabin_nr_odd'] = df.Cabin_nr.apply(lambda x: np.nan if x == np.nan else x%2)\n",
    "    \n",
    "    # deal with the NaN's in some of our newly created columns\n",
    "    df['Cabin_char'].fillna(value=-9999, inplace=True)\n",
    "    df['Cabin_nr'].fillna(value=-9999, inplace=True)\n",
    "    df['Cabin_nr_odd'].fillna(value=-9999, inplace=True)"
   ]
  },
  {
   "cell_type": "markdown",
   "metadata": {},
   "source": [
    "## Other columns\n",
    "Let's drop the columns we don't need anymore."
   ]
  },
  {
   "cell_type": "code",
   "execution_count": 35,
   "metadata": {
    "ExecuteTime": {
     "end_time": "2019-02-12T15:13:24.193084Z",
     "start_time": "2019-02-12T15:13:24.187089Z"
    }
   },
   "outputs": [],
   "source": [
    "train_df = train_df.drop(['Name','Cabin','Ticket','Fare','Age'], 1)"
   ]
  },
  {
   "cell_type": "code",
   "execution_count": 36,
   "metadata": {
    "ExecuteTime": {
     "end_time": "2019-02-12T15:15:35.784460Z",
     "start_time": "2019-02-12T15:15:35.692705Z"
    }
   },
   "outputs": [
    {
     "data": {
      "text/html": [
       "<div>\n",
       "<style scoped>\n",
       "    .dataframe tbody tr th:only-of-type {\n",
       "        vertical-align: middle;\n",
       "    }\n",
       "\n",
       "    .dataframe tbody tr th {\n",
       "        vertical-align: top;\n",
       "    }\n",
       "\n",
       "    .dataframe thead th {\n",
       "        text-align: right;\n",
       "    }\n",
       "</style>\n",
       "<table border=\"1\" class=\"dataframe\">\n",
       "  <thead>\n",
       "    <tr style=\"text-align: right;\">\n",
       "      <th></th>\n",
       "      <th>PassengerId</th>\n",
       "      <th>Survived</th>\n",
       "      <th>Pclass</th>\n",
       "      <th>Sex</th>\n",
       "      <th>SibSp</th>\n",
       "      <th>Parch</th>\n",
       "      <th>Embarked</th>\n",
       "      <th>Title</th>\n",
       "      <th>Age_band_3</th>\n",
       "      <th>Age_band_4</th>\n",
       "      <th>...</th>\n",
       "      <th>IsAlone</th>\n",
       "      <th>Cabin_nr</th>\n",
       "      <th>Cabin_nr_odd</th>\n",
       "      <th>Cabin_char_A</th>\n",
       "      <th>Cabin_char_B</th>\n",
       "      <th>Cabin_char_C</th>\n",
       "      <th>Cabin_char_D</th>\n",
       "      <th>Cabin_char_E</th>\n",
       "      <th>Cabin_char_F</th>\n",
       "      <th>Cabin_char_G</th>\n",
       "    </tr>\n",
       "  </thead>\n",
       "  <tbody>\n",
       "    <tr>\n",
       "      <th>count</th>\n",
       "      <td>891.000000</td>\n",
       "      <td>891.000000</td>\n",
       "      <td>891.000000</td>\n",
       "      <td>891.000000</td>\n",
       "      <td>891.000000</td>\n",
       "      <td>891.000000</td>\n",
       "      <td>891.000000</td>\n",
       "      <td>891.000000</td>\n",
       "      <td>891.000000</td>\n",
       "      <td>891.000000</td>\n",
       "      <td>...</td>\n",
       "      <td>891.000000</td>\n",
       "      <td>891.000000</td>\n",
       "      <td>891.000000</td>\n",
       "      <td>891.000000</td>\n",
       "      <td>891.000000</td>\n",
       "      <td>891.000000</td>\n",
       "      <td>891.00000</td>\n",
       "      <td>891.000000</td>\n",
       "      <td>891.000000</td>\n",
       "      <td>891.000000</td>\n",
       "    </tr>\n",
       "    <tr>\n",
       "      <th>mean</th>\n",
       "      <td>446.000000</td>\n",
       "      <td>0.383838</td>\n",
       "      <td>2.308642</td>\n",
       "      <td>0.647587</td>\n",
       "      <td>0.523008</td>\n",
       "      <td>0.381594</td>\n",
       "      <td>1.536476</td>\n",
       "      <td>2.747475</td>\n",
       "      <td>1.056117</td>\n",
       "      <td>1.499439</td>\n",
       "      <td>...</td>\n",
       "      <td>0.602694</td>\n",
       "      <td>-7743.141414</td>\n",
       "      <td>-7754.454545</td>\n",
       "      <td>0.016835</td>\n",
       "      <td>0.052750</td>\n",
       "      <td>0.066218</td>\n",
       "      <td>0.03367</td>\n",
       "      <td>0.037037</td>\n",
       "      <td>0.010101</td>\n",
       "      <td>0.007856</td>\n",
       "    </tr>\n",
       "    <tr>\n",
       "      <th>std</th>\n",
       "      <td>257.353842</td>\n",
       "      <td>0.486592</td>\n",
       "      <td>0.836071</td>\n",
       "      <td>0.477990</td>\n",
       "      <td>1.102743</td>\n",
       "      <td>0.806057</td>\n",
       "      <td>0.791503</td>\n",
       "      <td>0.890765</td>\n",
       "      <td>0.756392</td>\n",
       "      <td>1.058274</td>\n",
       "      <td>...</td>\n",
       "      <td>0.489615</td>\n",
       "      <td>4195.494912</td>\n",
       "      <td>4174.421322</td>\n",
       "      <td>0.128725</td>\n",
       "      <td>0.223659</td>\n",
       "      <td>0.248802</td>\n",
       "      <td>0.18048</td>\n",
       "      <td>0.188959</td>\n",
       "      <td>0.100051</td>\n",
       "      <td>0.088337</td>\n",
       "    </tr>\n",
       "    <tr>\n",
       "      <th>min</th>\n",
       "      <td>1.000000</td>\n",
       "      <td>0.000000</td>\n",
       "      <td>1.000000</td>\n",
       "      <td>0.000000</td>\n",
       "      <td>0.000000</td>\n",
       "      <td>0.000000</td>\n",
       "      <td>0.000000</td>\n",
       "      <td>0.000000</td>\n",
       "      <td>0.000000</td>\n",
       "      <td>0.000000</td>\n",
       "      <td>...</td>\n",
       "      <td>0.000000</td>\n",
       "      <td>-9999.000000</td>\n",
       "      <td>-9999.000000</td>\n",
       "      <td>0.000000</td>\n",
       "      <td>0.000000</td>\n",
       "      <td>0.000000</td>\n",
       "      <td>0.00000</td>\n",
       "      <td>0.000000</td>\n",
       "      <td>0.000000</td>\n",
       "      <td>0.000000</td>\n",
       "    </tr>\n",
       "    <tr>\n",
       "      <th>25%</th>\n",
       "      <td>223.500000</td>\n",
       "      <td>0.000000</td>\n",
       "      <td>2.000000</td>\n",
       "      <td>0.000000</td>\n",
       "      <td>0.000000</td>\n",
       "      <td>0.000000</td>\n",
       "      <td>1.000000</td>\n",
       "      <td>2.000000</td>\n",
       "      <td>0.000000</td>\n",
       "      <td>1.000000</td>\n",
       "      <td>...</td>\n",
       "      <td>0.000000</td>\n",
       "      <td>-9999.000000</td>\n",
       "      <td>-9999.000000</td>\n",
       "      <td>0.000000</td>\n",
       "      <td>0.000000</td>\n",
       "      <td>0.000000</td>\n",
       "      <td>0.00000</td>\n",
       "      <td>0.000000</td>\n",
       "      <td>0.000000</td>\n",
       "      <td>0.000000</td>\n",
       "    </tr>\n",
       "    <tr>\n",
       "      <th>50%</th>\n",
       "      <td>446.000000</td>\n",
       "      <td>0.000000</td>\n",
       "      <td>3.000000</td>\n",
       "      <td>1.000000</td>\n",
       "      <td>0.000000</td>\n",
       "      <td>0.000000</td>\n",
       "      <td>2.000000</td>\n",
       "      <td>3.000000</td>\n",
       "      <td>1.000000</td>\n",
       "      <td>1.000000</td>\n",
       "      <td>...</td>\n",
       "      <td>1.000000</td>\n",
       "      <td>-9999.000000</td>\n",
       "      <td>-9999.000000</td>\n",
       "      <td>0.000000</td>\n",
       "      <td>0.000000</td>\n",
       "      <td>0.000000</td>\n",
       "      <td>0.00000</td>\n",
       "      <td>0.000000</td>\n",
       "      <td>0.000000</td>\n",
       "      <td>0.000000</td>\n",
       "    </tr>\n",
       "    <tr>\n",
       "      <th>75%</th>\n",
       "      <td>668.500000</td>\n",
       "      <td>1.000000</td>\n",
       "      <td>3.000000</td>\n",
       "      <td>1.000000</td>\n",
       "      <td>1.000000</td>\n",
       "      <td>0.000000</td>\n",
       "      <td>2.000000</td>\n",
       "      <td>3.000000</td>\n",
       "      <td>2.000000</td>\n",
       "      <td>2.000000</td>\n",
       "      <td>...</td>\n",
       "      <td>1.000000</td>\n",
       "      <td>-9999.000000</td>\n",
       "      <td>-9999.000000</td>\n",
       "      <td>0.000000</td>\n",
       "      <td>0.000000</td>\n",
       "      <td>0.000000</td>\n",
       "      <td>0.00000</td>\n",
       "      <td>0.000000</td>\n",
       "      <td>0.000000</td>\n",
       "      <td>0.000000</td>\n",
       "    </tr>\n",
       "    <tr>\n",
       "      <th>max</th>\n",
       "      <td>891.000000</td>\n",
       "      <td>1.000000</td>\n",
       "      <td>3.000000</td>\n",
       "      <td>1.000000</td>\n",
       "      <td>8.000000</td>\n",
       "      <td>6.000000</td>\n",
       "      <td>2.000000</td>\n",
       "      <td>4.000000</td>\n",
       "      <td>2.000000</td>\n",
       "      <td>3.000000</td>\n",
       "      <td>...</td>\n",
       "      <td>1.000000</td>\n",
       "      <td>148.000000</td>\n",
       "      <td>1.000000</td>\n",
       "      <td>1.000000</td>\n",
       "      <td>1.000000</td>\n",
       "      <td>1.000000</td>\n",
       "      <td>1.00000</td>\n",
       "      <td>1.000000</td>\n",
       "      <td>1.000000</td>\n",
       "      <td>1.000000</td>\n",
       "    </tr>\n",
       "  </tbody>\n",
       "</table>\n",
       "<p>8 rows × 25 columns</p>\n",
       "</div>"
      ],
      "text/plain": [
       "       PassengerId    Survived      Pclass         Sex       SibSp  \\\n",
       "count   891.000000  891.000000  891.000000  891.000000  891.000000   \n",
       "mean    446.000000    0.383838    2.308642    0.647587    0.523008   \n",
       "std     257.353842    0.486592    0.836071    0.477990    1.102743   \n",
       "min       1.000000    0.000000    1.000000    0.000000    0.000000   \n",
       "25%     223.500000    0.000000    2.000000    0.000000    0.000000   \n",
       "50%     446.000000    0.000000    3.000000    1.000000    0.000000   \n",
       "75%     668.500000    1.000000    3.000000    1.000000    1.000000   \n",
       "max     891.000000    1.000000    3.000000    1.000000    8.000000   \n",
       "\n",
       "            Parch    Embarked       Title  Age_band_3  Age_band_4  ...  \\\n",
       "count  891.000000  891.000000  891.000000  891.000000  891.000000  ...   \n",
       "mean     0.381594    1.536476    2.747475    1.056117    1.499439  ...   \n",
       "std      0.806057    0.791503    0.890765    0.756392    1.058274  ...   \n",
       "min      0.000000    0.000000    0.000000    0.000000    0.000000  ...   \n",
       "25%      0.000000    1.000000    2.000000    0.000000    1.000000  ...   \n",
       "50%      0.000000    2.000000    3.000000    1.000000    1.000000  ...   \n",
       "75%      0.000000    2.000000    3.000000    2.000000    2.000000  ...   \n",
       "max      6.000000    2.000000    4.000000    2.000000    3.000000  ...   \n",
       "\n",
       "          IsAlone     Cabin_nr  Cabin_nr_odd  Cabin_char_A  Cabin_char_B  \\\n",
       "count  891.000000   891.000000    891.000000    891.000000    891.000000   \n",
       "mean     0.602694 -7743.141414  -7754.454545      0.016835      0.052750   \n",
       "std      0.489615  4195.494912   4174.421322      0.128725      0.223659   \n",
       "min      0.000000 -9999.000000  -9999.000000      0.000000      0.000000   \n",
       "25%      0.000000 -9999.000000  -9999.000000      0.000000      0.000000   \n",
       "50%      1.000000 -9999.000000  -9999.000000      0.000000      0.000000   \n",
       "75%      1.000000 -9999.000000  -9999.000000      0.000000      0.000000   \n",
       "max      1.000000   148.000000      1.000000      1.000000      1.000000   \n",
       "\n",
       "       Cabin_char_C  Cabin_char_D  Cabin_char_E  Cabin_char_F  Cabin_char_G  \n",
       "count    891.000000     891.00000    891.000000    891.000000    891.000000  \n",
       "mean       0.066218       0.03367      0.037037      0.010101      0.007856  \n",
       "std        0.248802       0.18048      0.188959      0.100051      0.088337  \n",
       "min        0.000000       0.00000      0.000000      0.000000      0.000000  \n",
       "25%        0.000000       0.00000      0.000000      0.000000      0.000000  \n",
       "50%        0.000000       0.00000      0.000000      0.000000      0.000000  \n",
       "75%        0.000000       0.00000      0.000000      0.000000      0.000000  \n",
       "max        1.000000       1.00000      1.000000      1.000000      1.000000  \n",
       "\n",
       "[8 rows x 25 columns]"
      ]
     },
     "execution_count": 36,
     "metadata": {},
     "output_type": "execute_result"
    }
   ],
   "source": [
    "train_df = pd.get_dummies(train_df, drop_first=True)\n",
    "train_df.describe()"
   ]
  },
  {
   "cell_type": "markdown",
   "metadata": {},
   "source": [
    "## Select features"
   ]
  },
  {
   "cell_type": "markdown",
   "metadata": {},
   "source": [
    "I have tried many different selection of features in the models I tested.  \n",
    "I also explored Feature ranking with recursive feature elimination and cross-validated selection of the best number of features with [RFECV](https://scikit-learn.org/stable/modules/generated/sklearn.feature_selection.RFECV.html).  \n",
    "I finally selected a mix between my feeling and what RFECV has proposed."
   ]
  },
  {
   "cell_type": "code",
   "execution_count": 37,
   "metadata": {
    "ExecuteTime": {
     "end_time": "2019-01-21T14:07:40.947734Z",
     "start_time": "2019-01-21T14:07:40.937770Z"
    }
   },
   "outputs": [],
   "source": [
    "X = np.array(train_df.drop(['Survived','PassengerId'], 1))\n",
    "training_features = np.array(train_df.drop(['Survived','PassengerId'], 1).columns)\n",
    "y = np.array(train_df['Survived'])"
   ]
  },
  {
   "cell_type": "markdown",
   "metadata": {},
   "source": [
    "I need my first classifier to explorer feature ranking.  \n",
    "Machine learning is an iterative process so here I'll use the classifier that I used for my the best submission: [XGBClassifier](https://xgboost.readthedocs.io/en/latest/python/python_api.html)"
   ]
  },
  {
   "cell_type": "code",
   "execution_count": 38,
   "metadata": {
    "ExecuteTime": {
     "end_time": "2019-01-21T15:16:46.575278Z",
     "start_time": "2019-01-21T15:16:46.347887Z"
    }
   },
   "outputs": [
    {
     "name": "stderr",
     "output_type": "stream",
     "text": [
      "[Parallel(n_jobs=-1)]: Using backend LokyBackend with 8 concurrent workers.\n",
      "[Parallel(n_jobs=-1)]: Done   6 out of   6 | elapsed:    4.4s finished\n"
     ]
    },
    {
     "name": "stdout",
     "output_type": "stream",
     "text": [
      "n_split=5\n",
      "[0.85234899 0.83892617 0.82550336 0.87162162 0.83108108 0.80405405]\n",
      "Accuracy: 0.837 stdev: 0.021\n",
      "\n"
     ]
    }
   ],
   "source": [
    "from sklearn import model_selection\n",
    "import xgboost as xgb\n",
    "\n",
    "clf = xgb.XGBClassifier(verbose=1)\n",
    "#for i in np.arange(3, 21):\n",
    "cv = model_selection.StratifiedKFold(n_splits=6, shuffle=True, random_state=1)\n",
    "scores = model_selection.cross_val_score(clf, X, y, cv=cv, n_jobs=-1, scoring='accuracy', verbose=1)\n",
    "clf.fit(X,y)\n",
    "print('n_split=' + str(i))\n",
    "print(scores)\n",
    "print('Accuracy: %.3f stdev: %.3f' % (np.mean(np.abs(scores)), np.std(scores)))\n",
    "print()\n"
   ]
  },
  {
   "cell_type": "code",
   "execution_count": 39,
   "metadata": {
    "ExecuteTime": {
     "end_time": "2019-01-21T15:11:23.328815Z",
     "start_time": "2019-01-21T15:11:20.933174Z"
    }
   },
   "outputs": [
    {
     "name": "stdout",
     "output_type": "stream",
     "text": [
      "features used during training: \n",
      "['Pclass' 'Sex' 'SibSp' 'Parch' 'Embarked' 'Title' 'IsChild' 'Age_band_3'\n",
      " 'Age_band_4' 'Age_band_5' 'Fare_band_3' 'Fare_band_4' 'Fare_band_5'\n",
      " 'FamilySize' 'IsAlone' 'Cabin_nr' 'Cabin_nr_odd' 'Cabin_char_A'\n",
      " 'Cabin_char_B' 'Cabin_char_C' 'Cabin_char_D' 'Cabin_char_E'\n",
      " 'Cabin_char_F' 'Cabin_char_G']\n",
      "\n",
      "Fitting estimator with 24 features.\n",
      "Fitting estimator with 23 features.\n",
      "Fitting estimator with 22 features.\n",
      "features proposed by RFECV: \n",
      "['Pclass' 'Sex' 'SibSp' 'Parch' 'Embarked' 'Title' 'IsChild' 'Age_band_3'\n",
      " 'Age_band_4' 'Age_band_5' 'Fare_band_3' 'Fare_band_4' 'Fare_band_5'\n",
      " 'FamilySize' 'IsAlone' 'Cabin_nr' 'Cabin_nr_odd' 'Cabin_char_B'\n",
      " 'Cabin_char_C' 'Cabin_char_D' 'Cabin_char_E']\n"
     ]
    }
   ],
   "source": [
    "from sklearn.feature_selection import RFECV\n",
    "\n",
    "print(\"features used during training: \")\n",
    "print(training_features)\n",
    "print(\"\")\n",
    "\n",
    "featselect = RFECV(estimator=clf, cv=cv, scoring='accuracy', verbose=1, n_jobs=-1)\n",
    "featselect.fit(X,y)\n",
    "\n",
    "print(\"features proposed by RFECV: \"),\n",
    "print(training_features[featselect.support_])"
   ]
  },
  {
   "cell_type": "code",
   "execution_count": 40,
   "metadata": {
    "ExecuteTime": {
     "end_time": "2019-01-21T14:14:56.517537Z",
     "start_time": "2019-01-21T14:14:56.514547Z"
    }
   },
   "outputs": [],
   "source": [
    "#features = ['Pclass', 'Sex', 'Age', 'IsAlone', 'Fare', 'Embarked', 'Title', 'Cabin_nr']\n",
    "features = ['Pclass','Sex', 'IsChild', 'Age_band_5', 'Fare_band_4', 'Fare_band_5', 'Title', 'FamilySize', 'Cabin_nr']"
   ]
  },
  {
   "cell_type": "markdown",
   "metadata": {},
   "source": [
    "# Choosing a model"
   ]
  },
  {
   "cell_type": "markdown",
   "metadata": {},
   "source": [
    "The goal of this project is to have a first real experience in machine learning, python, sklearn and try many different classifiers.  \n",
    "So let's create an algorithm that will try many different classifiers, and try many different hyper parameters thanks to [GridSearchCV](https://scikit-learn.org/stable/modules/generated/sklearn.model_selection.GridSearchCV.html).  \n",
    "This algorithm will also record the scores and best parameters for every classifier."
   ]
  },
  {
   "cell_type": "code",
   "execution_count": 41,
   "metadata": {
    "ExecuteTime": {
     "end_time": "2019-01-21T14:14:57.297174Z",
     "start_time": "2019-01-21T14:14:57.294203Z"
    }
   },
   "outputs": [],
   "source": [
    "from sklearn.model_selection import GridSearchCV\n",
    "from sklearn.model_selection import train_test_split"
   ]
  },
  {
   "cell_type": "code",
   "execution_count": 42,
   "metadata": {
    "ExecuteTime": {
     "end_time": "2019-01-21T14:14:57.705917Z",
     "start_time": "2019-01-21T14:14:57.701926Z"
    }
   },
   "outputs": [],
   "source": [
    "from sklearn.metrics import make_scorer, accuracy_score, f1_score\n",
    "from sklearn.metrics import classification_report,confusion_matrix"
   ]
  },
  {
   "cell_type": "code",
   "execution_count": 43,
   "metadata": {
    "ExecuteTime": {
     "end_time": "2019-01-21T14:15:02.038770Z",
     "start_time": "2019-01-21T14:14:58.253189Z"
    }
   },
   "outputs": [],
   "source": [
    "from sklearn.ensemble import AdaBoostClassifier, BaggingClassifier, ExtraTreesClassifier, GradientBoostingClassifier, RandomForestClassifier\n",
    "from sklearn.neighbors import KNeighborsClassifier\n",
    "from sklearn.neural_network import MLPClassifier\n",
    "from sklearn.svm import SVC\n",
    "from sklearn.gaussian_process import GaussianProcessClassifier\n",
    "from sklearn.gaussian_process.kernels import RBF\n",
    "from sklearn.tree import DecisionTreeClassifier\n",
    "from sklearn.naive_bayes import GaussianNB\n",
    "from sklearn.discriminant_analysis import QuadraticDiscriminantAnalysis\n",
    "from sklearn.linear_model import SGDClassifier"
   ]
  },
  {
   "cell_type": "markdown",
   "metadata": {},
   "source": [
    "Here are the hyper parameters and their tested values:"
   ]
  },
  {
   "cell_type": "code",
   "execution_count": 44,
   "metadata": {},
   "outputs": [],
   "source": [
    "n_estimators = [10,50,100,200,400]\n",
    "n_neighbors = [3,4,5,6]\n",
    "learning_rates = [1.0, 0.3, 0.1, 0.03, 0.01, 0.005, 0.003]\n",
    "criterion = ['gini', 'entropy']\n",
    "max_features = ['log2', 'sqrt','auto']\n",
    "hidden_layer_sizes = [(100,), (100,100), (50,100,50)]\n",
    "C = [0.1, 1, 3, 10, 30, 100]\n",
    "gamma = [1, 0.3, 0.1, 0.03, 0.01, 0.001]\n",
    "max_depth = [2, 3, 4]\n",
    "reg_lambda = [0.50]\n",
    "loss = ['deviance', 'exponential']"
   ]
  },
  {
   "cell_type": "markdown",
   "metadata": {},
   "source": [
    "And the many classifiers I give a try with their hyper parameters:"
   ]
  },
  {
   "cell_type": "code",
   "execution_count": 45,
   "metadata": {
    "ExecuteTime": {
     "end_time": "2019-01-21T14:15:02.052477Z",
     "start_time": "2019-01-21T14:15:02.040510Z"
    }
   },
   "outputs": [],
   "source": [
    "models_and_grid_params = [\n",
    "    #(SGDClassifier, {'penalty': ['l2', 'l1']}),\n",
    "    (xgb.XGBClassifier, {'n_estimators': n_estimators, 'learning_rate': learning_rates, 'max_depth': max_depth, 'reg_lambda': reg_lambda}),\n",
    "    (AdaBoostClassifier, {'n_estimators': n_estimators, 'learning_rate': learning_rates}),\n",
    "    #(ExtraTreesClassifier, {'n_estimators': n_estimators}),\n",
    "    (GradientBoostingClassifier,{'loss': loss, 'learning_rate': learning_rates}), \n",
    "    (RandomForestClassifier, {'n_estimators': n_estimators, 'criterion': criterion,'max_features': max_features}),\n",
    "    #(KNeighborsClassifier, {'n_neighbors': n_neighbors}),\n",
    "    #(MLPClassifier,{'hidden_layer_sizes': hidden_layer_sizes}),\n",
    "                   #(SVC,{'C': C, 'gamma': gamma}),\n",
    "                   #(GaussianProcessClassifier,{}),\n",
    "                   (DecisionTreeClassifier,{})\n",
    "                   #(GaussianNB,{})\n",
    "                   ]\n",
    "\n",
    "scores = pd.DataFrame(columns=['Model', 'Estimator', 'Trial', 'Best Params', 'Accuracy Score'])"
   ]
  },
  {
   "cell_type": "markdown",
   "metadata": {},
   "source": [
    "# Training models"
   ]
  },
  {
   "cell_type": "markdown",
   "metadata": {},
   "source": [
    "Here I split training data into random train (60%) and test subsets (40%). The test subset will be used to evaluate how the classifier can generalize with unseen data."
   ]
  },
  {
   "cell_type": "code",
   "execution_count": 46,
   "metadata": {
    "ExecuteTime": {
     "end_time": "2019-01-21T14:15:05.041779Z",
     "start_time": "2019-01-21T14:15:05.035768Z"
    }
   },
   "outputs": [],
   "source": [
    "X_train, X_test, y_train, y_test = train_test_split(train_df[features], train_df['Survived'], test_size=0.4, random_state=42)"
   ]
  },
  {
   "cell_type": "markdown",
   "metadata": {},
   "source": [
    "Define train_model function that will create a given model, and search for the best parameters across a given param_grid.\n",
    "It appends the results to the scores dataframe for later evaluation."
   ]
  },
  {
   "cell_type": "code",
   "execution_count": 47,
   "metadata": {
    "ExecuteTime": {
     "end_time": "2019-01-21T14:19:08.668310Z",
     "start_time": "2019-01-21T14:19:08.661341Z"
    }
   },
   "outputs": [],
   "source": [
    "def train_model(estimator_class, param_grid, scores, X_train, X_test, y_train, y_test, verbose=0):\n",
    "    estimator = estimator_class()\n",
    "    \n",
    "    if verbose==1:\n",
    "        print('Training ' + type(estimator).__name__ + '...')\n",
    "    \n",
    "    \n",
    "    cv = model_selection.StratifiedKFold(n_splits=5, shuffle=True, random_state=1)\n",
    "\n",
    "    model = GridSearchCV(estimator, param_grid, refit=True, cv=cv, scoring='accuracy', verbose=verbose, n_jobs=-1)\n",
    "    model.fit(X_train,y_train)\n",
    "    #pred = model.predict(X_test)\n",
    "    \n",
    "    #accuracy = round(model.score(X_test, y_test) * 100, 3)\n",
    "    trial_row = scores[scores['Model']==type(estimator).__name__]\n",
    "    trial = 1\n",
    "    if not trial_row.empty:\n",
    "        trial = int(trial_row['Trial'].max()) + 1\n",
    "    scores = scores.append({'Model' : type(estimator).__name__, \n",
    "                            'Estimator' : model.best_estimator_, \n",
    "                            'Trial': trial,\n",
    "                            'Best Params': str(model.best_params_),\n",
    "                            'Accuracy Score': round(model.best_score_*100,3) #accuracy\n",
    "                           }, ignore_index=True)\n",
    "    \n",
    "    return scores, model.best_estimator_, model.best_params_, round(model.best_score_*100,3)"
   ]
  },
  {
   "cell_type": "code",
   "execution_count": 48,
   "metadata": {
    "ExecuteTime": {
     "end_time": "2019-01-21T14:15:08.985959Z",
     "start_time": "2019-01-21T14:15:08.981971Z"
    }
   },
   "outputs": [],
   "source": [
    "def print_results(model, params, accuracy, scores=None):\n",
    "    print(type(model).__name__ + ' works best (' + str(accuracy) + '%) with ' + str(params))\n",
    "    if not scores is None:\n",
    "        scores = scores.sort_values('Accuracy Score', ascending=False)\n",
    "    return scores"
   ]
  },
  {
   "cell_type": "markdown",
   "metadata": {},
   "source": [
    "Now let's train all the models:"
   ]
  },
  {
   "cell_type": "code",
   "execution_count": 49,
   "metadata": {},
   "outputs": [
    {
     "name": "stdout",
     "output_type": "stream",
     "text": [
      "Training XGBClassifier...\n",
      "Fitting 5 folds for each of 105 candidates, totalling 525 fits\n"
     ]
    },
    {
     "name": "stderr",
     "output_type": "stream",
     "text": [
      "[Parallel(n_jobs=-1)]: Using backend LokyBackend with 8 concurrent workers.\n",
      "[Parallel(n_jobs=-1)]: Done 232 tasks      | elapsed:    5.6s\n",
      "[Parallel(n_jobs=-1)]: Done 525 out of 525 | elapsed:   11.5s finished\n",
      "C:\\Users\\lange\\Anaconda3\\lib\\site-packages\\sklearn\\model_selection\\_search.py:841: DeprecationWarning: The default of the `iid` parameter will change from True to False in version 0.22 and will be removed in 0.24. This will change numeric results when test-set sizes are unequal.\n",
      "  DeprecationWarning)\n"
     ]
    },
    {
     "name": "stdout",
     "output_type": "stream",
     "text": [
      "XGBClassifier works best (84.831%) with {'learning_rate': 0.03, 'max_depth': 4, 'n_estimators': 400, 'reg_lambda': 0.5}\n",
      "Training AdaBoostClassifier...\n",
      "Fitting 5 folds for each of 35 candidates, totalling 175 fits\n"
     ]
    },
    {
     "name": "stderr",
     "output_type": "stream",
     "text": [
      "[Parallel(n_jobs=-1)]: Using backend LokyBackend with 8 concurrent workers.\n",
      "[Parallel(n_jobs=-1)]: Done  52 tasks      | elapsed:    3.0s\n",
      "[Parallel(n_jobs=-1)]: Done 175 out of 175 | elapsed:   11.7s finished\n",
      "C:\\Users\\lange\\Anaconda3\\lib\\site-packages\\sklearn\\model_selection\\_search.py:841: DeprecationWarning: The default of the `iid` parameter will change from True to False in version 0.22 and will be removed in 0.24. This will change numeric results when test-set sizes are unequal.\n",
      "  DeprecationWarning)\n"
     ]
    },
    {
     "name": "stdout",
     "output_type": "stream",
     "text": [
      "AdaBoostClassifier works best (83.708%) with {'learning_rate': 0.1, 'n_estimators': 100}\n",
      "Training GradientBoostingClassifier...\n",
      "Fitting 5 folds for each of 14 candidates, totalling 70 fits\n"
     ]
    },
    {
     "name": "stderr",
     "output_type": "stream",
     "text": [
      "[Parallel(n_jobs=-1)]: Using backend LokyBackend with 8 concurrent workers.\n",
      "[Parallel(n_jobs=-1)]: Done  34 tasks      | elapsed:    0.9s\n",
      "[Parallel(n_jobs=-1)]: Done  70 out of  70 | elapsed:    1.6s finished\n",
      "[Parallel(n_jobs=-1)]: Using backend LokyBackend with 8 concurrent workers.\n"
     ]
    },
    {
     "name": "stdout",
     "output_type": "stream",
     "text": [
      "GradientBoostingClassifier works best (84.27%) with {'learning_rate': 0.03, 'loss': 'exponential'}\n",
      "Training RandomForestClassifier...\n",
      "Fitting 5 folds for each of 30 candidates, totalling 150 fits\n"
     ]
    },
    {
     "name": "stderr",
     "output_type": "stream",
     "text": [
      "[Parallel(n_jobs=-1)]: Done  88 tasks      | elapsed:    5.0s\n",
      "[Parallel(n_jobs=-1)]: Done 135 out of 150 | elapsed:    8.1s remaining:    0.8s\n"
     ]
    },
    {
     "name": "stdout",
     "output_type": "stream",
     "text": [
      "RandomForestClassifier works best (81.835%) with {'criterion': 'entropy', 'max_features': 'log2', 'n_estimators': 50}\n",
      "Training DecisionTreeClassifier...\n",
      "Fitting 5 folds for each of 1 candidates, totalling 5 fits\n",
      "DecisionTreeClassifier works best (80.337%) with {}\n"
     ]
    },
    {
     "name": "stderr",
     "output_type": "stream",
     "text": [
      "[Parallel(n_jobs=-1)]: Done 150 out of 150 | elapsed:    9.3s finished\n",
      "[Parallel(n_jobs=-1)]: Using backend LokyBackend with 8 concurrent workers.\n",
      "[Parallel(n_jobs=-1)]: Done   2 out of   5 | elapsed:    0.0s remaining:    0.0s\n",
      "[Parallel(n_jobs=-1)]: Done   5 out of   5 | elapsed:    0.0s finished\n"
     ]
    }
   ],
   "source": [
    "for model_class, param_grid in models_and_grid_params:\n",
    "    scores, best_model, best_params, accuracy = train_model(model_class, param_grid, scores, X_train, X_test, y_train, y_test, verbose=1)\n",
    "    print_results(best_model, best_params, accuracy)"
   ]
  },
  {
   "cell_type": "markdown",
   "metadata": {},
   "source": [
    "# Evaluating models"
   ]
  },
  {
   "cell_type": "markdown",
   "metadata": {},
   "source": [
    "The dataframe below shows the best results for the trained models, with the highest score on top."
   ]
  },
  {
   "cell_type": "code",
   "execution_count": 50,
   "metadata": {},
   "outputs": [],
   "source": [
    "def print_scores(scores):\n",
    "    return scores.sort_values('Accuracy Score', ascending=False)"
   ]
  },
  {
   "cell_type": "code",
   "execution_count": 51,
   "metadata": {},
   "outputs": [
    {
     "data": {
      "text/html": [
       "<div>\n",
       "<style scoped>\n",
       "    .dataframe tbody tr th:only-of-type {\n",
       "        vertical-align: middle;\n",
       "    }\n",
       "\n",
       "    .dataframe tbody tr th {\n",
       "        vertical-align: top;\n",
       "    }\n",
       "\n",
       "    .dataframe thead th {\n",
       "        text-align: right;\n",
       "    }\n",
       "</style>\n",
       "<table border=\"1\" class=\"dataframe\">\n",
       "  <thead>\n",
       "    <tr style=\"text-align: right;\">\n",
       "      <th></th>\n",
       "      <th>Model</th>\n",
       "      <th>Estimator</th>\n",
       "      <th>Trial</th>\n",
       "      <th>Best Params</th>\n",
       "      <th>Accuracy Score</th>\n",
       "    </tr>\n",
       "  </thead>\n",
       "  <tbody>\n",
       "    <tr>\n",
       "      <th>0</th>\n",
       "      <td>XGBClassifier</td>\n",
       "      <td>XGBClassifier(base_score=0.5, booster='gbtree'...</td>\n",
       "      <td>1</td>\n",
       "      <td>{'learning_rate': 0.03, 'max_depth': 4, 'n_est...</td>\n",
       "      <td>84.831</td>\n",
       "    </tr>\n",
       "    <tr>\n",
       "      <th>2</th>\n",
       "      <td>GradientBoostingClassifier</td>\n",
       "      <td>([DecisionTreeRegressor(criterion='friedman_ms...</td>\n",
       "      <td>1</td>\n",
       "      <td>{'learning_rate': 0.03, 'loss': 'exponential'}</td>\n",
       "      <td>84.270</td>\n",
       "    </tr>\n",
       "    <tr>\n",
       "      <th>1</th>\n",
       "      <td>AdaBoostClassifier</td>\n",
       "      <td>(DecisionTreeClassifier(class_weight=None, cri...</td>\n",
       "      <td>1</td>\n",
       "      <td>{'learning_rate': 0.1, 'n_estimators': 100}</td>\n",
       "      <td>83.708</td>\n",
       "    </tr>\n",
       "    <tr>\n",
       "      <th>3</th>\n",
       "      <td>RandomForestClassifier</td>\n",
       "      <td>(DecisionTreeClassifier(class_weight=None, cri...</td>\n",
       "      <td>1</td>\n",
       "      <td>{'criterion': 'entropy', 'max_features': 'log2...</td>\n",
       "      <td>81.835</td>\n",
       "    </tr>\n",
       "    <tr>\n",
       "      <th>4</th>\n",
       "      <td>DecisionTreeClassifier</td>\n",
       "      <td>DecisionTreeClassifier(class_weight=None, crit...</td>\n",
       "      <td>1</td>\n",
       "      <td>{}</td>\n",
       "      <td>80.337</td>\n",
       "    </tr>\n",
       "  </tbody>\n",
       "</table>\n",
       "</div>"
      ],
      "text/plain": [
       "                        Model  \\\n",
       "0               XGBClassifier   \n",
       "2  GradientBoostingClassifier   \n",
       "1          AdaBoostClassifier   \n",
       "3      RandomForestClassifier   \n",
       "4      DecisionTreeClassifier   \n",
       "\n",
       "                                           Estimator Trial  \\\n",
       "0  XGBClassifier(base_score=0.5, booster='gbtree'...     1   \n",
       "2  ([DecisionTreeRegressor(criterion='friedman_ms...     1   \n",
       "1  (DecisionTreeClassifier(class_weight=None, cri...     1   \n",
       "3  (DecisionTreeClassifier(class_weight=None, cri...     1   \n",
       "4  DecisionTreeClassifier(class_weight=None, crit...     1   \n",
       "\n",
       "                                         Best Params  Accuracy Score  \n",
       "0  {'learning_rate': 0.03, 'max_depth': 4, 'n_est...          84.831  \n",
       "2     {'learning_rate': 0.03, 'loss': 'exponential'}          84.270  \n",
       "1        {'learning_rate': 0.1, 'n_estimators': 100}          83.708  \n",
       "3  {'criterion': 'entropy', 'max_features': 'log2...          81.835  \n",
       "4                                                 {}          80.337  "
      ]
     },
     "execution_count": 51,
     "metadata": {},
     "output_type": "execute_result"
    }
   ],
   "source": [
    "print_scores(scores)"
   ]
  },
  {
   "cell_type": "markdown",
   "metadata": {},
   "source": [
    "# Hyperparameter Tuning"
   ]
  },
  {
   "cell_type": "markdown",
   "metadata": {},
   "source": [
    "## Tuning with RandomizedSearchCV"
   ]
  },
  {
   "cell_type": "code",
   "execution_count": 52,
   "metadata": {
    "ExecuteTime": {
     "end_time": "2019-01-21T14:14:10.771760Z",
     "start_time": "2019-01-21T14:14:10.764779Z"
    }
   },
   "outputs": [
    {
     "name": "stdout",
     "output_type": "stream",
     "text": [
      "{'bootstrap': [True, False],\n",
      " 'criterion': ['gini', 'entropy'],\n",
      " 'max_depth': [10, 20, 30, 40, 50, 60, 70, 80, 90, 100, 110, None],\n",
      " 'max_features': ['auto', 'sqrt'],\n",
      " 'min_samples_leaf': [1, 2, 4],\n",
      " 'min_samples_split': [2, 5, 10],\n",
      " 'n_estimators': [100, 300, 500, 700, 900, 1100, 1300, 1500, 1700, 1900]}\n"
     ]
    }
   ],
   "source": [
    "from sklearn.model_selection import RandomizedSearchCV\n",
    "from pprint import pprint\n",
    "\n",
    "# Number of trees in random forest\n",
    "n_estimators = [int(x) for x in np.linspace(start = 100, stop = 1900, num = 10)]\n",
    "# Number of features to consider at every split\n",
    "max_features = ['auto', 'sqrt']\n",
    "# Maximum number of levels in tree\n",
    "max_depth = [int(x) for x in np.linspace(10, 110, num = 11)]\n",
    "max_depth.append(None)\n",
    "# Minimum number of samples required to split a node\n",
    "min_samples_split = [2, 5, 10]\n",
    "# Minimum number of samples required at each leaf node\n",
    "min_samples_leaf = [1, 2, 4]\n",
    "# Method of selecting samples for training each tree\n",
    "bootstrap = [True, False]\n",
    "criterion = ['gini', 'entropy']\n",
    "\n",
    "# Create the random grid\n",
    "random_grid = {'n_estimators': n_estimators,\n",
    "               'criterion': criterion,\n",
    "               'max_features': max_features,\n",
    "               'max_depth': max_depth,\n",
    "               'min_samples_split': min_samples_split,\n",
    "               'min_samples_leaf': min_samples_leaf,\n",
    "               'bootstrap': bootstrap}\n",
    "\n",
    "pprint(random_grid)"
   ]
  },
  {
   "cell_type": "code",
   "execution_count": 53,
   "metadata": {},
   "outputs": [
    {
     "name": "stdout",
     "output_type": "stream",
     "text": [
      "Fitting 3 folds for each of 200 candidates, totalling 600 fits\n"
     ]
    },
    {
     "name": "stderr",
     "output_type": "stream",
     "text": [
      "[Parallel(n_jobs=-1)]: Using backend LokyBackend with 8 concurrent workers.\n",
      "[Parallel(n_jobs=-1)]: Done  25 tasks      | elapsed:    9.2s\n",
      "[Parallel(n_jobs=-1)]: Done 146 tasks      | elapsed:   58.1s\n",
      "[Parallel(n_jobs=-1)]: Done 349 tasks      | elapsed:  2.2min\n",
      "[Parallel(n_jobs=-1)]: Done 600 out of 600 | elapsed:  3.6min finished\n"
     ]
    },
    {
     "data": {
      "text/plain": [
       "RandomizedSearchCV(cv=3, error_score='raise-deprecating',\n",
       "          estimator=RandomForestClassifier(bootstrap=True, class_weight=None, criterion='gini',\n",
       "            max_depth=None, max_features='auto', max_leaf_nodes=None,\n",
       "            min_impurity_decrease=0.0, min_impurity_split=None,\n",
       "            min_samples_leaf=1, min_samples_split=2,\n",
       "            min_weight_fraction_leaf=0.0, n_estimators='warn', n_jobs=None,\n",
       "            oob_score=False, random_state=None, verbose=0,\n",
       "            warm_start=False),\n",
       "          fit_params=None, iid='warn', n_iter=200, n_jobs=-1,\n",
       "          param_distributions={'n_estimators': [100, 300, 500, 700, 900, 1100, 1300, 1500, 1700, 1900], 'criterion': ['gini', 'entropy'], 'max_features': ['auto', 'sqrt'], 'max_depth': [10, 20, 30, 40, 50, 60, 70, 80, 90, 100, 110, None], 'min_samples_split': [2, 5, 10], 'min_samples_leaf': [1, 2, 4], 'bootstrap': [True, False]},\n",
       "          pre_dispatch='2*n_jobs', random_state=42, refit=True,\n",
       "          return_train_score='warn', scoring=None, verbose=2)"
      ]
     },
     "execution_count": 53,
     "metadata": {},
     "output_type": "execute_result"
    }
   ],
   "source": [
    "rf_random = RandomizedSearchCV(estimator = RandomForestClassifier(), param_distributions = random_grid, n_iter = 200, cv = 3, verbose=2, random_state=42, n_jobs = -1)\n",
    "# Fit the random search model\n",
    "rf_random.fit(X_train, y_train)"
   ]
  },
  {
   "cell_type": "code",
   "execution_count": 54,
   "metadata": {},
   "outputs": [
    {
     "name": "stdout",
     "output_type": "stream",
     "text": [
      "The best parameters after tuning are: \n",
      "\n",
      "{'bootstrap': False,\n",
      " 'criterion': 'gini',\n",
      " 'max_depth': 40,\n",
      " 'max_features': 'sqrt',\n",
      " 'min_samples_leaf': 4,\n",
      " 'min_samples_split': 2,\n",
      " 'n_estimators': 900}\n",
      "\n",
      "Final Score on validation data: 84.03% (+2.2%)\n"
     ]
    }
   ],
   "source": [
    "print('The best parameters after tuning are: ')\n",
    "print()\n",
    "pprint(rf_random.best_params_)\n",
    "\n",
    "print()\n",
    "best_model = rf_random.best_estimator_\n",
    "old_score = float(scores[scores['Model']==type(best_model).__name__]['Accuracy Score'])\n",
    "rf_random_score = round(best_model.score(X_test, y_test) * 100, 2)\n",
    "print('Final Score on validation data: ' + str(rf_random_score) + '% (+' + str(round(rf_random_score-old_score,2)) + '%)')"
   ]
  },
  {
   "cell_type": "code",
   "execution_count": 55,
   "metadata": {},
   "outputs": [
    {
     "data": {
      "image/png": "[encoded data removed]",
      "text/plain": [
       "<Figure size 432x288 with 1 Axes>"
      ]
     },
     "metadata": {
      "needs_background": "light"
     },
     "output_type": "display_data"
    }
   ],
   "source": [
    "feature_importances_df = pd.DataFrame(best_model.feature_importances_).transpose()\n",
    "feature_importances_df.columns = features\n",
    "axes = sns.barplot(data=feature_importances_df)\n",
    "_ = axes.set_title('Feature importances in final model')"
   ]
  },
  {
   "cell_type": "markdown",
   "metadata": {},
   "source": [
    "## Tuning with GridSearchCV"
   ]
  },
  {
   "cell_type": "markdown",
   "metadata": {},
   "source": [
    "### GradientBoostingClassifier"
   ]
  },
  {
   "cell_type": "code",
   "execution_count": 56,
   "metadata": {},
   "outputs": [],
   "source": [
    "learning_rates = [0.12, 0.11, 0.1, 0.09, 0.08]\n",
    "max_depth = [3,5,8]\n",
    "loss = ['deviance', 'exponential']\n",
    "\n",
    "tuned_param_grid = {'learning_rate': learning_rates, 'loss': loss, 'max_depth': max_depth,\n",
    "    \"min_samples_split\": np.linspace(0.1, 0.5, 6),\n",
    "    \"min_samples_leaf\": np.linspace(0.1, 0.5, 6),\n",
    "    \"max_features\":[\"log2\",\"sqrt\"],\n",
    "    \"criterion\": [\"friedman_mse\",  \"mae\"]}\n"
   ]
  },
  {
   "cell_type": "code",
   "execution_count": 57,
   "metadata": {},
   "outputs": [
    {
     "name": "stdout",
     "output_type": "stream",
     "text": [
      "Training GradientBoostingClassifier...\n",
      "Fitting 5 folds for each of 4320 candidates, totalling 21600 fits\n"
     ]
    },
    {
     "name": "stderr",
     "output_type": "stream",
     "text": [
      "[Parallel(n_jobs=-1)]: Using backend LokyBackend with 8 concurrent workers.\n",
      "[Parallel(n_jobs=-1)]: Done  52 tasks      | elapsed:    0.9s\n",
      "[Parallel(n_jobs=-1)]: Done 352 tasks      | elapsed:    4.8s\n",
      "[Parallel(n_jobs=-1)]: Done 852 tasks      | elapsed:   11.8s\n",
      "[Parallel(n_jobs=-1)]: Done 1552 tasks      | elapsed:   21.5s\n",
      "[Parallel(n_jobs=-1)]: Done 2452 tasks      | elapsed:   34.0s\n",
      "[Parallel(n_jobs=-1)]: Done 3552 tasks      | elapsed:   49.8s\n",
      "[Parallel(n_jobs=-1)]: Done 4852 tasks      | elapsed:  1.1min\n",
      "[Parallel(n_jobs=-1)]: Done 6352 tasks      | elapsed:  1.5min\n",
      "[Parallel(n_jobs=-1)]: Done 8052 tasks      | elapsed:  1.9min\n",
      "[Parallel(n_jobs=-1)]: Done 9952 tasks      | elapsed:  2.4min\n",
      "[Parallel(n_jobs=-1)]: Done 11547 tasks      | elapsed:  3.1min\n",
      "[Parallel(n_jobs=-1)]: Done 12697 tasks      | elapsed:  3.9min\n",
      "[Parallel(n_jobs=-1)]: Done 13947 tasks      | elapsed:  4.7min\n",
      "[Parallel(n_jobs=-1)]: Done 15297 tasks      | elapsed:  5.6min\n",
      "[Parallel(n_jobs=-1)]: Done 16747 tasks      | elapsed:  6.6min\n",
      "[Parallel(n_jobs=-1)]: Done 18297 tasks      | elapsed:  7.7min\n",
      "[Parallel(n_jobs=-1)]: Done 19947 tasks      | elapsed:  8.8min\n",
      "[Parallel(n_jobs=-1)]: Done 21600 out of 21600 | elapsed:  9.9min finished\n",
      "C:\\Users\\lange\\Anaconda3\\lib\\site-packages\\sklearn\\model_selection\\_search.py:841: DeprecationWarning: The default of the `iid` parameter will change from True to False in version 0.22 and will be removed in 0.24. This will change numeric results when test-set sizes are unequal.\n",
      "  DeprecationWarning)\n"
     ]
    }
   ],
   "source": [
    "scores, gb_tuned, gb_tuned_params, gb_accuracy = train_model(GradientBoostingClassifier, tuned_param_grid, scores, X_train, X_test, y_train, y_test, verbose=1)"
   ]
  },
  {
   "cell_type": "code",
   "execution_count": 58,
   "metadata": {},
   "outputs": [
    {
     "name": "stdout",
     "output_type": "stream",
     "text": [
      "GradientBoostingClassifier works best (82.584%) with {'criterion': 'friedman_mse', 'learning_rate': 0.12, 'loss': 'deviance', 'max_depth': 8, 'max_features': 'sqrt', 'min_samples_leaf': 0.1, 'min_samples_split': 0.42000000000000004}\n"
     ]
    },
    {
     "data": {
      "text/html": [
       "<div>\n",
       "<style scoped>\n",
       "    .dataframe tbody tr th:only-of-type {\n",
       "        vertical-align: middle;\n",
       "    }\n",
       "\n",
       "    .dataframe tbody tr th {\n",
       "        vertical-align: top;\n",
       "    }\n",
       "\n",
       "    .dataframe thead th {\n",
       "        text-align: right;\n",
       "    }\n",
       "</style>\n",
       "<table border=\"1\" class=\"dataframe\">\n",
       "  <thead>\n",
       "    <tr style=\"text-align: right;\">\n",
       "      <th></th>\n",
       "      <th>Model</th>\n",
       "      <th>Estimator</th>\n",
       "      <th>Trial</th>\n",
       "      <th>Best Params</th>\n",
       "      <th>Accuracy Score</th>\n",
       "    </tr>\n",
       "  </thead>\n",
       "  <tbody>\n",
       "    <tr>\n",
       "      <th>0</th>\n",
       "      <td>XGBClassifier</td>\n",
       "      <td>XGBClassifier(base_score=0.5, booster='gbtree'...</td>\n",
       "      <td>1</td>\n",
       "      <td>{'learning_rate': 0.03, 'max_depth': 4, 'n_est...</td>\n",
       "      <td>84.831</td>\n",
       "    </tr>\n",
       "    <tr>\n",
       "      <th>2</th>\n",
       "      <td>GradientBoostingClassifier</td>\n",
       "      <td>([DecisionTreeRegressor(criterion='friedman_ms...</td>\n",
       "      <td>1</td>\n",
       "      <td>{'learning_rate': 0.03, 'loss': 'exponential'}</td>\n",
       "      <td>84.270</td>\n",
       "    </tr>\n",
       "    <tr>\n",
       "      <th>1</th>\n",
       "      <td>AdaBoostClassifier</td>\n",
       "      <td>(DecisionTreeClassifier(class_weight=None, cri...</td>\n",
       "      <td>1</td>\n",
       "      <td>{'learning_rate': 0.1, 'n_estimators': 100}</td>\n",
       "      <td>83.708</td>\n",
       "    </tr>\n",
       "    <tr>\n",
       "      <th>5</th>\n",
       "      <td>GradientBoostingClassifier</td>\n",
       "      <td>([DecisionTreeRegressor(criterion='friedman_ms...</td>\n",
       "      <td>2</td>\n",
       "      <td>{'criterion': 'friedman_mse', 'learning_rate':...</td>\n",
       "      <td>82.584</td>\n",
       "    </tr>\n",
       "    <tr>\n",
       "      <th>3</th>\n",
       "      <td>RandomForestClassifier</td>\n",
       "      <td>(DecisionTreeClassifier(class_weight=None, cri...</td>\n",
       "      <td>1</td>\n",
       "      <td>{'criterion': 'entropy', 'max_features': 'log2...</td>\n",
       "      <td>81.835</td>\n",
       "    </tr>\n",
       "    <tr>\n",
       "      <th>4</th>\n",
       "      <td>DecisionTreeClassifier</td>\n",
       "      <td>DecisionTreeClassifier(class_weight=None, crit...</td>\n",
       "      <td>1</td>\n",
       "      <td>{}</td>\n",
       "      <td>80.337</td>\n",
       "    </tr>\n",
       "  </tbody>\n",
       "</table>\n",
       "</div>"
      ],
      "text/plain": [
       "                        Model  \\\n",
       "0               XGBClassifier   \n",
       "2  GradientBoostingClassifier   \n",
       "1          AdaBoostClassifier   \n",
       "5  GradientBoostingClassifier   \n",
       "3      RandomForestClassifier   \n",
       "4      DecisionTreeClassifier   \n",
       "\n",
       "                                           Estimator Trial  \\\n",
       "0  XGBClassifier(base_score=0.5, booster='gbtree'...     1   \n",
       "2  ([DecisionTreeRegressor(criterion='friedman_ms...     1   \n",
       "1  (DecisionTreeClassifier(class_weight=None, cri...     1   \n",
       "5  ([DecisionTreeRegressor(criterion='friedman_ms...     2   \n",
       "3  (DecisionTreeClassifier(class_weight=None, cri...     1   \n",
       "4  DecisionTreeClassifier(class_weight=None, crit...     1   \n",
       "\n",
       "                                         Best Params  Accuracy Score  \n",
       "0  {'learning_rate': 0.03, 'max_depth': 4, 'n_est...          84.831  \n",
       "2     {'learning_rate': 0.03, 'loss': 'exponential'}          84.270  \n",
       "1        {'learning_rate': 0.1, 'n_estimators': 100}          83.708  \n",
       "5  {'criterion': 'friedman_mse', 'learning_rate':...          82.584  \n",
       "3  {'criterion': 'entropy', 'max_features': 'log2...          81.835  \n",
       "4                                                 {}          80.337  "
      ]
     },
     "execution_count": 58,
     "metadata": {},
     "output_type": "execute_result"
    }
   ],
   "source": [
    "print_results(gb_tuned, gb_tuned_params, gb_accuracy, scores)"
   ]
  },
  {
   "cell_type": "markdown",
   "metadata": {},
   "source": [
    "### XGBClassifier"
   ]
  },
  {
   "cell_type": "code",
   "execution_count": 59,
   "metadata": {
    "ExecuteTime": {
     "end_time": "2019-01-21T14:15:19.427015Z",
     "start_time": "2019-01-21T14:15:19.421057Z"
    }
   },
   "outputs": [
    {
     "name": "stdout",
     "output_type": "stream",
     "text": [
      "{'booster': ['gbtree'],\n",
      " 'colsample_bytree': [0.8, 0.9, 1],\n",
      " 'learning_rate': [0.3, 0.25, 0.2, 0.15, 0.1],\n",
      " 'max_depth': [3],\n",
      " 'n_estimators': [8, 10, 11, 12, 13, 14],\n",
      " 'reg_alpha': [0],\n",
      " 'reg_lambda': [0.43, 0.44, 0.45, 0.46, 0.47, 0.48]}\n"
     ]
    }
   ],
   "source": [
    "n_estimators = [8,10,11,12,13,14] #,100,200]\n",
    "learning_rates = [0.3, 0.25, 0.2, 0.15, 0.1] #, 0.05, 0.03]\n",
    "max_depth = [3]\n",
    "reg_lambda = [.43, .44, .45, .46,.47, .48]\n",
    "colsample_bytree = [.8, .9, 1]\n",
    "reg_alpha = [0] #, 1e-06, 1e-07] #, 0.002, 0.003] #, 0.004, 0.005, 0.01]\n",
    "booster = ['gbtree'] #, 'gblinear', 'dart']\n",
    "\n",
    "tuned_param_grid = {'n_estimators': n_estimators, 'learning_rate': learning_rates, 'max_depth': max_depth, \n",
    "                    'reg_lambda': reg_lambda, 'reg_alpha': reg_alpha,\n",
    "                    'colsample_bytree': colsample_bytree, 'booster': booster\n",
    "                   }\n",
    "\n",
    "pprint(tuned_param_grid)"
   ]
  },
  {
   "cell_type": "code",
   "execution_count": 60,
   "metadata": {
    "ExecuteTime": {
     "end_time": "2019-01-21T14:19:25.834357Z",
     "start_time": "2019-01-21T14:19:16.916130Z"
    }
   },
   "outputs": [
    {
     "name": "stdout",
     "output_type": "stream",
     "text": [
      "Training XGBClassifier...\n",
      "Fitting 5 folds for each of 540 candidates, totalling 2700 fits\n"
     ]
    },
    {
     "name": "stderr",
     "output_type": "stream",
     "text": [
      "[Parallel(n_jobs=-1)]: Using backend LokyBackend with 8 concurrent workers.\n",
      "[Parallel(n_jobs=-1)]: Done 232 tasks      | elapsed:    1.1s\n",
      "[Parallel(n_jobs=-1)]: Done 2032 tasks      | elapsed:    8.0s\n",
      "[Parallel(n_jobs=-1)]: Done 2700 out of 2700 | elapsed:   10.6s finished\n",
      "C:\\Users\\lange\\Anaconda3\\lib\\site-packages\\sklearn\\model_selection\\_search.py:841: DeprecationWarning: The default of the `iid` parameter will change from True to False in version 0.22 and will be removed in 0.24. This will change numeric results when test-set sizes are unequal.\n",
      "  DeprecationWarning)\n"
     ]
    }
   ],
   "source": [
    "scores, xgb_tuned, xgb_tuned_params, xgb_accuracy = train_model(xgb.XGBClassifier, tuned_param_grid, scores, X_train, X_test, y_train, y_test, verbose=1)"
   ]
  },
  {
   "cell_type": "code",
   "execution_count": 61,
   "metadata": {
    "ExecuteTime": {
     "end_time": "2019-01-21T14:19:33.609171Z",
     "start_time": "2019-01-21T14:19:33.598216Z"
    }
   },
   "outputs": [
    {
     "name": "stdout",
     "output_type": "stream",
     "text": [
      "XGBClassifier works best (84.644%) with {'booster': 'gbtree', 'colsample_bytree': 0.9, 'learning_rate': 0.3, 'max_depth': 3, 'n_estimators': 12, 'reg_alpha': 0, 'reg_lambda': 0.45}\n"
     ]
    },
    {
     "data": {
      "text/html": [
       "<div>\n",
       "<style scoped>\n",
       "    .dataframe tbody tr th:only-of-type {\n",
       "        vertical-align: middle;\n",
       "    }\n",
       "\n",
       "    .dataframe tbody tr th {\n",
       "        vertical-align: top;\n",
       "    }\n",
       "\n",
       "    .dataframe thead th {\n",
       "        text-align: right;\n",
       "    }\n",
       "</style>\n",
       "<table border=\"1\" class=\"dataframe\">\n",
       "  <thead>\n",
       "    <tr style=\"text-align: right;\">\n",
       "      <th></th>\n",
       "      <th>Model</th>\n",
       "      <th>Estimator</th>\n",
       "      <th>Trial</th>\n",
       "      <th>Best Params</th>\n",
       "      <th>Accuracy Score</th>\n",
       "    </tr>\n",
       "  </thead>\n",
       "  <tbody>\n",
       "    <tr>\n",
       "      <th>0</th>\n",
       "      <td>XGBClassifier</td>\n",
       "      <td>XGBClassifier(base_score=0.5, booster='gbtree'...</td>\n",
       "      <td>1</td>\n",
       "      <td>{'learning_rate': 0.03, 'max_depth': 4, 'n_est...</td>\n",
       "      <td>84.831</td>\n",
       "    </tr>\n",
       "    <tr>\n",
       "      <th>6</th>\n",
       "      <td>XGBClassifier</td>\n",
       "      <td>XGBClassifier(base_score=0.5, booster='gbtree'...</td>\n",
       "      <td>2</td>\n",
       "      <td>{'booster': 'gbtree', 'colsample_bytree': 0.9,...</td>\n",
       "      <td>84.644</td>\n",
       "    </tr>\n",
       "    <tr>\n",
       "      <th>2</th>\n",
       "      <td>GradientBoostingClassifier</td>\n",
       "      <td>([DecisionTreeRegressor(criterion='friedman_ms...</td>\n",
       "      <td>1</td>\n",
       "      <td>{'learning_rate': 0.03, 'loss': 'exponential'}</td>\n",
       "      <td>84.270</td>\n",
       "    </tr>\n",
       "    <tr>\n",
       "      <th>1</th>\n",
       "      <td>AdaBoostClassifier</td>\n",
       "      <td>(DecisionTreeClassifier(class_weight=None, cri...</td>\n",
       "      <td>1</td>\n",
       "      <td>{'learning_rate': 0.1, 'n_estimators': 100}</td>\n",
       "      <td>83.708</td>\n",
       "    </tr>\n",
       "    <tr>\n",
       "      <th>5</th>\n",
       "      <td>GradientBoostingClassifier</td>\n",
       "      <td>([DecisionTreeRegressor(criterion='friedman_ms...</td>\n",
       "      <td>2</td>\n",
       "      <td>{'criterion': 'friedman_mse', 'learning_rate':...</td>\n",
       "      <td>82.584</td>\n",
       "    </tr>\n",
       "    <tr>\n",
       "      <th>3</th>\n",
       "      <td>RandomForestClassifier</td>\n",
       "      <td>(DecisionTreeClassifier(class_weight=None, cri...</td>\n",
       "      <td>1</td>\n",
       "      <td>{'criterion': 'entropy', 'max_features': 'log2...</td>\n",
       "      <td>81.835</td>\n",
       "    </tr>\n",
       "    <tr>\n",
       "      <th>4</th>\n",
       "      <td>DecisionTreeClassifier</td>\n",
       "      <td>DecisionTreeClassifier(class_weight=None, crit...</td>\n",
       "      <td>1</td>\n",
       "      <td>{}</td>\n",
       "      <td>80.337</td>\n",
       "    </tr>\n",
       "  </tbody>\n",
       "</table>\n",
       "</div>"
      ],
      "text/plain": [
       "                        Model  \\\n",
       "0               XGBClassifier   \n",
       "6               XGBClassifier   \n",
       "2  GradientBoostingClassifier   \n",
       "1          AdaBoostClassifier   \n",
       "5  GradientBoostingClassifier   \n",
       "3      RandomForestClassifier   \n",
       "4      DecisionTreeClassifier   \n",
       "\n",
       "                                           Estimator Trial  \\\n",
       "0  XGBClassifier(base_score=0.5, booster='gbtree'...     1   \n",
       "6  XGBClassifier(base_score=0.5, booster='gbtree'...     2   \n",
       "2  ([DecisionTreeRegressor(criterion='friedman_ms...     1   \n",
       "1  (DecisionTreeClassifier(class_weight=None, cri...     1   \n",
       "5  ([DecisionTreeRegressor(criterion='friedman_ms...     2   \n",
       "3  (DecisionTreeClassifier(class_weight=None, cri...     1   \n",
       "4  DecisionTreeClassifier(class_weight=None, crit...     1   \n",
       "\n",
       "                                         Best Params  Accuracy Score  \n",
       "0  {'learning_rate': 0.03, 'max_depth': 4, 'n_est...          84.831  \n",
       "6  {'booster': 'gbtree', 'colsample_bytree': 0.9,...          84.644  \n",
       "2     {'learning_rate': 0.03, 'loss': 'exponential'}          84.270  \n",
       "1        {'learning_rate': 0.1, 'n_estimators': 100}          83.708  \n",
       "5  {'criterion': 'friedman_mse', 'learning_rate':...          82.584  \n",
       "3  {'criterion': 'entropy', 'max_features': 'log2...          81.835  \n",
       "4                                                 {}          80.337  "
      ]
     },
     "execution_count": 61,
     "metadata": {},
     "output_type": "execute_result"
    }
   ],
   "source": [
    "print_results(xgb_tuned, xgb_tuned_params, xgb_accuracy, scores)"
   ]
  },
  {
   "cell_type": "markdown",
   "metadata": {},
   "source": [
    "### RandomForestClassifier"
   ]
  },
  {
   "cell_type": "code",
   "execution_count": 62,
   "metadata": {},
   "outputs": [
    {
     "name": "stdout",
     "output_type": "stream",
     "text": [
      "{'bootstrap': [True],\n",
      " 'criterion': ['entropy'],\n",
      " 'max_depth': [16, 17, 18, 19, 20, 21, 22, None],\n",
      " 'max_features': ['sqrt'],\n",
      " 'min_samples_leaf': [1],\n",
      " 'min_samples_split': [9, 10, 11],\n",
      " 'n_estimators': [1000, 1100, 1200, 1300, 1400, 1500, 1600]}\n"
     ]
    }
   ],
   "source": [
    "# Number of trees in random forest\n",
    "n_estimators = [int(x) for x in np.linspace(start = 1000, stop = 1600, num = 7)]\n",
    "# Number of features to consider at every split\n",
    "max_features = ['sqrt']\n",
    "# Maximum number of levels in tree\n",
    "max_depth = [int(x) for x in np.arange(16,23)]\n",
    "max_depth.append(None)\n",
    "# Minimum number of samples required to split a node\n",
    "min_samples_split = [int(x) for x in np.arange(9,12)]\n",
    "# Minimum number of samples required at each leaf node\n",
    "min_samples_leaf = [1]\n",
    "# Method of selecting samples for training each tree\n",
    "bootstrap = [True]\n",
    "criterion = ['entropy']\n",
    "\n",
    "tuned_param_grid = {'n_estimators': n_estimators,\n",
    "               'criterion': criterion,\n",
    "               'max_features': max_features,\n",
    "               'max_depth': max_depth,\n",
    "               'min_samples_split': min_samples_split,\n",
    "               'min_samples_leaf': min_samples_leaf,\n",
    "               'bootstrap': bootstrap}\n",
    "\n",
    "pprint(tuned_param_grid)"
   ]
  },
  {
   "cell_type": "code",
   "execution_count": 63,
   "metadata": {},
   "outputs": [
    {
     "name": "stdout",
     "output_type": "stream",
     "text": [
      "Training RandomForestClassifier...\n",
      "Fitting 5 folds for each of 168 candidates, totalling 840 fits\n"
     ]
    },
    {
     "name": "stderr",
     "output_type": "stream",
     "text": [
      "[Parallel(n_jobs=-1)]: Using backend LokyBackend with 8 concurrent workers.\n",
      "[Parallel(n_jobs=-1)]: Done  34 tasks      | elapsed:   18.0s\n",
      "[Parallel(n_jobs=-1)]: Done 184 tasks      | elapsed:  1.4min\n",
      "[Parallel(n_jobs=-1)]: Done 434 tasks      | elapsed:  3.4min\n",
      "[Parallel(n_jobs=-1)]: Done 784 tasks      | elapsed:  6.3min\n",
      "[Parallel(n_jobs=-1)]: Done 840 out of 840 | elapsed:  6.8min finished\n"
     ]
    }
   ],
   "source": [
    "scores, rf_tuned, rf_tuned_params, rf_accuracy = train_model(RandomForestClassifier, tuned_param_grid, scores, X_train, X_test, y_train, y_test, verbose=1)"
   ]
  },
  {
   "cell_type": "code",
   "execution_count": 64,
   "metadata": {},
   "outputs": [
    {
     "name": "stdout",
     "output_type": "stream",
     "text": [
      "RandomForestClassifier works best (84.082%) with {'bootstrap': True, 'criterion': 'entropy', 'max_depth': 18, 'max_features': 'sqrt', 'min_samples_leaf': 1, 'min_samples_split': 11, 'n_estimators': 1100}\n"
     ]
    },
    {
     "data": {
      "text/html": [
       "<div>\n",
       "<style scoped>\n",
       "    .dataframe tbody tr th:only-of-type {\n",
       "        vertical-align: middle;\n",
       "    }\n",
       "\n",
       "    .dataframe tbody tr th {\n",
       "        vertical-align: top;\n",
       "    }\n",
       "\n",
       "    .dataframe thead th {\n",
       "        text-align: right;\n",
       "    }\n",
       "</style>\n",
       "<table border=\"1\" class=\"dataframe\">\n",
       "  <thead>\n",
       "    <tr style=\"text-align: right;\">\n",
       "      <th></th>\n",
       "      <th>Model</th>\n",
       "      <th>Estimator</th>\n",
       "      <th>Trial</th>\n",
       "      <th>Best Params</th>\n",
       "      <th>Accuracy Score</th>\n",
       "    </tr>\n",
       "  </thead>\n",
       "  <tbody>\n",
       "    <tr>\n",
       "      <th>0</th>\n",
       "      <td>XGBClassifier</td>\n",
       "      <td>XGBClassifier(base_score=0.5, booster='gbtree'...</td>\n",
       "      <td>1</td>\n",
       "      <td>{'learning_rate': 0.03, 'max_depth': 4, 'n_est...</td>\n",
       "      <td>84.831</td>\n",
       "    </tr>\n",
       "    <tr>\n",
       "      <th>6</th>\n",
       "      <td>XGBClassifier</td>\n",
       "      <td>XGBClassifier(base_score=0.5, booster='gbtree'...</td>\n",
       "      <td>2</td>\n",
       "      <td>{'booster': 'gbtree', 'colsample_bytree': 0.9,...</td>\n",
       "      <td>84.644</td>\n",
       "    </tr>\n",
       "    <tr>\n",
       "      <th>2</th>\n",
       "      <td>GradientBoostingClassifier</td>\n",
       "      <td>([DecisionTreeRegressor(criterion='friedman_ms...</td>\n",
       "      <td>1</td>\n",
       "      <td>{'learning_rate': 0.03, 'loss': 'exponential'}</td>\n",
       "      <td>84.270</td>\n",
       "    </tr>\n",
       "    <tr>\n",
       "      <th>7</th>\n",
       "      <td>RandomForestClassifier</td>\n",
       "      <td>(DecisionTreeClassifier(class_weight=None, cri...</td>\n",
       "      <td>2</td>\n",
       "      <td>{'bootstrap': True, 'criterion': 'entropy', 'm...</td>\n",
       "      <td>84.082</td>\n",
       "    </tr>\n",
       "    <tr>\n",
       "      <th>1</th>\n",
       "      <td>AdaBoostClassifier</td>\n",
       "      <td>(DecisionTreeClassifier(class_weight=None, cri...</td>\n",
       "      <td>1</td>\n",
       "      <td>{'learning_rate': 0.1, 'n_estimators': 100}</td>\n",
       "      <td>83.708</td>\n",
       "    </tr>\n",
       "    <tr>\n",
       "      <th>5</th>\n",
       "      <td>GradientBoostingClassifier</td>\n",
       "      <td>([DecisionTreeRegressor(criterion='friedman_ms...</td>\n",
       "      <td>2</td>\n",
       "      <td>{'criterion': 'friedman_mse', 'learning_rate':...</td>\n",
       "      <td>82.584</td>\n",
       "    </tr>\n",
       "    <tr>\n",
       "      <th>3</th>\n",
       "      <td>RandomForestClassifier</td>\n",
       "      <td>(DecisionTreeClassifier(class_weight=None, cri...</td>\n",
       "      <td>1</td>\n",
       "      <td>{'criterion': 'entropy', 'max_features': 'log2...</td>\n",
       "      <td>81.835</td>\n",
       "    </tr>\n",
       "    <tr>\n",
       "      <th>4</th>\n",
       "      <td>DecisionTreeClassifier</td>\n",
       "      <td>DecisionTreeClassifier(class_weight=None, crit...</td>\n",
       "      <td>1</td>\n",
       "      <td>{}</td>\n",
       "      <td>80.337</td>\n",
       "    </tr>\n",
       "  </tbody>\n",
       "</table>\n",
       "</div>"
      ],
      "text/plain": [
       "                        Model  \\\n",
       "0               XGBClassifier   \n",
       "6               XGBClassifier   \n",
       "2  GradientBoostingClassifier   \n",
       "7      RandomForestClassifier   \n",
       "1          AdaBoostClassifier   \n",
       "5  GradientBoostingClassifier   \n",
       "3      RandomForestClassifier   \n",
       "4      DecisionTreeClassifier   \n",
       "\n",
       "                                           Estimator Trial  \\\n",
       "0  XGBClassifier(base_score=0.5, booster='gbtree'...     1   \n",
       "6  XGBClassifier(base_score=0.5, booster='gbtree'...     2   \n",
       "2  ([DecisionTreeRegressor(criterion='friedman_ms...     1   \n",
       "7  (DecisionTreeClassifier(class_weight=None, cri...     2   \n",
       "1  (DecisionTreeClassifier(class_weight=None, cri...     1   \n",
       "5  ([DecisionTreeRegressor(criterion='friedman_ms...     2   \n",
       "3  (DecisionTreeClassifier(class_weight=None, cri...     1   \n",
       "4  DecisionTreeClassifier(class_weight=None, crit...     1   \n",
       "\n",
       "                                         Best Params  Accuracy Score  \n",
       "0  {'learning_rate': 0.03, 'max_depth': 4, 'n_est...          84.831  \n",
       "6  {'booster': 'gbtree', 'colsample_bytree': 0.9,...          84.644  \n",
       "2     {'learning_rate': 0.03, 'loss': 'exponential'}          84.270  \n",
       "7  {'bootstrap': True, 'criterion': 'entropy', 'm...          84.082  \n",
       "1        {'learning_rate': 0.1, 'n_estimators': 100}          83.708  \n",
       "5  {'criterion': 'friedman_mse', 'learning_rate':...          82.584  \n",
       "3  {'criterion': 'entropy', 'max_features': 'log2...          81.835  \n",
       "4                                                 {}          80.337  "
      ]
     },
     "execution_count": 64,
     "metadata": {},
     "output_type": "execute_result"
    }
   ],
   "source": [
    "print_results(rf_tuned, rf_tuned_params, rf_accuracy, scores)"
   ]
  },
  {
   "cell_type": "markdown",
   "metadata": {},
   "source": [
    "# Making Predictions"
   ]
  },
  {
   "cell_type": "code",
   "execution_count": 66,
   "metadata": {
    "ExecuteTime": {
     "end_time": "2019-01-21T14:47:31.441162Z",
     "start_time": "2019-01-21T14:47:31.412237Z"
    }
   },
   "outputs": [
    {
     "data": {
      "text/html": [
       "<div>\n",
       "<style scoped>\n",
       "    .dataframe tbody tr th:only-of-type {\n",
       "        vertical-align: middle;\n",
       "    }\n",
       "\n",
       "    .dataframe tbody tr th {\n",
       "        vertical-align: top;\n",
       "    }\n",
       "\n",
       "    .dataframe thead th {\n",
       "        text-align: right;\n",
       "    }\n",
       "</style>\n",
       "<table border=\"1\" class=\"dataframe\">\n",
       "  <thead>\n",
       "    <tr style=\"text-align: right;\">\n",
       "      <th></th>\n",
       "      <th>Model</th>\n",
       "      <th>Trial</th>\n",
       "      <th>Best Params</th>\n",
       "      <th>Accuracy Score</th>\n",
       "    </tr>\n",
       "  </thead>\n",
       "  <tbody>\n",
       "    <tr>\n",
       "      <th>4</th>\n",
       "      <td>XGBClassifier</td>\n",
       "      <td>2</td>\n",
       "      <td>{'learning_rate': 0.03, 'max_depth': 4, 'n_est...</td>\n",
       "      <td>84.831</td>\n",
       "    </tr>\n",
       "    <tr>\n",
       "      <th>2</th>\n",
       "      <td>GradientBoostingClassifier</td>\n",
       "      <td>2</td>\n",
       "      <td>{'learning_rate': 0.03, 'loss': 'exponential'}</td>\n",
       "      <td>84.270</td>\n",
       "    </tr>\n",
       "    <tr>\n",
       "      <th>3</th>\n",
       "      <td>RandomForestClassifier</td>\n",
       "      <td>2</td>\n",
       "      <td>{'criterion': 'entropy', 'max_features': 'log2...</td>\n",
       "      <td>84.082</td>\n",
       "    </tr>\n",
       "    <tr>\n",
       "      <th>0</th>\n",
       "      <td>AdaBoostClassifier</td>\n",
       "      <td>1</td>\n",
       "      <td>{'learning_rate': 0.1, 'n_estimators': 100}</td>\n",
       "      <td>83.708</td>\n",
       "    </tr>\n",
       "    <tr>\n",
       "      <th>1</th>\n",
       "      <td>DecisionTreeClassifier</td>\n",
       "      <td>1</td>\n",
       "      <td>{}</td>\n",
       "      <td>80.337</td>\n",
       "    </tr>\n",
       "  </tbody>\n",
       "</table>\n",
       "</div>"
      ],
      "text/plain": [
       "                        Model  Trial  \\\n",
       "4               XGBClassifier      2   \n",
       "2  GradientBoostingClassifier      2   \n",
       "3      RandomForestClassifier      2   \n",
       "0          AdaBoostClassifier      1   \n",
       "1      DecisionTreeClassifier      1   \n",
       "\n",
       "                                         Best Params  Accuracy Score  \n",
       "4  {'learning_rate': 0.03, 'max_depth': 4, 'n_est...          84.831  \n",
       "2     {'learning_rate': 0.03, 'loss': 'exponential'}          84.270  \n",
       "3  {'criterion': 'entropy', 'max_features': 'log2...          84.082  \n",
       "0        {'learning_rate': 0.1, 'n_estimators': 100}          83.708  \n",
       "1                                                 {}          80.337  "
      ]
     },
     "execution_count": 66,
     "metadata": {},
     "output_type": "execute_result"
    }
   ],
   "source": [
    "scores.groupby('Model', as_index=False).max().sort_values('Accuracy Score', ascending=False)"
   ]
  },
  {
   "cell_type": "code",
   "execution_count": 71,
   "metadata": {},
   "outputs": [],
   "source": [
    "best_model = xgb_tuned"
   ]
  },
  {
   "cell_type": "code",
   "execution_count": 72,
   "metadata": {
    "ExecuteTime": {
     "end_time": "2019-01-21T14:48:11.148871Z",
     "start_time": "2019-01-21T14:48:11.130920Z"
    }
   },
   "outputs": [],
   "source": [
    "y_pred_test = best_model.predict(X_test)\n",
    "y_pred_valid = best_model.predict(test_df[features])\n",
    "submission = pd.DataFrame({\n",
    "        \"PassengerId\": test_df[\"PassengerId\"],\n",
    "        \"Survived\": y_pred_valid\n",
    "    })\n",
    "submission.to_csv('submission.csv', index=False)"
   ]
  },
  {
   "cell_type": "code",
   "execution_count": 74,
   "metadata": {},
   "outputs": [],
   "source": [
    "from sklearn import metrics"
   ]
  },
  {
   "cell_type": "code",
   "execution_count": 75,
   "metadata": {},
   "outputs": [
    {
     "name": "stdout",
     "output_type": "stream",
     "text": [
      "Train set\n",
      "              precision    recall  f1-score   support\n",
      "\n",
      "           0       0.85      0.94      0.90       333\n",
      "           1       0.89      0.73      0.80       201\n",
      "\n",
      "   micro avg       0.86      0.86      0.86       534\n",
      "   macro avg       0.87      0.84      0.85       534\n",
      "weighted avg       0.87      0.86      0.86       534\n",
      "\n",
      "Test set\n",
      "0.7662835249042146\n"
     ]
    }
   ],
   "source": [
    "print('Train set')\n",
    "print(metrics.classification_report(y_train, best_model.predict(X_train)))\n",
    "print('Test set')\n",
    "print(metrics.f1_score(y_test, y_pred_test))"
   ]
  },
  {
   "cell_type": "code",
   "execution_count": null,
   "metadata": {},
   "outputs": [],
   "source": []
  }
 ],
 "metadata": {
  "kernelspec": {
   "display_name": "Python 3",
   "language": "python",
   "name": "python3"
  },
  "language_info": {
   "codemirror_mode": {
    "name": "ipython",
    "version": 3
   },
   "file_extension": ".py",
   "mimetype": "text/x-python",
   "name": "python",
   "nbconvert_exporter": "python",
   "pygments_lexer": "ipython3",
   "version": "3.7.2"
  },
  "toc": {
   "base_numbering": 1,
   "nav_menu": {},
   "number_sections": true,
   "sideBar": true,
   "skip_h1_title": false,
   "title_cell": "Table of Contents",
   "title_sidebar": "Contents",
   "toc_cell": true,
   "toc_position": {},
   "toc_section_display": true,
   "toc_window_display": false
  }
 },
 "nbformat": 4,
 "nbformat_minor": 2
}
